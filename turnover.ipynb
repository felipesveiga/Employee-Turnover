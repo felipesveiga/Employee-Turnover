{
 "cells": [
  {
   "cell_type": "code",
   "execution_count": null,
   "id": "8325828f-9431-4fbd-ae39-7d9296ceb395",
   "metadata": {},
   "outputs": [],
   "source": [
    "# Parei a revisão em \"Checking out the potential quitting outliers from the IT department \""
   ]
  },
  {
   "cell_type": "markdown",
   "id": "d7780b10-263b-4314-a285-edad9d33948b",
   "metadata": {},
   "source": [
    "<h1 style='font-size:40px'> Employee Turnover Predicting Model</h1>\n",
    "<div> \n",
    "    <ul style='font-size:20px'> \n",
    "        <li> \n",
    "            This project aims to build a binary classifier that correctly predicts if a given employee is going to stay or quit the company.\n",
    "        </li>\n",
    "        <li> \n",
    "            The dataset used was encountered in a <a href='https://www.coursera.org/projects/employee-turnover-scikit-learn'>Coursera Guided Project</a>. Nonetheless, I've decided to produce my own solution to the case, which is different from the platform instructor's.\n",
    "        </li>\n",
    "    </ul>\n",
    "</div>"
   ]
  },
  {
   "cell_type": "markdown",
   "id": "f2df81f6-cc7c-4f5d-b091-d38719ef21f7",
   "metadata": {},
   "source": [
    "<h2 style='font-size:30px'> Loading the Data</h2>"
   ]
  },
  {
   "cell_type": "code",
   "execution_count": 1,
   "id": "915996e6-a37d-43a1-b66a-4aa3d34031fb",
   "metadata": {},
   "outputs": [
    {
     "data": {
      "text/html": [
       "<div>\n",
       "<style scoped>\n",
       "    .dataframe tbody tr th:only-of-type {\n",
       "        vertical-align: middle;\n",
       "    }\n",
       "\n",
       "    .dataframe tbody tr th {\n",
       "        vertical-align: top;\n",
       "    }\n",
       "\n",
       "    .dataframe thead th {\n",
       "        text-align: right;\n",
       "    }\n",
       "</style>\n",
       "<table border=\"1\" class=\"dataframe\">\n",
       "  <thead>\n",
       "    <tr style=\"text-align: right;\">\n",
       "      <th></th>\n",
       "      <th>satisfaction_level</th>\n",
       "      <th>last_evaluation</th>\n",
       "      <th>number_project</th>\n",
       "      <th>average_montly_hours</th>\n",
       "      <th>time_spend_company</th>\n",
       "      <th>Work_accident</th>\n",
       "      <th>quit</th>\n",
       "      <th>promotion_last_5years</th>\n",
       "      <th>department</th>\n",
       "      <th>salary</th>\n",
       "    </tr>\n",
       "  </thead>\n",
       "  <tbody>\n",
       "    <tr>\n",
       "      <th>0</th>\n",
       "      <td>0.38</td>\n",
       "      <td>0.53</td>\n",
       "      <td>2</td>\n",
       "      <td>157</td>\n",
       "      <td>3</td>\n",
       "      <td>0</td>\n",
       "      <td>1</td>\n",
       "      <td>0</td>\n",
       "      <td>sales</td>\n",
       "      <td>low</td>\n",
       "    </tr>\n",
       "    <tr>\n",
       "      <th>1</th>\n",
       "      <td>0.80</td>\n",
       "      <td>0.86</td>\n",
       "      <td>5</td>\n",
       "      <td>262</td>\n",
       "      <td>6</td>\n",
       "      <td>0</td>\n",
       "      <td>1</td>\n",
       "      <td>0</td>\n",
       "      <td>sales</td>\n",
       "      <td>medium</td>\n",
       "    </tr>\n",
       "    <tr>\n",
       "      <th>2</th>\n",
       "      <td>0.11</td>\n",
       "      <td>0.88</td>\n",
       "      <td>7</td>\n",
       "      <td>272</td>\n",
       "      <td>4</td>\n",
       "      <td>0</td>\n",
       "      <td>1</td>\n",
       "      <td>0</td>\n",
       "      <td>sales</td>\n",
       "      <td>medium</td>\n",
       "    </tr>\n",
       "    <tr>\n",
       "      <th>3</th>\n",
       "      <td>0.72</td>\n",
       "      <td>0.87</td>\n",
       "      <td>5</td>\n",
       "      <td>223</td>\n",
       "      <td>5</td>\n",
       "      <td>0</td>\n",
       "      <td>1</td>\n",
       "      <td>0</td>\n",
       "      <td>sales</td>\n",
       "      <td>low</td>\n",
       "    </tr>\n",
       "    <tr>\n",
       "      <th>4</th>\n",
       "      <td>0.37</td>\n",
       "      <td>0.52</td>\n",
       "      <td>2</td>\n",
       "      <td>159</td>\n",
       "      <td>3</td>\n",
       "      <td>0</td>\n",
       "      <td>1</td>\n",
       "      <td>0</td>\n",
       "      <td>sales</td>\n",
       "      <td>low</td>\n",
       "    </tr>\n",
       "  </tbody>\n",
       "</table>\n",
       "</div>"
      ],
      "text/plain": [
       "   satisfaction_level  last_evaluation  number_project  average_montly_hours  \\\n",
       "0                0.38             0.53               2                   157   \n",
       "1                0.80             0.86               5                   262   \n",
       "2                0.11             0.88               7                   272   \n",
       "3                0.72             0.87               5                   223   \n",
       "4                0.37             0.52               2                   159   \n",
       "\n",
       "   time_spend_company  Work_accident  quit  promotion_last_5years department  \\\n",
       "0                   3              0     1                      0      sales   \n",
       "1                   6              0     1                      0      sales   \n",
       "2                   4              0     1                      0      sales   \n",
       "3                   5              0     1                      0      sales   \n",
       "4                   3              0     1                      0      sales   \n",
       "\n",
       "   salary  \n",
       "0     low  \n",
       "1  medium  \n",
       "2  medium  \n",
       "3     low  \n",
       "4     low  "
      ]
     },
     "execution_count": 1,
     "metadata": {},
     "output_type": "execute_result"
    }
   ],
   "source": [
    "import pandas as pd\n",
    "import numpy as np\n",
    "\n",
    "# Since I am looking to create more columns to the DF, I'll modify the maximum number of columns that can be displayed.\n",
    "pd.set_option('max_columns', None)\n",
    "\n",
    "# Importing the employee data.\n",
    "employee_data = pd.read_csv('employee_data.csv')\n",
    "employee_data.head()"
   ]
  },
  {
   "cell_type": "code",
   "execution_count": 2,
   "id": "ec78508b-3925-4b7e-b26f-94909c899ac6",
   "metadata": {},
   "outputs": [
    {
     "name": "stdout",
     "output_type": "stream",
     "text": [
      "<class 'pandas.core.frame.DataFrame'>\n",
      "RangeIndex: 14999 entries, 0 to 14998\n",
      "Data columns (total 10 columns):\n",
      " #   Column                 Non-Null Count  Dtype  \n",
      "---  ------                 --------------  -----  \n",
      " 0   satisfaction_level     14999 non-null  float64\n",
      " 1   last_evaluation        14999 non-null  float64\n",
      " 2   number_project         14999 non-null  int64  \n",
      " 3   average_montly_hours   14999 non-null  int64  \n",
      " 4   time_spend_company     14999 non-null  int64  \n",
      " 5   Work_accident          14999 non-null  int64  \n",
      " 6   quit                   14999 non-null  int64  \n",
      " 7   promotion_last_5years  14999 non-null  int64  \n",
      " 8   department             14999 non-null  object \n",
      " 9   salary                 14999 non-null  object \n",
      "dtypes: float64(2), int64(6), object(2)\n",
      "memory usage: 1.1+ MB\n"
     ]
    }
   ],
   "source": [
    "# Searching for anomalies in the DataFrame. All features do not present any null value and have its proper data type assigned.\n",
    "employee_data.info()"
   ]
  },
  {
   "cell_type": "code",
   "execution_count": 3,
   "id": "eb771a07-37e5-40ed-8023-25c20b92eda8",
   "metadata": {},
   "outputs": [
    {
     "data": {
      "image/png": "[encoded data removed]",
      "text/plain": [
       "<Figure size 720x360 with 9 Axes>"
      ]
     },
     "metadata": {
      "needs_background": "light"
     },
     "output_type": "display_data"
    }
   ],
   "source": [
    "# Plotting a histograms frame looking for outliers.\n",
    "import matplotlib.pyplot as plt\n",
    "employee_data.hist(bins=20, figsize=(10,5));\n",
    "plt.tight_layout()"
   ]
  },
  {
   "cell_type": "markdown",
   "id": "72d5faf1-a688-4f51-b3ec-030c28f09ff0",
   "metadata": {},
   "source": [
    "<div> \n",
    "    <ul style='font-size:20px'> \n",
    "        <li> \n",
    "            The number of people who've spent more than 7 years in the enterprise looks proportionately very small. It could be a potential indicator for disconsidering them in model training. However, it is worth to consider that keeping experienced workers is often a healthy attitude for the corporation since they can guide the younger ones during daily tasks and projects.\n",
    "        </li>\n",
    "        <li> \n",
    "            Also, it is important to acknowledge that we are dealing with a dataset with an unbalanced quantity of target values. The great amount of 0's will likely make it easier for the models to correctly identify them. On the other hand, the lower number of 1's requires a higher efficiency of the algorithms to apprehend the patterns among the class' instances.\n",
    "        </li>\n",
    "    </ul>\n",
    "</div>"
   ]
  },
  {
   "cell_type": "markdown",
   "id": "127874a9-fd0e-416b-b6df-5162af708472",
   "metadata": {},
   "source": [
    "<h2 style='font-size:30px'> Training and Test Sets</h2>\n",
    "<div> \n",
    "    <ul style='font-size:20px'> \n",
    "        <li> \n",
    "            Since salary is one of the main aspects considered whenever someone is deciding to stay or leave their enterprise, I'll attempt to maintain the proportions of such feature. Fortunately, it is already labeled with categories so we don't need to encode any of its values.\n",
    "        </li>\n",
    "    </ul>\n",
    "</div>"
   ]
  },
  {
   "cell_type": "code",
   "execution_count": 5,
   "id": "d7fac1ab-397b-437c-9fe0-58ebc0db6066",
   "metadata": {},
   "outputs": [],
   "source": [
    "from sklearn.model_selection import StratifiedShuffleSplit\n",
    "split = StratifiedShuffleSplit(n_splits=1, test_size=0.2, random_state=42)\n",
    "for train_index, test_index in split.split(employee_data, employee_data.salary):\n",
    "    train = employee_data.loc[train_index]\n",
    "    test = employee_data.loc[test_index]"
   ]
  },
  {
   "cell_type": "markdown",
   "id": "e4c0c630-21d1-444f-b455-a3b42d1caca6",
   "metadata": {},
   "source": [
    "<h2 style='font-size:30px'> Exploratory Analysis on the Training Data</h2>"
   ]
  },
  {
   "cell_type": "markdown",
   "id": "76c44923-2ee7-4ae9-933c-cd29198c4cbd",
   "metadata": {},
   "source": [
    "<h3 style='font-size:30px;font-style:italic'> Adding new stats</h3>\n",
    "<div> \n",
    "    <ul style='font-size:20px'> \n",
    "        <li> \n",
    "            Before diving into the data examination, it is interesting to use the data we already have in order to generate new stats that might be prove useful to our models.\n",
    "        </li>\n",
    "        <li> \n",
    "            The new columns to be added are:\n",
    "            <ul style='list-style-type:lower-alpha'>\n",
    "                <li> No of projects per years of work.</li>\n",
    "                <li> Harmonic mean between the satisfaction levels and last evaluation.</li>\n",
    "            </ul>\n",
    "        </li>\n",
    "    </ul>\n",
    "</div>"
   ]
  },
  {
   "cell_type": "code",
   "execution_count": 6,
   "id": "7d731bfb-bc8f-4222-b201-b257df8a1a9f",
   "metadata": {},
   "outputs": [],
   "source": [
    "from scipy.stats import hmean\n",
    "train['number_project_per_time_spend'] = train.number_project / train.time_spend_company\n",
    "\n",
    "# Using harmonic mean can highlight possible discrepancies between the values. For instance, a given worker might be very unsatisfied (0.2)\n",
    "# with the company, whereas their boss and team exceedingly enjoy working with them (0.9).\n",
    "\n",
    "# We'll name this stat as 'reciprocity_degree'\n",
    "train['reciprocity_degree'] = hmean([train.satisfaction_level, train.last_evaluation])"
   ]
  },
  {
   "cell_type": "markdown",
   "id": "4fb8824f-6f71-4f6a-9cd4-ee85b14f4296",
   "metadata": {},
   "source": [
    "<h3 style='font-size:30px;font-style:italic'> Densities of staying or quitting occurences according to satisfaction and salary</h3>\n",
    "<div> \n",
    "    <ul style='font-size:20px'> \n",
    "        <li> \n",
    "            The violin plot below exposes, among every salary category, the densities of quitting and staying occurences for every satisfaction degree measured.\n",
    "        </li>\n",
    "        <li> \n",
    "            In all cases, employees with contentment levels lower than 50% tend to abandon the company.\n",
    "        </li>\n",
    "    </ul>\n",
    "</div>"
   ]
  },
  {
   "cell_type": "code",
   "execution_count": 7,
   "id": "de64b8d8-e0c5-4248-ad1e-10108cee67ae",
   "metadata": {},
   "outputs": [
    {
     "data": {
      "text/plain": [
       "<AxesSubplot:xlabel='salary', ylabel='satisfaction_level'>"
      ]
     },
     "execution_count": 7,
     "metadata": {},
     "output_type": "execute_result"
    },
    {
     "data": {
      "image/png": "[encoded data removed]",
      "text/plain": [
       "<Figure size 432x288 with 1 Axes>"
      ]
     },
     "metadata": {
      "needs_background": "light"
     },
     "output_type": "display_data"
    }
   ],
   "source": [
    "import seaborn as sns\n",
    "sns.violinplot(data=train, x='salary', y='satisfaction_level', hue='quit',split=True, order=['low', 'medium', 'high'])"
   ]
  },
  {
   "cell_type": "markdown",
   "id": "193ca00c-fb09-43fb-8641-e7395422a32e",
   "metadata": {},
   "source": [
    "<h3 style='font-size:30px;font-style:italic'> Reciprocity scores per Department and Salary</h3>\n",
    "<div> \n",
    "    <ul style='font-size:20px'> \n",
    "        <li> \n",
    "            Now, we are zooming in the analysis about salary and satisfaction scores adding the Department feature.\n",
    "        </li>\n",
    "    </ul>\n",
    "</div>"
   ]
  },
  {
   "cell_type": "code",
   "execution_count": 8,
   "id": "c930f666-004a-4b2a-b271-cc91fd318782",
   "metadata": {},
   "outputs": [],
   "source": [
    "# Segregating the employees who've quitted and still work in the company.\n",
    "only_0=train[train.quit==0]\n",
    "only_1=train[train.quit==1]"
   ]
  },
  {
   "cell_type": "code",
   "execution_count": 9,
   "id": "270e56be-6fd9-496a-bbaa-db84e761ec24",
   "metadata": {},
   "outputs": [],
   "source": [
    "# Sorting the pivot tables by 'hr' and 'support' so the index order could be ['low', 'medium', 'high'].\n",
    "recip0 = pd.pivot_table(data = only_0, index='salary', columns='department', values='reciprocity_degree').sort_values(by='hr')\n",
    "recip1 = pd.pivot_table(data = only_1, index='salary', columns='department', values='reciprocity_degree').sort_values(by='support')"
   ]
  },
  {
   "cell_type": "code",
   "execution_count": 10,
   "id": "36e44777-b43d-4352-90bf-810ef926a8c8",
   "metadata": {},
   "outputs": [
    {
     "data": {
      "text/plain": [
       "Text(767.7272727272725, 0.5, '')"
      ]
     },
     "execution_count": 10,
     "metadata": {},
     "output_type": "execute_result"
    },
    {
     "data": {
      "text/plain": [
       "<Figure size 720x288 with 0 Axes>"
      ]
     },
     "metadata": {},
     "output_type": "display_data"
    },
    {
     "data": {
      "image/png": "[encoded data removed]",
      "text/plain": [
       "<Figure size 1440x360 with 4 Axes>"
      ]
     },
     "metadata": {
      "needs_background": "light"
     },
     "output_type": "display_data"
    }
   ],
   "source": [
    "import seaborn as sns\n",
    "plt.figure(figsize=(10,4))\n",
    "plt.figure(figsize=(20,5))\n",
    "plt.subplot(121)\n",
    "sns.heatmap(recip0, cmap='Blues', annot=True)\n",
    "plt.xlabel(None)\n",
    "plt.ylabel(None)\n",
    "plt.title('Stayed')\n",
    "plt.subplot(122)\n",
    "sns.heatmap(recip1, cmap='Blues', annot=True)\n",
    "plt.title('Quit')\n",
    "plt.xlabel(None)\n",
    "plt.ylabel(None)"
   ]
  },
  {
   "cell_type": "markdown",
   "id": "5033662e-512e-45c2-85a7-46f8c01593c5",
   "metadata": {},
   "source": [
    "<div> \n",
    "    <ul style='font-size:20px'> \n",
    "        <li> \n",
    "            There are some pretty interesting insights on both heatmaps. People with high incomes from IT and Support areas who've left their jobs actually had a pretty decent reciprocity levels. They were probably glad with their roles so as their team was with their performance. So what could possibly persuade them to leave?\n",
    "        </li>\n",
    "    </ul>\n",
    "</div>"
   ]
  },
  {
   "cell_type": "markdown",
   "id": "f3adbabe-d939-430b-8378-1f12fe71c91b",
   "metadata": {},
   "source": [
    "<h4 style='font-size:30px;font-style:italic;text-decoration:underline'>Checking out the potential quitting outliers from the IT department </h4>\n",
    "<div> \n",
    "    <ul style='font-size:20px'> \n",
    "        <li> \n",
    "            Here, we can see the reason for the high reciprocity levels for the IT area. Two of its leaving workers had some pretty high scores.\n",
    "        </li>\n",
    "        <li> \n",
    "            Since it is unusual for someone in that condition to decide to leave the company, it is necessary to analyze whether we can find another reason for the departure. If not, we'll consider those employees as noise in the data.\n",
    "        </li>\n",
    "    </ul>\n",
    "</div>"
   ]
  },
  {
   "cell_type": "code",
   "execution_count": 11,
   "id": "83b8548e-3b40-4498-bb63-2ceadee3bc10",
   "metadata": {},
   "outputs": [
    {
     "data": {
      "text/html": [
       "<div>\n",
       "<style scoped>\n",
       "    .dataframe tbody tr th:only-of-type {\n",
       "        vertical-align: middle;\n",
       "    }\n",
       "\n",
       "    .dataframe tbody tr th {\n",
       "        vertical-align: top;\n",
       "    }\n",
       "\n",
       "    .dataframe thead th {\n",
       "        text-align: right;\n",
       "    }\n",
       "</style>\n",
       "<table border=\"1\" class=\"dataframe\">\n",
       "  <thead>\n",
       "    <tr style=\"text-align: right;\">\n",
       "      <th></th>\n",
       "      <th>satisfaction_level</th>\n",
       "      <th>last_evaluation</th>\n",
       "      <th>number_project</th>\n",
       "      <th>average_montly_hours</th>\n",
       "      <th>time_spend_company</th>\n",
       "      <th>Work_accident</th>\n",
       "      <th>quit</th>\n",
       "      <th>promotion_last_5years</th>\n",
       "      <th>department</th>\n",
       "      <th>salary</th>\n",
       "      <th>number_project_per_time_spend</th>\n",
       "      <th>reciprocity_degree</th>\n",
       "    </tr>\n",
       "  </thead>\n",
       "  <tbody>\n",
       "    <tr>\n",
       "      <th>1281</th>\n",
       "      <td>0.75</td>\n",
       "      <td>0.88</td>\n",
       "      <td>5</td>\n",
       "      <td>270</td>\n",
       "      <td>5</td>\n",
       "      <td>0</td>\n",
       "      <td>1</td>\n",
       "      <td>0</td>\n",
       "      <td>IT</td>\n",
       "      <td>high</td>\n",
       "      <td>1.000000</td>\n",
       "      <td>0.809816</td>\n",
       "    </tr>\n",
       "    <tr>\n",
       "      <th>1515</th>\n",
       "      <td>0.72</td>\n",
       "      <td>0.99</td>\n",
       "      <td>5</td>\n",
       "      <td>257</td>\n",
       "      <td>5</td>\n",
       "      <td>0</td>\n",
       "      <td>1</td>\n",
       "      <td>0</td>\n",
       "      <td>IT</td>\n",
       "      <td>high</td>\n",
       "      <td>1.000000</td>\n",
       "      <td>0.833684</td>\n",
       "    </tr>\n",
       "    <tr>\n",
       "      <th>1359</th>\n",
       "      <td>0.46</td>\n",
       "      <td>0.46</td>\n",
       "      <td>2</td>\n",
       "      <td>145</td>\n",
       "      <td>3</td>\n",
       "      <td>0</td>\n",
       "      <td>1</td>\n",
       "      <td>0</td>\n",
       "      <td>IT</td>\n",
       "      <td>high</td>\n",
       "      <td>0.666667</td>\n",
       "      <td>0.460000</td>\n",
       "    </tr>\n",
       "    <tr>\n",
       "      <th>1437</th>\n",
       "      <td>0.40</td>\n",
       "      <td>0.53</td>\n",
       "      <td>2</td>\n",
       "      <td>155</td>\n",
       "      <td>3</td>\n",
       "      <td>0</td>\n",
       "      <td>1</td>\n",
       "      <td>0</td>\n",
       "      <td>IT</td>\n",
       "      <td>high</td>\n",
       "      <td>0.666667</td>\n",
       "      <td>0.455914</td>\n",
       "    </tr>\n",
       "  </tbody>\n",
       "</table>\n",
       "</div>"
      ],
      "text/plain": [
       "      satisfaction_level  last_evaluation  number_project  \\\n",
       "1281                0.75             0.88               5   \n",
       "1515                0.72             0.99               5   \n",
       "1359                0.46             0.46               2   \n",
       "1437                0.40             0.53               2   \n",
       "\n",
       "      average_montly_hours  time_spend_company  Work_accident  quit  \\\n",
       "1281                   270                   5              0     1   \n",
       "1515                   257                   5              0     1   \n",
       "1359                   145                   3              0     1   \n",
       "1437                   155                   3              0     1   \n",
       "\n",
       "      promotion_last_5years department salary  number_project_per_time_spend  \\\n",
       "1281                      0         IT   high                       1.000000   \n",
       "1515                      0         IT   high                       1.000000   \n",
       "1359                      0         IT   high                       0.666667   \n",
       "1437                      0         IT   high                       0.666667   \n",
       "\n",
       "      reciprocity_degree  \n",
       "1281            0.809816  \n",
       "1515            0.833684  \n",
       "1359            0.460000  \n",
       "1437            0.455914  "
      ]
     },
     "execution_count": 11,
     "metadata": {},
     "output_type": "execute_result"
    }
   ],
   "source": [
    "# Checking out the potential quitting outliers from the IT department. There are two people with reciprocity levels higher than 0.8\n",
    "quit_it = only_1[(only_1['department']=='IT') & (only_1['salary']=='high')]\n",
    "quit_it"
   ]
  },
  {
   "cell_type": "code",
   "execution_count": 12,
   "id": "73f4c535-601d-4c92-b33b-efdcea7bc80d",
   "metadata": {},
   "outputs": [
    {
     "name": "stderr",
     "output_type": "stream",
     "text": [
      "/tmp/ipykernel_141558/2561073071.py:1: FutureWarning: Dropping of nuisance columns in DataFrame reductions (with 'numeric_only=None') is deprecated; in a future version this will raise TypeError.  Select only valid columns before calling the reduction.\n",
      "  quit_it[quit_it['reciprocity_degree']>0.8].mean()\n"
     ]
    },
    {
     "data": {
      "text/plain": [
       "satisfaction_level                 0.73500\n",
       "last_evaluation                    0.93500\n",
       "number_project                     5.00000\n",
       "average_montly_hours             263.50000\n",
       "time_spend_company                 5.00000\n",
       "Work_accident                      0.00000\n",
       "quit                               1.00000\n",
       "promotion_last_5years              0.00000\n",
       "number_project_per_time_spend      1.00000\n",
       "reciprocity_degree                 0.82175\n",
       "dtype: float64"
      ]
     },
     "execution_count": 12,
     "metadata": {},
     "output_type": "execute_result"
    }
   ],
   "source": [
    "# Extracting the mean of the features from the quitting workers.\n",
    "quit_it[quit_it['reciprocity_degree']>0.8].mean()"
   ]
  },
  {
   "cell_type": "code",
   "execution_count": 13,
   "id": "1d962c5c-a1c8-4a16-9033-9d570955c82f",
   "metadata": {},
   "outputs": [
    {
     "name": "stderr",
     "output_type": "stream",
     "text": [
      "/tmp/ipykernel_141558/4191362253.py:3: FutureWarning: Dropping of nuisance columns in DataFrame reductions (with 'numeric_only=None') is deprecated; in a future version this will raise TypeError.  Select only valid columns before calling the reduction.\n",
      "  only_0[(only_0['department']=='IT') & (only_0['salary']=='high') & (only_0['reciprocity_degree']>0.8)].mean()\n"
     ]
    },
    {
     "data": {
      "text/plain": [
       "satisfaction_level                 0.925000\n",
       "last_evaluation                    0.805000\n",
       "number_project                     3.625000\n",
       "average_montly_hours             198.250000\n",
       "time_spend_company                 3.000000\n",
       "Work_accident                      0.125000\n",
       "quit                               0.000000\n",
       "promotion_last_5years              0.000000\n",
       "number_project_per_time_spend      1.291667\n",
       "reciprocity_degree                 0.857455\n",
       "dtype: float64"
      ]
     },
     "execution_count": 13,
     "metadata": {},
     "output_type": "execute_result"
    }
   ],
   "source": [
    "# Now, looking at the staying workers with similar characteristics as those two, is there any aspect that can differentiate\n",
    "# them?\n",
    "only_0[(only_0['department']=='IT') & (only_0['salary']=='high') & (only_0['reciprocity_degree']>0.8)].mean()"
   ]
  },
  {
   "cell_type": "markdown",
   "id": "4552368c-c616-4bb9-b7df-a6fca15cbd8d",
   "metadata": {},
   "source": [
    "<div> \n",
    "    <ul style='font-size:20px'> \n",
    "        <li> \n",
    "            The answer is yes! The deserters have a lower satisfaction score and work for many more hours than their staying counterparts. Therefore, we won't consider them as noise.\n",
    "        </li>\n",
    "    </ul>\n",
    "</div>"
   ]
  },
  {
   "cell_type": "markdown",
   "id": "6bb168f9-1943-4c8a-b230-514558f8b5ed",
   "metadata": {},
   "source": [
    "<h4 style='font-size:30px;font-style:italic;text-decoration:underline'>Checking out the potential quitting outliers from the Support department </h4>\n",
    "<div> \n",
    "    <ul style='font-size:20px'> \n",
    "        <li> \n",
    "            Doing the same process now regarding the Support area. In this case, there are three employees with a reciprocity level higher than 0.8.\n",
    "        </li>\n",
    "    </ul>\n",
    "</div>"
   ]
  },
  {
   "cell_type": "code",
   "execution_count": 14,
   "id": "d5a02f0e-fd5e-4a29-bb3c-d57ee37da7d1",
   "metadata": {},
   "outputs": [
    {
     "data": {
      "text/html": [
       "<div>\n",
       "<style scoped>\n",
       "    .dataframe tbody tr th:only-of-type {\n",
       "        vertical-align: middle;\n",
       "    }\n",
       "\n",
       "    .dataframe tbody tr th {\n",
       "        vertical-align: top;\n",
       "    }\n",
       "\n",
       "    .dataframe thead th {\n",
       "        text-align: right;\n",
       "    }\n",
       "</style>\n",
       "<table border=\"1\" class=\"dataframe\">\n",
       "  <thead>\n",
       "    <tr style=\"text-align: right;\">\n",
       "      <th></th>\n",
       "      <th>satisfaction_level</th>\n",
       "      <th>last_evaluation</th>\n",
       "      <th>number_project</th>\n",
       "      <th>average_montly_hours</th>\n",
       "      <th>time_spend_company</th>\n",
       "      <th>Work_accident</th>\n",
       "      <th>quit</th>\n",
       "      <th>promotion_last_5years</th>\n",
       "      <th>department</th>\n",
       "      <th>salary</th>\n",
       "      <th>number_project_per_time_spend</th>\n",
       "      <th>reciprocity_degree</th>\n",
       "    </tr>\n",
       "  </thead>\n",
       "  <tbody>\n",
       "    <tr>\n",
       "      <th>891</th>\n",
       "      <td>0.75</td>\n",
       "      <td>0.86</td>\n",
       "      <td>5</td>\n",
       "      <td>237</td>\n",
       "      <td>5</td>\n",
       "      <td>0</td>\n",
       "      <td>1</td>\n",
       "      <td>0</td>\n",
       "      <td>support</td>\n",
       "      <td>high</td>\n",
       "      <td>1.000000</td>\n",
       "      <td>0.801242</td>\n",
       "    </tr>\n",
       "    <tr>\n",
       "      <th>735</th>\n",
       "      <td>0.83</td>\n",
       "      <td>0.99</td>\n",
       "      <td>5</td>\n",
       "      <td>258</td>\n",
       "      <td>5</td>\n",
       "      <td>0</td>\n",
       "      <td>1</td>\n",
       "      <td>0</td>\n",
       "      <td>support</td>\n",
       "      <td>high</td>\n",
       "      <td>1.000000</td>\n",
       "      <td>0.902967</td>\n",
       "    </tr>\n",
       "    <tr>\n",
       "      <th>12657</th>\n",
       "      <td>0.43</td>\n",
       "      <td>0.55</td>\n",
       "      <td>2</td>\n",
       "      <td>130</td>\n",
       "      <td>3</td>\n",
       "      <td>0</td>\n",
       "      <td>1</td>\n",
       "      <td>0</td>\n",
       "      <td>support</td>\n",
       "      <td>high</td>\n",
       "      <td>0.666667</td>\n",
       "      <td>0.482653</td>\n",
       "    </tr>\n",
       "    <tr>\n",
       "      <th>12735</th>\n",
       "      <td>0.83</td>\n",
       "      <td>0.99</td>\n",
       "      <td>5</td>\n",
       "      <td>258</td>\n",
       "      <td>5</td>\n",
       "      <td>0</td>\n",
       "      <td>1</td>\n",
       "      <td>0</td>\n",
       "      <td>support</td>\n",
       "      <td>high</td>\n",
       "      <td>1.000000</td>\n",
       "      <td>0.902967</td>\n",
       "    </tr>\n",
       "    <tr>\n",
       "      <th>813</th>\n",
       "      <td>0.15</td>\n",
       "      <td>0.55</td>\n",
       "      <td>6</td>\n",
       "      <td>139</td>\n",
       "      <td>4</td>\n",
       "      <td>0</td>\n",
       "      <td>1</td>\n",
       "      <td>0</td>\n",
       "      <td>support</td>\n",
       "      <td>high</td>\n",
       "      <td>1.500000</td>\n",
       "      <td>0.235714</td>\n",
       "    </tr>\n",
       "  </tbody>\n",
       "</table>\n",
       "</div>"
      ],
      "text/plain": [
       "       satisfaction_level  last_evaluation  number_project  \\\n",
       "891                  0.75             0.86               5   \n",
       "735                  0.83             0.99               5   \n",
       "12657                0.43             0.55               2   \n",
       "12735                0.83             0.99               5   \n",
       "813                  0.15             0.55               6   \n",
       "\n",
       "       average_montly_hours  time_spend_company  Work_accident  quit  \\\n",
       "891                     237                   5              0     1   \n",
       "735                     258                   5              0     1   \n",
       "12657                   130                   3              0     1   \n",
       "12735                   258                   5              0     1   \n",
       "813                     139                   4              0     1   \n",
       "\n",
       "       promotion_last_5years department salary  number_project_per_time_spend  \\\n",
       "891                        0    support   high                       1.000000   \n",
       "735                        0    support   high                       1.000000   \n",
       "12657                      0    support   high                       0.666667   \n",
       "12735                      0    support   high                       1.000000   \n",
       "813                        0    support   high                       1.500000   \n",
       "\n",
       "       reciprocity_degree  \n",
       "891              0.801242  \n",
       "735              0.902967  \n",
       "12657            0.482653  \n",
       "12735            0.902967  \n",
       "813              0.235714  "
      ]
     },
     "execution_count": 14,
     "metadata": {},
     "output_type": "execute_result"
    }
   ],
   "source": [
    "quit_support = only_1[(only_1['department']=='support') & (only_1['salary']=='high')]\n",
    "quit_support"
   ]
  },
  {
   "cell_type": "code",
   "execution_count": 15,
   "id": "cf3bfc19-b05f-41a1-842a-ebe121d4fe6f",
   "metadata": {},
   "outputs": [
    {
     "name": "stderr",
     "output_type": "stream",
     "text": [
      "/tmp/ipykernel_141558/1204098167.py:2: FutureWarning: Dropping of nuisance columns in DataFrame reductions (with 'numeric_only=None') is deprecated; in a future version this will raise TypeError.  Select only valid columns before calling the reduction.\n",
      "  quit_support[quit_support['reciprocity_degree']>0.8].mean()\n"
     ]
    },
    {
     "data": {
      "text/plain": [
       "satisfaction_level                 0.803333\n",
       "last_evaluation                    0.946667\n",
       "number_project                     5.000000\n",
       "average_montly_hours             251.000000\n",
       "time_spend_company                 5.000000\n",
       "Work_accident                      0.000000\n",
       "quit                               1.000000\n",
       "promotion_last_5years              0.000000\n",
       "number_project_per_time_spend      1.000000\n",
       "reciprocity_degree                 0.869059\n",
       "dtype: float64"
      ]
     },
     "execution_count": 15,
     "metadata": {},
     "output_type": "execute_result"
    }
   ],
   "source": [
    "# Extracting the mean of the features from the quitting workers.\n",
    "quit_support[quit_support['reciprocity_degree']>0.8].mean()"
   ]
  },
  {
   "cell_type": "code",
   "execution_count": 16,
   "id": "d47981ba-423b-4607-8c7c-f9ba2010d63a",
   "metadata": {},
   "outputs": [
    {
     "name": "stderr",
     "output_type": "stream",
     "text": [
      "/tmp/ipykernel_141558/2206320805.py:2: FutureWarning: Dropping of nuisance columns in DataFrame reductions (with 'numeric_only=None') is deprecated; in a future version this will raise TypeError.  Select only valid columns before calling the reduction.\n",
      "  only_0[(only_0['department']=='support') & (only_0['salary']=='high') & (only_0['reciprocity_degree']>0.8)].mean()\n"
     ]
    },
    {
     "data": {
      "text/plain": [
       "satisfaction_level                 0.878800\n",
       "last_evaluation                    0.874400\n",
       "number_project                     3.720000\n",
       "average_montly_hours             200.520000\n",
       "time_spend_company                 3.000000\n",
       "Work_accident                      0.160000\n",
       "quit                               0.000000\n",
       "promotion_last_5years              0.000000\n",
       "number_project_per_time_spend      1.405333\n",
       "reciprocity_degree                 0.870608\n",
       "dtype: float64"
      ]
     },
     "execution_count": 16,
     "metadata": {},
     "output_type": "execute_result"
    }
   ],
   "source": [
    "# Doing the same for those who still work for the enterprise.\n",
    "only_0[(only_0['department']=='support') & (only_0['salary']=='high') & (only_0['reciprocity_degree']>0.8)].mean()"
   ]
  },
  {
   "cell_type": "markdown",
   "id": "7cb7e06b-14ba-4e48-84c4-bb79f299a676",
   "metadata": {},
   "source": [
    "<div> \n",
    "    <ul style='font-size:20px'> \n",
    "        <li> \n",
    "            Here, the satisfaction score doesn't seem to be part of the problem. However, the deserters still work for more hours than the ones who yet are employed in the company.\n",
    "        </li>\n",
    "    </ul>\n",
    "</div>"
   ]
  },
  {
   "cell_type": "markdown",
   "id": "296aeaa8-327c-4ffa-b123-7c4307086d66",
   "metadata": {},
   "source": [
    "<h3 style='font-size:30px;font-style:italic'> Workload as a factor for departure</h3>\n",
    "<div> \n",
    "    <ul style='font-size:20px'> \n",
    "        <li> \n",
    "            The quantity of tasks that are assigned to a given worker is a relevant aspect regarding their satisfaction. Offering fewer projects can make them feel undervalued; at the same time, participating in a high number of activities is prone to become something stressful.\n",
    "        </li>\n",
    "    </ul>\n",
    "</div>"
   ]
  },
  {
   "cell_type": "code",
   "execution_count": 18,
   "id": "66d94643-dd0b-432a-b6f4-002f61116c11",
   "metadata": {},
   "outputs": [],
   "source": [
    "# For each department, what is the average number of projects that the quitting and staying people have been assigned?\n",
    "# Let's plot another pair of heatmaps to check if there are any differences.\n",
    "projec_per_0 = pd.pivot_table(data = only_0, index='department', values='number_project_per_time_spend')\n",
    "projec_per_1 = pd.pivot_table(data = only_1, index='department', values='number_project_per_time_spend')"
   ]
  },
  {
   "cell_type": "code",
   "execution_count": 19,
   "id": "5caea4f2-650c-4564-8a94-25943c6b924a",
   "metadata": {},
   "outputs": [
    {
     "data": {
      "image/png": "[encoded data removed]",
      "text/plain": [
       "<Figure size 864x288 with 4 Axes>"
      ]
     },
     "metadata": {
      "needs_background": "light"
     },
     "output_type": "display_data"
    }
   ],
   "source": [
    "plt.figure(figsize=(12,4))\n",
    "# Heatmap for those who are still employed.\n",
    "plt.subplot(121)\n",
    "sns.heatmap(projec_per_0, cmap='Blues')\n",
    "plt.xlabel(None)\n",
    "plt.ylabel(None)\n",
    "plt.title('Stayed')\n",
    "# Heatmap for those who have left their jobs.\n",
    "plt.subplot(122)\n",
    "sns.heatmap(projec_per_1, cmap='Blues')\n",
    "plt.xlabel(None)\n",
    "plt.ylabel(None)\n",
    "plt.title('Quit')\n",
    "plt.tight_layout()"
   ]
  },
  {
   "cell_type": "markdown",
   "id": "4611935b-5d7f-4fca-92cb-ceba6c908173",
   "metadata": {},
   "source": [
    "<div> \n",
    "    <ul style='font-size:20px'> \n",
    "        <li> \n",
    "            The deserters tend to have a slightly lower average amount of projects during their tenure. This is evident just by looking at the colorbars' scale.\n",
    "        </li>\n",
    "    </ul>\n",
    "</div>"
   ]
  },
  {
   "cell_type": "markdown",
   "id": "e407f713-6c0a-454a-9df3-ff92425ac8bc",
   "metadata": {},
   "source": [
    "<h2 style='font-size:30px'> Treating the Dataset</h2>\n",
    "<h3 style='font-size:30px;font-style:italic'> Numerical data</h3>\n",
    "<div> \n",
    "    <ul style='font-size:20px'> \n",
    "        <li> \n",
    "            Fortunately, most of the columns dealing with integers and floats are almost adequate to be applied in a model.\n",
    "        </li>\n",
    "        <li>\n",
    "            Nevertheless, they need to be normalized. Also, it would be interesting to automate the creation of the features engendered in the beginning of the script.\n",
    "        </li>\n",
    "    </ul>\n",
    "</div>"
   ]
  },
  {
   "cell_type": "code",
   "execution_count": 20,
   "id": "a8ab1705-a90f-4555-80ed-a939e638195a",
   "metadata": {},
   "outputs": [
    {
     "name": "stdout",
     "output_type": "stream",
     "text": [
      "0 --> satisfaction_level\n",
      "1 --> last_evaluation\n",
      "2 --> number_project\n",
      "3 --> average_montly_hours\n",
      "4 --> time_spend_company\n",
      "5 --> Work_accident\n",
      "6 --> quit\n",
      "7 --> promotion_last_5years\n",
      "8 --> department\n",
      "9 --> salary\n",
      "10 --> number_project_per_time_spend\n",
      "11 --> reciprocity_degree\n"
     ]
    }
   ],
   "source": [
    "i=0\n",
    "for column in train.columns:\n",
    "    print(i, '-->', column)\n",
    "    i+=1"
   ]
  },
  {
   "cell_type": "code",
   "execution_count": 21,
   "id": "7db9adb1-2e79-4e87-8844-83106e43d5dc",
   "metadata": {},
   "outputs": [],
   "source": [
    "# The class below is a transformer that creates the extra features.\n",
    "from sklearn.base import BaseEstimator, TransformerMixin\n",
    "\n",
    "class NewNumFeatures(BaseEstimator, TransformerMixin):\n",
    "    # Importing scipy.stats' hmean method.\n",
    "    from scipy.stats import hmean\n",
    "    def __init__(self, number_project_per_time_spend=True, reciprocity_degree=True):\n",
    "        \n",
    "        # This allows the user to choose whether they want to unable the generation of one of the features.\n",
    "        self.number_project_per_time_spend = number_project_per_time_spend\n",
    "        self.reciprocity_degree = reciprocity_degree\n",
    "    \n",
    "    def fit(self, X, y=None):\n",
    "        return self\n",
    "    \n",
    "    def transform(self, X):\n",
    "        # Making the new features.\n",
    "        if self.number_project_per_time_spend:\n",
    "            X.loc[:,'number_project_per_time_spend'] = X.loc[:,'number_project'] / X.loc[:,'time_spend_company']\n",
    "\n",
    "        if self.reciprocity_degree:\n",
    "            X.loc[:,'reciprocity_degree'] = hmean([X.loc[:,'satisfaction_level'], X.loc[:,'last_evaluation']])\n",
    "\n",
    "        return X.values"
   ]
  },
  {
   "cell_type": "code",
   "execution_count": 24,
   "id": "cd31085f-5491-4bc7-ba21-5f1bd4b81be4",
   "metadata": {},
   "outputs": [],
   "source": [
    "# Building the transformation pipeline for the numerical values.\n",
    "from sklearn.pipeline import Pipeline\n",
    "from sklearn.impute import SimpleImputer\n",
    "from sklearn.preprocessing import MinMaxScaler\n",
    "\n",
    "num_pipeline = Pipeline([\n",
    "    ('new_features', NewNumFeatures()),\n",
    "    ('imputer', SimpleImputer(strategy='mean')),\n",
    "    ('min_max', MinMaxScaler())    \n",
    "])"
   ]
  },
  {
   "cell_type": "markdown",
   "id": "d341e12c-237f-4bf8-a97d-d0e27cec87dc",
   "metadata": {},
   "source": [
    "<h3 style='font-size:30px;font-style:italic'> Text data</h3>\n",
    "<div> \n",
    "    <ul style='font-size:20px'> \n",
    "        <li> \n",
    "            Since most of the scikit-learn models cannot handle strings as features, the textual informations from the dataset need to be treated.\n",
    "        </li>\n",
    "        <li> \n",
    "            The mission thus is trying to find numerical data based on the string informations.\n",
    "        </li>\n",
    "    </ul>\n",
    "</div>"
   ]
  },
  {
   "cell_type": "code",
   "execution_count": 25,
   "id": "b82ec4ab-58c3-4345-aba2-172138755c00",
   "metadata": {},
   "outputs": [
    {
     "name": "stderr",
     "output_type": "stream",
     "text": [
      "/tmp/ipykernel_141558/3537221126.py:5: FutureWarning: Using the level keyword in DataFrame and Series aggregations is deprecated and will be removed in a future version. Use groupby instead. df.sum(level=1) should use df.groupby(level=1).sum().\n",
      "  employees_per_salary = gp.sum(level=1)\n"
     ]
    },
    {
     "data": {
      "text/plain": [
       "salary\n",
       "high      0.023085\n",
       "low       0.601959\n",
       "medium    0.374956\n",
       "Name: quit, dtype: float64"
      ]
     },
     "execution_count": 25,
     "metadata": {},
     "output_type": "execute_result"
    }
   ],
   "source": [
    "# One way to do such thing is attempting to discover the quitting rate for the categories from each column.\n",
    "\n",
    "# For instance, let's find out the departure rate among the income levels.\n",
    "gp = train.groupby(['salary','quit'])['quit'].size()\n",
    "employees_per_salary = gp.sum(level=1)\n",
    "\n",
    "quitting_rate_salary = (gp/employees_per_salary).xs(1, level=1)\n",
    "quitting_rate_salary"
   ]
  },
  {
   "cell_type": "code",
   "execution_count": 26,
   "id": "974b98e9-d15b-4d7d-86f4-407336c5f040",
   "metadata": {},
   "outputs": [
    {
     "data": {
      "text/plain": [
       "11263    0.374956\n",
       "1753     0.374956\n",
       "3981     0.601959\n",
       "14300    0.601959\n",
       "12943    0.023085\n",
       "           ...   \n",
       "13235    0.374956\n",
       "7785     0.601959\n",
       "7882     0.023085\n",
       "11061    0.374956\n",
       "5936     0.374956\n",
       "Name: salary, Length: 11999, dtype: float64"
      ]
     },
     "execution_count": 26,
     "metadata": {},
     "output_type": "execute_result"
    }
   ],
   "source": [
    "# The column labels could be readily changed for the quitting indices with a 'replace'. \n",
    "train.salary.replace(quitting_rate_salary.to_dict())"
   ]
  },
  {
   "cell_type": "markdown",
   "id": "473678a6-d99c-4df0-a39f-8ee5115921e3",
   "metadata": {},
   "source": [
    "<div> \n",
    "    <ul style='font-size:20px'> \n",
    "        <li>\n",
    "            The same process is possible to be carried out with the department column, so it would be a good idea to create a transformer which automatically handles this task.\n",
    "        </li>\n",
    "    </ul>\n",
    "</div>"
   ]
  },
  {
   "cell_type": "code",
   "execution_count": 27,
   "id": "101521e5-913e-46ed-9ab4-57533b068e1d",
   "metadata": {},
   "outputs": [],
   "source": [
    "class MeaningFromText(BaseEstimator, TransformerMixin):\n",
    "    # Here, the individual can cancel the transformation for one of the given columns.\n",
    "    def __init__(self, salary=True, department=True):\n",
    "        self.salary=salary\n",
    "        self.department=department\n",
    "        \n",
    "    def fit(self, X,y=None):\n",
    "        return self\n",
    "    \n",
    "    def transform(self, X):\n",
    "        global train\n",
    "        if self.salary:\n",
    "            quitting_and_staying = train.groupby(['salary','quit'])['quit'].size()\n",
    "            employees_per_category = quitting_and_staying.sum(level=1)\n",
    "            quitting_rates = (quitting_and_staying/employees_per_category).xs(1, level=1)\n",
    "            # Placing the quitting rates as a new column for the DF experiencing the transformation.\n",
    "            X.loc[:,'quitting_rates_salary'] = X.salary.replace(quitting_rates.to_dict())\n",
    "            \n",
    "        if self.department:\n",
    "            quitting_and_staying = train.groupby(['department','quit'])['quit'].size()\n",
    "            employees_per_category = quitting_and_staying.sum(level=1)\n",
    "            quitting_rates = (quitting_and_staying/employees_per_category).xs(1, level=1)\n",
    "            X.loc[:,'quitting_rates_department'] = X.department.replace(quitting_rates.to_dict())\n",
    "        # Dropping out the columns with textual data.\n",
    "        X.drop(['salary', 'department'], axis=1, inplace=True)\n",
    "        return X.values"
   ]
  },
  {
   "cell_type": "code",
   "execution_count": 28,
   "id": "8575004d-c874-4dfa-83e2-456f91912e49",
   "metadata": {},
   "outputs": [],
   "source": [
    "# Finally, constructing the pipeline for the text data.\n",
    "text_pipeline = Pipeline([\n",
    "            ('transformer', MeaningFromText()),\n",
    "            ('imputer', SimpleImputer(strategy='most_frequent'))])"
   ]
  },
  {
   "cell_type": "markdown",
   "id": "edce3f64-7097-49e3-bd3e-686b4742d6b4",
   "metadata": {},
   "source": [
    "<h3 style='font-size:30px;font-style:italic'> Full Transformation Pipeline</h3>\n",
    "<div> \n",
    "    <ul style='font-size:20px'> \n",
    "        <li> \n",
    "            It is time to fusion both pipelines built into a single one.\n",
    "        </li>\n",
    "    </ul>\n",
    "</div>"
   ]
  },
  {
   "cell_type": "code",
   "execution_count": 29,
   "id": "4864abd2-b5b5-4fbf-98d4-04803d6302ad",
   "metadata": {},
   "outputs": [],
   "source": [
    "# Firstly, dropping out the columns that were created without the use of the transformator.\n",
    "train.drop(['number_project_per_time_spend', 'reciprocity_degree'], axis=1, inplace=True)"
   ]
  },
  {
   "cell_type": "code",
   "execution_count": 31,
   "id": "95b6023a-02a6-4c1c-bae0-ea7ff99f8501",
   "metadata": {},
   "outputs": [
    {
     "name": "stderr",
     "output_type": "stream",
     "text": [
      "/tmp/ipykernel_141558/1796859430.py:14: FutureWarning: Using the level keyword in DataFrame and Series aggregations is deprecated and will be removed in a future version. Use groupby instead. df.sum(level=1) should use df.groupby(level=1).sum().\n",
      "  employees_per_category = quitting_and_staying.sum(level=1)\n",
      "/tmp/ipykernel_141558/1796859430.py:21: FutureWarning: Using the level keyword in DataFrame and Series aggregations is deprecated and will be removed in a future version. Use groupby instead. df.sum(level=1) should use df.groupby(level=1).sum().\n",
      "  employees_per_category = quitting_and_staying.sum(level=1)\n"
     ]
    }
   ],
   "source": [
    "from sklearn.compose import ColumnTransformer\n",
    "# Segregating the independent from the dependent variables.\n",
    "X = train[[column for column in train.columns if column != 'quit']]\n",
    "y = train['quit']\n",
    "num_cols = [column for column in X.columns if X[column].dtype=='float64' or X[column].dtype=='int64']\n",
    "text_cols = [column for column in X.columns if X[column].dtype=='object']\n",
    "\n",
    "full_pipeline = ColumnTransformer([\n",
    "                ('num', num_pipeline, num_cols),\n",
    "                ('text', text_pipeline, text_cols)\n",
    "                ])\n",
    "\n",
    "# We are ready to try out our first models.\n",
    "X = full_pipeline.fit_transform(X)"
   ]
  },
  {
   "cell_type": "markdown",
   "id": "0603dd6e-3b68-4dc9-928d-4652a177b289",
   "metadata": {},
   "source": [
    "<h2 style='font-size:30px'> Initial Validations</h2>\n",
    "<h3 style='font-size:30px;font-style:italic'> Naïve Bayes</h3>\n",
    "<div> \n",
    "    <ul style='font-size:20px'> \n",
    "        <li> \n",
    "            I've chosen Naïve Bayes as the first model to be tried because it is a simpler algorithm that can provide us a base value for the error score.\n",
    "        </li>\n",
    "    </ul>\n",
    "</div>"
   ]
  },
  {
   "cell_type": "code",
   "execution_count": 32,
   "id": "34037b08-ee47-43c1-b0c3-ed02975ad3b6",
   "metadata": {},
   "outputs": [
    {
     "name": "stderr",
     "output_type": "stream",
     "text": [
      "[Parallel(n_jobs=1)]: Using backend SequentialBackend with 1 concurrent workers.\n",
      "[Parallel(n_jobs=1)]: Done   1 out of   1 | elapsed:    0.0s remaining:    0.0s\n"
     ]
    },
    {
     "name": "stdout",
     "output_type": "stream",
     "text": [
      "[CV] END .................................................... total time=   0.0s\n",
      "[CV] END .................................................... total time=   0.0s\n",
      "[CV] END .................................................... total time=   0.0s\n",
      "[CV] END .................................................... total time=   0.0s\n",
      "[CV] END .................................................... total time=   0.0s\n"
     ]
    },
    {
     "name": "stderr",
     "output_type": "stream",
     "text": [
      "[Parallel(n_jobs=1)]: Done   5 out of   5 | elapsed:    0.1s finished\n"
     ]
    },
    {
     "data": {
      "text/plain": [
       "0.8721844348211963"
      ]
     },
     "execution_count": 32,
     "metadata": {},
     "output_type": "execute_result"
    }
   ],
   "source": [
    "from sklearn.model_selection import cross_val_score\n",
    "from sklearn.naive_bayes import GaussianNB\n",
    "bayes = GaussianNB()\n",
    "bayes_f1 = cross_val_score(bayes, X, y, cv=5, scoring='roc_auc', verbose=2)\n",
    "\n",
    "# The best model experimented had a Area Under the Curve of roughly 87%.\n",
    "bayes_f1.max()"
   ]
  },
  {
   "cell_type": "markdown",
   "id": "71574209-b8c7-494f-9fe4-766b6bb5b816",
   "metadata": {},
   "source": [
    "<h3 style='font-size:30px;font-style:italic'> Logistic Regression</h3>\n",
    "<div> \n",
    "    <ul style='font-size:20px'> \n",
    "        <li> \n",
    "            Logistic Regression is kind of a cliché for binary classification tasks. Let's find out how well it goes with the data.\n",
    "        </li>\n",
    "    </ul>\n",
    "</div>"
   ]
  },
  {
   "cell_type": "code",
   "execution_count": 33,
   "id": "0fb73779-b953-424a-b251-12e05a0f1c8b",
   "metadata": {},
   "outputs": [
    {
     "name": "stdout",
     "output_type": "stream",
     "text": [
      "Fitting 5 folds for each of 8 candidates, totalling 40 fits\n",
      "[CV] END ...............................C=1000, solver=lbfgs; total time=   0.2s\n",
      "[CV] END ...............................C=1000, solver=lbfgs; total time=   0.1s\n",
      "[CV] END ...............................C=1000, solver=lbfgs; total time=   0.2s\n",
      "[CV] END ...............................C=1000, solver=lbfgs; total time=   0.1s\n",
      "[CV] END ...............................C=1000, solver=lbfgs; total time=   0.2s\n",
      "[CV] END ...........................C=1000, solver=liblinear; total time=   0.1s\n",
      "[CV] END ...........................C=1000, solver=liblinear; total time=   0.1s\n",
      "[CV] END ...........................C=1000, solver=liblinear; total time=   0.1s\n",
      "[CV] END ...........................C=1000, solver=liblinear; total time=   0.1s\n",
      "[CV] END ...........................C=1000, solver=liblinear; total time=   0.1s\n",
      "[CV] END ...............................C=2500, solver=lbfgs; total time=   0.2s\n",
      "[CV] END ...............................C=2500, solver=lbfgs; total time=   0.1s\n",
      "[CV] END ...............................C=2500, solver=lbfgs; total time=   0.2s\n",
      "[CV] END ...............................C=2500, solver=lbfgs; total time=   0.1s\n",
      "[CV] END ...............................C=2500, solver=lbfgs; total time=   0.2s\n",
      "[CV] END ...........................C=2500, solver=liblinear; total time=   0.1s\n",
      "[CV] END ...........................C=2500, solver=liblinear; total time=   0.1s\n",
      "[CV] END ...........................C=2500, solver=liblinear; total time=   0.1s\n",
      "[CV] END ...........................C=2500, solver=liblinear; total time=   0.1s\n",
      "[CV] END ...........................C=2500, solver=liblinear; total time=   0.1s\n",
      "[CV] END ...............................C=5000, solver=lbfgs; total time=   0.2s\n",
      "[CV] END ...............................C=5000, solver=lbfgs; total time=   0.2s\n",
      "[CV] END ...............................C=5000, solver=lbfgs; total time=   0.2s\n",
      "[CV] END ...............................C=5000, solver=lbfgs; total time=   0.1s\n",
      "[CV] END ...............................C=5000, solver=lbfgs; total time=   0.2s\n",
      "[CV] END ...........................C=5000, solver=liblinear; total time=   0.1s\n",
      "[CV] END ...........................C=5000, solver=liblinear; total time=   0.1s\n",
      "[CV] END ...........................C=5000, solver=liblinear; total time=   0.1s\n",
      "[CV] END ...........................C=5000, solver=liblinear; total time=   0.1s\n",
      "[CV] END ...........................C=5000, solver=liblinear; total time=   0.1s\n",
      "[CV] END ..............................C=10000, solver=lbfgs; total time=   0.2s\n",
      "[CV] END ..............................C=10000, solver=lbfgs; total time=   0.2s\n",
      "[CV] END ..............................C=10000, solver=lbfgs; total time=   0.2s\n",
      "[CV] END ..............................C=10000, solver=lbfgs; total time=   0.1s\n",
      "[CV] END ..............................C=10000, solver=lbfgs; total time=   0.2s\n",
      "[CV] END ..........................C=10000, solver=liblinear; total time=   0.1s\n",
      "[CV] END ..........................C=10000, solver=liblinear; total time=   0.1s\n",
      "[CV] END ..........................C=10000, solver=liblinear; total time=   0.1s\n",
      "[CV] END ..........................C=10000, solver=liblinear; total time=   0.1s\n",
      "[CV] END ..........................C=10000, solver=liblinear; total time=   0.1s\n"
     ]
    },
    {
     "data": {
      "text/plain": [
       "GridSearchCV(cv=5, estimator=LogisticRegression(),\n",
       "             param_grid={'C': [1000, 2500, 5000, 10000],\n",
       "                         'solver': ['lbfgs', 'liblinear']},\n",
       "             scoring='roc_auc', verbose=2)"
      ]
     },
     "execution_count": 33,
     "metadata": {},
     "output_type": "execute_result"
    }
   ],
   "source": [
    "from sklearn.model_selection import GridSearchCV\n",
    "from sklearn.linear_model import LogisticRegression\n",
    "log_reg = LogisticRegression()\n",
    "param_grid = {'C':[1000, 2500, 5000, 10000],\n",
    "               'solver':['lbfgs', 'liblinear']}\n",
    "\n",
    "log_reg_gscv = GridSearchCV(log_reg, param_grid=param_grid, scoring='roc_auc', cv=5,\n",
    "                           verbose=2)\n",
    "log_reg_gscv.fit(X, y)"
   ]
  },
  {
   "cell_type": "code",
   "execution_count": 34,
   "id": "c1c98909-6112-4f60-ab4d-549ec8d5e0ad",
   "metadata": {},
   "outputs": [
    {
     "name": "stdout",
     "output_type": "stream",
     "text": [
      "{'C': 10000, 'solver': 'lbfgs'}\n"
     ]
    },
    {
     "data": {
      "text/plain": [
       "0.9136747281371956"
      ]
     },
     "execution_count": 34,
     "metadata": {},
     "output_type": "execute_result"
    }
   ],
   "source": [
    "# Looks like we've managed to obtain a slightly better score!\n",
    "print(log_reg_gscv.best_params_)\n",
    "log_reg_gscv.best_score_"
   ]
  },
  {
   "cell_type": "markdown",
   "id": "34c4c921-3210-48d1-8ae9-92fc820e9260",
   "metadata": {},
   "source": [
    "<h3 style='font-size:30px;font-style:italic'> Random Forests</h3>\n",
    "<div> \n",
    "    <ul style='font-size:20px'> \n",
    "        <li> \n",
    "            Random Forests can be a useful algorithm for validation improving. We can perform this model and use its 'feature_importances_' attribute in order to filter out the most irrelevant features of the dataset.\n",
    "        </li>\n",
    "    </ul>\n",
    "</div>"
   ]
  },
  {
   "cell_type": "code",
   "execution_count": 35,
   "id": "037c18b8-ea4e-46f0-86a2-e0a8529125da",
   "metadata": {},
   "outputs": [
    {
     "name": "stdout",
     "output_type": "stream",
     "text": [
      "Fitting 5 folds for each of 36 candidates, totalling 180 fits\n",
      "[CV] END .......max_depth=3, max_features=2, n_estimators=25; total time=   0.1s\n",
      "[CV] END .......max_depth=3, max_features=2, n_estimators=25; total time=   0.1s\n",
      "[CV] END .......max_depth=3, max_features=2, n_estimators=25; total time=   0.1s\n",
      "[CV] END .......max_depth=3, max_features=2, n_estimators=25; total time=   0.1s\n",
      "[CV] END .......max_depth=3, max_features=2, n_estimators=25; total time=   0.1s\n",
      "[CV] END .......max_depth=3, max_features=2, n_estimators=50; total time=   0.2s\n",
      "[CV] END .......max_depth=3, max_features=2, n_estimators=50; total time=   0.2s\n",
      "[CV] END .......max_depth=3, max_features=2, n_estimators=50; total time=   0.2s\n",
      "[CV] END .......max_depth=3, max_features=2, n_estimators=50; total time=   0.2s\n",
      "[CV] END .......max_depth=3, max_features=2, n_estimators=50; total time=   0.2s\n",
      "[CV] END .......max_depth=3, max_features=2, n_estimators=75; total time=   0.3s\n",
      "[CV] END .......max_depth=3, max_features=2, n_estimators=75; total time=   0.3s\n",
      "[CV] END .......max_depth=3, max_features=2, n_estimators=75; total time=   0.3s\n",
      "[CV] END .......max_depth=3, max_features=2, n_estimators=75; total time=   0.3s\n",
      "[CV] END .......max_depth=3, max_features=2, n_estimators=75; total time=   0.3s\n",
      "[CV] END ......max_depth=3, max_features=2, n_estimators=100; total time=   0.4s\n",
      "[CV] END ......max_depth=3, max_features=2, n_estimators=100; total time=   0.4s\n",
      "[CV] END ......max_depth=3, max_features=2, n_estimators=100; total time=   0.4s\n",
      "[CV] END ......max_depth=3, max_features=2, n_estimators=100; total time=   0.4s\n",
      "[CV] END ......max_depth=3, max_features=2, n_estimators=100; total time=   0.4s\n",
      "[CV] END .......max_depth=3, max_features=3, n_estimators=25; total time=   0.1s\n",
      "[CV] END .......max_depth=3, max_features=3, n_estimators=25; total time=   0.1s\n",
      "[CV] END .......max_depth=3, max_features=3, n_estimators=25; total time=   0.1s\n",
      "[CV] END .......max_depth=3, max_features=3, n_estimators=25; total time=   0.1s\n",
      "[CV] END .......max_depth=3, max_features=3, n_estimators=25; total time=   0.1s\n",
      "[CV] END .......max_depth=3, max_features=3, n_estimators=50; total time=   0.2s\n",
      "[CV] END .......max_depth=3, max_features=3, n_estimators=50; total time=   0.2s\n",
      "[CV] END .......max_depth=3, max_features=3, n_estimators=50; total time=   0.2s\n",
      "[CV] END .......max_depth=3, max_features=3, n_estimators=50; total time=   0.2s\n",
      "[CV] END .......max_depth=3, max_features=3, n_estimators=50; total time=   0.2s\n",
      "[CV] END .......max_depth=3, max_features=3, n_estimators=75; total time=   0.3s\n",
      "[CV] END .......max_depth=3, max_features=3, n_estimators=75; total time=   0.3s\n",
      "[CV] END .......max_depth=3, max_features=3, n_estimators=75; total time=   0.3s\n",
      "[CV] END .......max_depth=3, max_features=3, n_estimators=75; total time=   0.3s\n",
      "[CV] END .......max_depth=3, max_features=3, n_estimators=75; total time=   0.3s\n",
      "[CV] END ......max_depth=3, max_features=3, n_estimators=100; total time=   0.4s\n",
      "[CV] END ......max_depth=3, max_features=3, n_estimators=100; total time=   0.4s\n",
      "[CV] END ......max_depth=3, max_features=3, n_estimators=100; total time=   0.4s\n",
      "[CV] END ......max_depth=3, max_features=3, n_estimators=100; total time=   0.4s\n",
      "[CV] END ......max_depth=3, max_features=3, n_estimators=100; total time=   0.4s\n",
      "[CV] END .......max_depth=3, max_features=4, n_estimators=25; total time=   0.1s\n",
      "[CV] END .......max_depth=3, max_features=4, n_estimators=25; total time=   0.1s\n",
      "[CV] END .......max_depth=3, max_features=4, n_estimators=25; total time=   0.1s\n",
      "[CV] END .......max_depth=3, max_features=4, n_estimators=25; total time=   0.1s\n",
      "[CV] END .......max_depth=3, max_features=4, n_estimators=25; total time=   0.1s\n",
      "[CV] END .......max_depth=3, max_features=4, n_estimators=50; total time=   0.2s\n",
      "[CV] END .......max_depth=3, max_features=4, n_estimators=50; total time=   0.2s\n",
      "[CV] END .......max_depth=3, max_features=4, n_estimators=50; total time=   0.2s\n",
      "[CV] END .......max_depth=3, max_features=4, n_estimators=50; total time=   0.3s\n",
      "[CV] END .......max_depth=3, max_features=4, n_estimators=50; total time=   0.2s\n",
      "[CV] END .......max_depth=3, max_features=4, n_estimators=75; total time=   0.4s\n",
      "[CV] END .......max_depth=3, max_features=4, n_estimators=75; total time=   0.4s\n",
      "[CV] END .......max_depth=3, max_features=4, n_estimators=75; total time=   0.4s\n",
      "[CV] END .......max_depth=3, max_features=4, n_estimators=75; total time=   0.4s\n",
      "[CV] END .......max_depth=3, max_features=4, n_estimators=75; total time=   0.4s\n",
      "[CV] END ......max_depth=3, max_features=4, n_estimators=100; total time=   0.5s\n",
      "[CV] END ......max_depth=3, max_features=4, n_estimators=100; total time=   0.5s\n",
      "[CV] END ......max_depth=3, max_features=4, n_estimators=100; total time=   0.5s\n",
      "[CV] END ......max_depth=3, max_features=4, n_estimators=100; total time=   0.5s\n",
      "[CV] END ......max_depth=3, max_features=4, n_estimators=100; total time=   0.5s\n",
      "[CV] END .......max_depth=4, max_features=2, n_estimators=25; total time=   0.1s\n",
      "[CV] END .......max_depth=4, max_features=2, n_estimators=25; total time=   0.1s\n",
      "[CV] END .......max_depth=4, max_features=2, n_estimators=25; total time=   0.1s\n",
      "[CV] END .......max_depth=4, max_features=2, n_estimators=25; total time=   0.1s\n",
      "[CV] END .......max_depth=4, max_features=2, n_estimators=25; total time=   0.1s\n",
      "[CV] END .......max_depth=4, max_features=2, n_estimators=50; total time=   0.2s\n",
      "[CV] END .......max_depth=4, max_features=2, n_estimators=50; total time=   0.2s\n",
      "[CV] END .......max_depth=4, max_features=2, n_estimators=50; total time=   0.2s\n",
      "[CV] END .......max_depth=4, max_features=2, n_estimators=50; total time=   0.2s\n",
      "[CV] END .......max_depth=4, max_features=2, n_estimators=50; total time=   0.2s\n",
      "[CV] END .......max_depth=4, max_features=2, n_estimators=75; total time=   0.3s\n",
      "[CV] END .......max_depth=4, max_features=2, n_estimators=75; total time=   0.3s\n",
      "[CV] END .......max_depth=4, max_features=2, n_estimators=75; total time=   0.3s\n",
      "[CV] END .......max_depth=4, max_features=2, n_estimators=75; total time=   0.3s\n",
      "[CV] END .......max_depth=4, max_features=2, n_estimators=75; total time=   0.3s\n",
      "[CV] END ......max_depth=4, max_features=2, n_estimators=100; total time=   0.4s\n",
      "[CV] END ......max_depth=4, max_features=2, n_estimators=100; total time=   0.4s\n",
      "[CV] END ......max_depth=4, max_features=2, n_estimators=100; total time=   0.4s\n",
      "[CV] END ......max_depth=4, max_features=2, n_estimators=100; total time=   0.4s\n",
      "[CV] END ......max_depth=4, max_features=2, n_estimators=100; total time=   0.4s\n",
      "[CV] END .......max_depth=4, max_features=3, n_estimators=25; total time=   0.1s\n",
      "[CV] END .......max_depth=4, max_features=3, n_estimators=25; total time=   0.1s\n",
      "[CV] END .......max_depth=4, max_features=3, n_estimators=25; total time=   0.1s\n",
      "[CV] END .......max_depth=4, max_features=3, n_estimators=25; total time=   0.1s\n",
      "[CV] END .......max_depth=4, max_features=3, n_estimators=25; total time=   0.1s\n",
      "[CV] END .......max_depth=4, max_features=3, n_estimators=50; total time=   0.2s\n",
      "[CV] END .......max_depth=4, max_features=3, n_estimators=50; total time=   0.3s\n",
      "[CV] END .......max_depth=4, max_features=3, n_estimators=50; total time=   0.2s\n",
      "[CV] END .......max_depth=4, max_features=3, n_estimators=50; total time=   0.2s\n",
      "[CV] END .......max_depth=4, max_features=3, n_estimators=50; total time=   0.3s\n",
      "[CV] END .......max_depth=4, max_features=3, n_estimators=75; total time=   0.4s\n",
      "[CV] END .......max_depth=4, max_features=3, n_estimators=75; total time=   0.4s\n",
      "[CV] END .......max_depth=4, max_features=3, n_estimators=75; total time=   0.4s\n",
      "[CV] END .......max_depth=4, max_features=3, n_estimators=75; total time=   0.4s\n",
      "[CV] END .......max_depth=4, max_features=3, n_estimators=75; total time=   0.4s\n",
      "[CV] END ......max_depth=4, max_features=3, n_estimators=100; total time=   0.5s\n",
      "[CV] END ......max_depth=4, max_features=3, n_estimators=100; total time=   0.5s\n",
      "[CV] END ......max_depth=4, max_features=3, n_estimators=100; total time=   0.5s\n",
      "[CV] END ......max_depth=4, max_features=3, n_estimators=100; total time=   0.5s\n",
      "[CV] END ......max_depth=4, max_features=3, n_estimators=100; total time=   0.5s\n",
      "[CV] END .......max_depth=4, max_features=4, n_estimators=25; total time=   0.1s\n",
      "[CV] END .......max_depth=4, max_features=4, n_estimators=25; total time=   0.1s\n",
      "[CV] END .......max_depth=4, max_features=4, n_estimators=25; total time=   0.1s\n",
      "[CV] END .......max_depth=4, max_features=4, n_estimators=25; total time=   0.2s\n",
      "[CV] END .......max_depth=4, max_features=4, n_estimators=25; total time=   0.1s\n",
      "[CV] END .......max_depth=4, max_features=4, n_estimators=50; total time=   0.3s\n",
      "[CV] END .......max_depth=4, max_features=4, n_estimators=50; total time=   0.3s\n",
      "[CV] END .......max_depth=4, max_features=4, n_estimators=50; total time=   0.3s\n",
      "[CV] END .......max_depth=4, max_features=4, n_estimators=50; total time=   0.3s\n",
      "[CV] END .......max_depth=4, max_features=4, n_estimators=50; total time=   0.3s\n",
      "[CV] END .......max_depth=4, max_features=4, n_estimators=75; total time=   0.4s\n",
      "[CV] END .......max_depth=4, max_features=4, n_estimators=75; total time=   0.4s\n",
      "[CV] END .......max_depth=4, max_features=4, n_estimators=75; total time=   0.4s\n",
      "[CV] END .......max_depth=4, max_features=4, n_estimators=75; total time=   0.4s\n",
      "[CV] END .......max_depth=4, max_features=4, n_estimators=75; total time=   0.4s\n",
      "[CV] END ......max_depth=4, max_features=4, n_estimators=100; total time=   0.6s\n",
      "[CV] END ......max_depth=4, max_features=4, n_estimators=100; total time=   0.5s\n",
      "[CV] END ......max_depth=4, max_features=4, n_estimators=100; total time=   0.5s\n",
      "[CV] END ......max_depth=4, max_features=4, n_estimators=100; total time=   0.5s\n",
      "[CV] END ......max_depth=4, max_features=4, n_estimators=100; total time=   0.5s\n",
      "[CV] END .......max_depth=5, max_features=2, n_estimators=25; total time=   0.1s\n",
      "[CV] END .......max_depth=5, max_features=2, n_estimators=25; total time=   0.1s\n",
      "[CV] END .......max_depth=5, max_features=2, n_estimators=25; total time=   0.1s\n",
      "[CV] END .......max_depth=5, max_features=2, n_estimators=25; total time=   0.1s\n",
      "[CV] END .......max_depth=5, max_features=2, n_estimators=25; total time=   0.1s\n",
      "[CV] END .......max_depth=5, max_features=2, n_estimators=50; total time=   0.2s\n",
      "[CV] END .......max_depth=5, max_features=2, n_estimators=50; total time=   0.2s\n",
      "[CV] END .......max_depth=5, max_features=2, n_estimators=50; total time=   0.2s\n",
      "[CV] END .......max_depth=5, max_features=2, n_estimators=50; total time=   0.2s\n",
      "[CV] END .......max_depth=5, max_features=2, n_estimators=50; total time=   0.2s\n",
      "[CV] END .......max_depth=5, max_features=2, n_estimators=75; total time=   0.4s\n",
      "[CV] END .......max_depth=5, max_features=2, n_estimators=75; total time=   0.3s\n",
      "[CV] END .......max_depth=5, max_features=2, n_estimators=75; total time=   0.3s\n",
      "[CV] END .......max_depth=5, max_features=2, n_estimators=75; total time=   0.3s\n",
      "[CV] END .......max_depth=5, max_features=2, n_estimators=75; total time=   0.3s\n",
      "[CV] END ......max_depth=5, max_features=2, n_estimators=100; total time=   0.4s\n",
      "[CV] END ......max_depth=5, max_features=2, n_estimators=100; total time=   0.5s\n",
      "[CV] END ......max_depth=5, max_features=2, n_estimators=100; total time=   0.5s\n",
      "[CV] END ......max_depth=5, max_features=2, n_estimators=100; total time=   0.5s\n",
      "[CV] END ......max_depth=5, max_features=2, n_estimators=100; total time=   0.5s\n",
      "[CV] END .......max_depth=5, max_features=3, n_estimators=25; total time=   0.1s\n",
      "[CV] END .......max_depth=5, max_features=3, n_estimators=25; total time=   0.1s\n",
      "[CV] END .......max_depth=5, max_features=3, n_estimators=25; total time=   0.1s\n",
      "[CV] END .......max_depth=5, max_features=3, n_estimators=25; total time=   0.1s\n",
      "[CV] END .......max_depth=5, max_features=3, n_estimators=25; total time=   0.1s\n",
      "[CV] END .......max_depth=5, max_features=3, n_estimators=50; total time=   0.3s\n",
      "[CV] END .......max_depth=5, max_features=3, n_estimators=50; total time=   0.3s\n",
      "[CV] END .......max_depth=5, max_features=3, n_estimators=50; total time=   0.3s\n",
      "[CV] END .......max_depth=5, max_features=3, n_estimators=50; total time=   0.3s\n",
      "[CV] END .......max_depth=5, max_features=3, n_estimators=50; total time=   0.3s\n",
      "[CV] END .......max_depth=5, max_features=3, n_estimators=75; total time=   0.4s\n",
      "[CV] END .......max_depth=5, max_features=3, n_estimators=75; total time=   0.4s\n",
      "[CV] END .......max_depth=5, max_features=3, n_estimators=75; total time=   0.4s\n",
      "[CV] END .......max_depth=5, max_features=3, n_estimators=75; total time=   0.4s\n",
      "[CV] END .......max_depth=5, max_features=3, n_estimators=75; total time=   0.4s\n",
      "[CV] END ......max_depth=5, max_features=3, n_estimators=100; total time=   0.5s\n",
      "[CV] END ......max_depth=5, max_features=3, n_estimators=100; total time=   0.5s\n",
      "[CV] END ......max_depth=5, max_features=3, n_estimators=100; total time=   0.5s\n",
      "[CV] END ......max_depth=5, max_features=3, n_estimators=100; total time=   0.6s\n",
      "[CV] END ......max_depth=5, max_features=3, n_estimators=100; total time=   0.5s\n",
      "[CV] END .......max_depth=5, max_features=4, n_estimators=25; total time=   0.2s\n",
      "[CV] END .......max_depth=5, max_features=4, n_estimators=25; total time=   0.2s\n",
      "[CV] END .......max_depth=5, max_features=4, n_estimators=25; total time=   0.2s\n",
      "[CV] END .......max_depth=5, max_features=4, n_estimators=25; total time=   0.2s\n",
      "[CV] END .......max_depth=5, max_features=4, n_estimators=25; total time=   0.2s\n",
      "[CV] END .......max_depth=5, max_features=4, n_estimators=50; total time=   0.3s\n",
      "[CV] END .......max_depth=5, max_features=4, n_estimators=50; total time=   0.3s\n",
      "[CV] END .......max_depth=5, max_features=4, n_estimators=50; total time=   0.3s\n",
      "[CV] END .......max_depth=5, max_features=4, n_estimators=50; total time=   0.3s\n",
      "[CV] END .......max_depth=5, max_features=4, n_estimators=50; total time=   0.3s\n",
      "[CV] END .......max_depth=5, max_features=4, n_estimators=75; total time=   0.5s\n",
      "[CV] END .......max_depth=5, max_features=4, n_estimators=75; total time=   0.5s\n",
      "[CV] END .......max_depth=5, max_features=4, n_estimators=75; total time=   0.5s\n",
      "[CV] END .......max_depth=5, max_features=4, n_estimators=75; total time=   0.5s\n",
      "[CV] END .......max_depth=5, max_features=4, n_estimators=75; total time=   0.5s\n",
      "[CV] END ......max_depth=5, max_features=4, n_estimators=100; total time=   0.6s\n",
      "[CV] END ......max_depth=5, max_features=4, n_estimators=100; total time=   0.6s\n",
      "[CV] END ......max_depth=5, max_features=4, n_estimators=100; total time=   0.6s\n",
      "[CV] END ......max_depth=5, max_features=4, n_estimators=100; total time=   0.6s\n",
      "[CV] END ......max_depth=5, max_features=4, n_estimators=100; total time=   0.6s\n"
     ]
    },
    {
     "data": {
      "text/plain": [
       "GridSearchCV(cv=5, estimator=RandomForestClassifier(),\n",
       "             param_grid={'max_depth': [3, 4, 5], 'max_features': [2, 3, 4],\n",
       "                         'n_estimators': [25, 50, 75, 100]},\n",
       "             scoring='roc_auc', verbose=2)"
      ]
     },
     "execution_count": 35,
     "metadata": {},
     "output_type": "execute_result"
    }
   ],
   "source": [
    "from sklearn.ensemble import RandomForestClassifier\n",
    "random_for = RandomForestClassifier()\n",
    "param_grid = {'max_depth':[3,4,5],\n",
    "             'n_estimators':[25, 50, 75, 100],\n",
    "             'max_features':[2,3,4]}\n",
    "random_for_gscv = GridSearchCV(random_for, param_grid=param_grid, scoring='roc_auc', cv=5,\n",
    "                           verbose=2)\n",
    "random_for_gscv.fit(X, y)"
   ]
  },
  {
   "cell_type": "code",
   "execution_count": 36,
   "id": "1f6b7518-b2fb-4d16-9f56-52d154b1bd09",
   "metadata": {},
   "outputs": [
    {
     "name": "stdout",
     "output_type": "stream",
     "text": [
      "0.9819344730493593\n",
      "[0.27 0.05 0.12 0.07 0.15 0.   0.   0.09 0.24 0.   0.  ]\n"
     ]
    }
   ],
   "source": [
    "# The algorithm's roc_auc is great. But notice that the dataset has a handful of features that have no use\n",
    "# for the predictions. Let's verify whether removing them from the data can still improve the score.\n",
    "print(random_for_gscv.best_score_)\n",
    "print(random_for_gscv.best_estimator_.feature_importances_.round(2))"
   ]
  },
  {
   "cell_type": "markdown",
   "id": "4575b06e-1f2b-4d82-8d2f-70ebe1e336e5",
   "metadata": {},
   "source": [
    "<h2 style='font-size:30px'> Discarding non-important features</h2>\n",
    "<div> \n",
    "    <ul style='font-size:20px'> \n",
    "        <li> \n",
    "            Providing irrelevant data can compromise the models' performance. So it would be convenient for us to discard them with the use of a transformer.\n",
    "        </li>\n",
    "    </ul>\n",
    "</div>"
   ]
  },
  {
   "cell_type": "code",
   "execution_count": 37,
   "id": "3f479534-7569-4ba5-b1f0-82a3c0be0ebe",
   "metadata": {},
   "outputs": [],
   "source": [
    "# 'KeepReleveantFeatures' will maintain the k most relevant features in the dataset.\n",
    "class KeepReleveantFeatures(BaseEstimator, TransformerMixin):\n",
    "    # The user needs to declare the feature importances array along the value of k.\n",
    "    def __init__(self, features_importances, k):\n",
    "        self.features_importances=features_importances\n",
    "        self.k = k\n",
    "    \n",
    "    def fit(self, X, y=None):\n",
    "        return self\n",
    "    \n",
    "    def transform(self, X):\n",
    "        # Listing the features to be deleted.\n",
    "        feature_importances_delete = pd.Series(self.features_importances).sort_values(ascending=False).iloc[self.k:].index\n",
    "        # Deleting them and returning the transformed array.\n",
    "        X = np.delete(X, feature_importances_delete, axis=1)\n",
    "        return X"
   ]
  },
  {
   "cell_type": "code",
   "execution_count": 38,
   "id": "6d2752a3-c768-4305-8b53-6fb0661d690c",
   "metadata": {},
   "outputs": [
    {
     "name": "stderr",
     "output_type": "stream",
     "text": [
      "/tmp/ipykernel_141558/1796859430.py:14: FutureWarning: Using the level keyword in DataFrame and Series aggregations is deprecated and will be removed in a future version. Use groupby instead. df.sum(level=1) should use df.groupby(level=1).sum().\n",
      "  employees_per_category = quitting_and_staying.sum(level=1)\n",
      "/tmp/ipykernel_141558/1796859430.py:21: FutureWarning: Using the level keyword in DataFrame and Series aggregations is deprecated and will be removed in a future version. Use groupby instead. df.sum(level=1) should use df.groupby(level=1).sum().\n",
      "  employees_per_category = quitting_and_staying.sum(level=1)\n"
     ]
    }
   ],
   "source": [
    "# Adding the transformer to the data cleaning pipeline.\n",
    "# In this case, we'll keep the 5 most important features.\n",
    "X = train[[column for column in train.columns if column != 'quit']]\n",
    "feature_importances = random_for_gscv.best_estimator_.feature_importances_\n",
    "k = 5\n",
    "full_pipeline_imprt_ftr = Pipeline([\n",
    "            ('full_pipe', full_pipeline),\n",
    "            ('k_important_features', KeepReleveantFeatures(feature_importances, k))\n",
    "])\n",
    "X = full_pipeline_imprt_ftr.fit_transform(X)"
   ]
  },
  {
   "cell_type": "markdown",
   "id": "2c27b9fc-75ad-4068-8b5d-ece7c397ac60",
   "metadata": {},
   "source": [
    "<h2 style='font-size:30px'> Second phase of Validations</h2>\n",
    "<h3 style='font-size:30px;font-style:italic'> Random Forests (II)</h3>\n",
    "<div> \n",
    "    <ul style='font-size:20px'> \n",
    "        <li> \n",
    "            Let's see if any impact occurs when we delete the non-important features from the array.\n",
    "        </li>\n",
    "    </ul>\n",
    "</div>"
   ]
  },
  {
   "cell_type": "code",
   "execution_count": 39,
   "id": "5c9c5dd1-e406-43e4-9f29-2146568b6239",
   "metadata": {},
   "outputs": [
    {
     "name": "stdout",
     "output_type": "stream",
     "text": [
      "Fitting 5 folds for each of 16 candidates, totalling 80 fits\n",
      "[CV] END .......max_depth=5, max_features=4, n_estimators=25; total time=   0.2s\n",
      "[CV] END .......max_depth=5, max_features=4, n_estimators=25; total time=   0.2s\n",
      "[CV] END .......max_depth=5, max_features=4, n_estimators=25; total time=   0.2s\n",
      "[CV] END .......max_depth=5, max_features=4, n_estimators=25; total time=   0.2s\n",
      "[CV] END .......max_depth=5, max_features=4, n_estimators=25; total time=   0.2s\n",
      "[CV] END .......max_depth=5, max_features=4, n_estimators=50; total time=   0.3s\n",
      "[CV] END .......max_depth=5, max_features=4, n_estimators=50; total time=   0.3s\n",
      "[CV] END .......max_depth=5, max_features=4, n_estimators=50; total time=   0.4s\n",
      "[CV] END .......max_depth=5, max_features=4, n_estimators=50; total time=   0.3s\n",
      "[CV] END .......max_depth=5, max_features=4, n_estimators=50; total time=   0.3s\n",
      "[CV] END .......max_depth=5, max_features=4, n_estimators=75; total time=   0.5s\n",
      "[CV] END .......max_depth=5, max_features=4, n_estimators=75; total time=   0.5s\n",
      "[CV] END .......max_depth=5, max_features=4, n_estimators=75; total time=   0.5s\n",
      "[CV] END .......max_depth=5, max_features=4, n_estimators=75; total time=   0.5s\n",
      "[CV] END .......max_depth=5, max_features=4, n_estimators=75; total time=   0.5s\n",
      "[CV] END ......max_depth=5, max_features=4, n_estimators=100; total time=   0.7s\n",
      "[CV] END ......max_depth=5, max_features=4, n_estimators=100; total time=   0.6s\n",
      "[CV] END ......max_depth=5, max_features=4, n_estimators=100; total time=   0.7s\n",
      "[CV] END ......max_depth=5, max_features=4, n_estimators=100; total time=   0.6s\n",
      "[CV] END ......max_depth=5, max_features=4, n_estimators=100; total time=   0.6s\n",
      "[CV] END .......max_depth=5, max_features=5, n_estimators=25; total time=   0.2s\n",
      "[CV] END .......max_depth=5, max_features=5, n_estimators=25; total time=   0.2s\n",
      "[CV] END .......max_depth=5, max_features=5, n_estimators=25; total time=   0.2s\n",
      "[CV] END .......max_depth=5, max_features=5, n_estimators=25; total time=   0.2s\n",
      "[CV] END .......max_depth=5, max_features=5, n_estimators=25; total time=   0.2s\n",
      "[CV] END .......max_depth=5, max_features=5, n_estimators=50; total time=   0.4s\n",
      "[CV] END .......max_depth=5, max_features=5, n_estimators=50; total time=   0.4s\n",
      "[CV] END .......max_depth=5, max_features=5, n_estimators=50; total time=   0.4s\n",
      "[CV] END .......max_depth=5, max_features=5, n_estimators=50; total time=   0.4s\n",
      "[CV] END .......max_depth=5, max_features=5, n_estimators=50; total time=   0.4s\n",
      "[CV] END .......max_depth=5, max_features=5, n_estimators=75; total time=   0.6s\n",
      "[CV] END .......max_depth=5, max_features=5, n_estimators=75; total time=   0.6s\n",
      "[CV] END .......max_depth=5, max_features=5, n_estimators=75; total time=   0.6s\n",
      "[CV] END .......max_depth=5, max_features=5, n_estimators=75; total time=   0.6s\n",
      "[CV] END .......max_depth=5, max_features=5, n_estimators=75; total time=   0.6s\n",
      "[CV] END ......max_depth=5, max_features=5, n_estimators=100; total time=   0.7s\n",
      "[CV] END ......max_depth=5, max_features=5, n_estimators=100; total time=   0.7s\n",
      "[CV] END ......max_depth=5, max_features=5, n_estimators=100; total time=   0.8s\n",
      "[CV] END ......max_depth=5, max_features=5, n_estimators=100; total time=   0.8s\n",
      "[CV] END ......max_depth=5, max_features=5, n_estimators=100; total time=   0.8s\n",
      "[CV] END .......max_depth=6, max_features=4, n_estimators=25; total time=   0.2s\n",
      "[CV] END .......max_depth=6, max_features=4, n_estimators=25; total time=   0.2s\n",
      "[CV] END .......max_depth=6, max_features=4, n_estimators=25; total time=   0.2s\n",
      "[CV] END .......max_depth=6, max_features=4, n_estimators=25; total time=   0.2s\n",
      "[CV] END .......max_depth=6, max_features=4, n_estimators=25; total time=   0.2s\n",
      "[CV] END .......max_depth=6, max_features=4, n_estimators=50; total time=   0.4s\n",
      "[CV] END .......max_depth=6, max_features=4, n_estimators=50; total time=   0.4s\n",
      "[CV] END .......max_depth=6, max_features=4, n_estimators=50; total time=   0.4s\n",
      "[CV] END .......max_depth=6, max_features=4, n_estimators=50; total time=   0.4s\n",
      "[CV] END .......max_depth=6, max_features=4, n_estimators=50; total time=   0.4s\n",
      "[CV] END .......max_depth=6, max_features=4, n_estimators=75; total time=   0.6s\n",
      "[CV] END .......max_depth=6, max_features=4, n_estimators=75; total time=   0.5s\n",
      "[CV] END .......max_depth=6, max_features=4, n_estimators=75; total time=   0.6s\n",
      "[CV] END .......max_depth=6, max_features=4, n_estimators=75; total time=   0.6s\n",
      "[CV] END .......max_depth=6, max_features=4, n_estimators=75; total time=   0.6s\n",
      "[CV] END ......max_depth=6, max_features=4, n_estimators=100; total time=   0.7s\n",
      "[CV] END ......max_depth=6, max_features=4, n_estimators=100; total time=   0.7s\n",
      "[CV] END ......max_depth=6, max_features=4, n_estimators=100; total time=   0.7s\n",
      "[CV] END ......max_depth=6, max_features=4, n_estimators=100; total time=   0.7s\n",
      "[CV] END ......max_depth=6, max_features=4, n_estimators=100; total time=   0.7s\n",
      "[CV] END .......max_depth=6, max_features=5, n_estimators=25; total time=   0.2s\n",
      "[CV] END .......max_depth=6, max_features=5, n_estimators=25; total time=   0.2s\n",
      "[CV] END .......max_depth=6, max_features=5, n_estimators=25; total time=   0.2s\n",
      "[CV] END .......max_depth=6, max_features=5, n_estimators=25; total time=   0.2s\n",
      "[CV] END .......max_depth=6, max_features=5, n_estimators=25; total time=   0.2s\n",
      "[CV] END .......max_depth=6, max_features=5, n_estimators=50; total time=   0.4s\n",
      "[CV] END .......max_depth=6, max_features=5, n_estimators=50; total time=   0.4s\n",
      "[CV] END .......max_depth=6, max_features=5, n_estimators=50; total time=   0.4s\n",
      "[CV] END .......max_depth=6, max_features=5, n_estimators=50; total time=   0.4s\n",
      "[CV] END .......max_depth=6, max_features=5, n_estimators=50; total time=   0.4s\n",
      "[CV] END .......max_depth=6, max_features=5, n_estimators=75; total time=   0.6s\n",
      "[CV] END .......max_depth=6, max_features=5, n_estimators=75; total time=   0.7s\n",
      "[CV] END .......max_depth=6, max_features=5, n_estimators=75; total time=   0.6s\n",
      "[CV] END .......max_depth=6, max_features=5, n_estimators=75; total time=   0.6s\n",
      "[CV] END .......max_depth=6, max_features=5, n_estimators=75; total time=   0.7s\n",
      "[CV] END ......max_depth=6, max_features=5, n_estimators=100; total time=   0.8s\n",
      "[CV] END ......max_depth=6, max_features=5, n_estimators=100; total time=   0.8s\n",
      "[CV] END ......max_depth=6, max_features=5, n_estimators=100; total time=   0.8s\n",
      "[CV] END ......max_depth=6, max_features=5, n_estimators=100; total time=   0.8s\n",
      "[CV] END ......max_depth=6, max_features=5, n_estimators=100; total time=   0.8s\n"
     ]
    },
    {
     "data": {
      "text/plain": [
       "GridSearchCV(cv=5, estimator=RandomForestClassifier(),\n",
       "             param_grid={'max_depth': [5, 6], 'max_features': [4, 5],\n",
       "                         'n_estimators': [25, 50, 75, 100]},\n",
       "             scoring='roc_auc', verbose=2)"
      ]
     },
     "execution_count": 39,
     "metadata": {},
     "output_type": "execute_result"
    }
   ],
   "source": [
    "random_for2 = RandomForestClassifier()\n",
    "param_grid = {'max_depth':[5,6],\n",
    "             'n_estimators':[25, 50, 75, 100],\n",
    "             'max_features':[4,5]}\n",
    "random_for_gscv2 = GridSearchCV(random_for2, param_grid=param_grid, scoring='roc_auc', cv=5,\n",
    "                           verbose=2)\n",
    "random_for_gscv2.fit(X, y)"
   ]
  },
  {
   "cell_type": "code",
   "execution_count": 47,
   "id": "353b9094-1f3c-4cf8-b744-719261a7d9ee",
   "metadata": {},
   "outputs": [
    {
     "name": "stdout",
     "output_type": "stream",
     "text": [
      "RandomForestClassifier(max_depth=6, max_features=4)\n"
     ]
    },
    {
     "data": {
      "text/plain": [
       "0.9846537596681543"
      ]
     },
     "execution_count": 47,
     "metadata": {},
     "output_type": "execute_result"
    }
   ],
   "source": [
    "# The improvement was not the highest. Nonetheless, we can still try out the new array with other models.\n",
    "print(random_for_gscv2.best_estimator_)\n",
    "random_for_gscv2.best_score_"
   ]
  },
  {
   "cell_type": "markdown",
   "id": "4dd8a5ed-8abb-4146-8d2e-0fbfb8bfba44",
   "metadata": {},
   "source": [
    "<h3 style='font-size:30px;font-style:italic'> Logistic Regression (II)</h3>\n",
    "<div> \n",
    "    <ul style='font-size:20px'> \n",
    "        <li> \n",
    "            Checking if the transformation can upgrade the Logistic Regression's ROC-AUC score.\n",
    "        </li>\n",
    "    </ul>\n",
    "</div>"
   ]
  },
  {
   "cell_type": "code",
   "execution_count": 41,
   "id": "f89e3bea-9573-4253-b685-34ade8955d57",
   "metadata": {},
   "outputs": [
    {
     "name": "stdout",
     "output_type": "stream",
     "text": [
      "Fitting 5 folds for each of 8 candidates, totalling 40 fits\n",
      "[CV] END ...........................C=100000.0, solver=lbfgs; total time=   0.1s\n",
      "[CV] END ...........................C=100000.0, solver=lbfgs; total time=   0.1s\n",
      "[CV] END ...........................C=100000.0, solver=lbfgs; total time=   0.1s\n",
      "[CV] END ...........................C=100000.0, solver=lbfgs; total time=   0.1s\n",
      "[CV] END ...........................C=100000.0, solver=lbfgs; total time=   0.1s\n",
      "[CV] END .......................C=100000.0, solver=liblinear; total time=   0.1s\n",
      "[CV] END .......................C=100000.0, solver=liblinear; total time=   0.1s\n",
      "[CV] END .......................C=100000.0, solver=liblinear; total time=   0.0s\n",
      "[CV] END .......................C=100000.0, solver=liblinear; total time=   0.0s\n",
      "[CV] END .......................C=100000.0, solver=liblinear; total time=   0.0s\n",
      "[CV] END ..........................C=1000000.0, solver=lbfgs; total time=   0.1s\n",
      "[CV] END ..........................C=1000000.0, solver=lbfgs; total time=   0.1s\n",
      "[CV] END ..........................C=1000000.0, solver=lbfgs; total time=   0.1s\n",
      "[CV] END ..........................C=1000000.0, solver=lbfgs; total time=   0.1s\n",
      "[CV] END ..........................C=1000000.0, solver=lbfgs; total time=   0.1s\n",
      "[CV] END ......................C=1000000.0, solver=liblinear; total time=   0.0s\n",
      "[CV] END ......................C=1000000.0, solver=liblinear; total time=   0.1s\n",
      "[CV] END ......................C=1000000.0, solver=liblinear; total time=   0.0s\n",
      "[CV] END ......................C=1000000.0, solver=liblinear; total time=   0.1s\n",
      "[CV] END ......................C=1000000.0, solver=liblinear; total time=   0.0s\n",
      "[CV] END .........................C=10000000.0, solver=lbfgs; total time=   0.1s\n",
      "[CV] END .........................C=10000000.0, solver=lbfgs; total time=   0.1s\n",
      "[CV] END .........................C=10000000.0, solver=lbfgs; total time=   0.1s\n",
      "[CV] END .........................C=10000000.0, solver=lbfgs; total time=   0.1s\n",
      "[CV] END .........................C=10000000.0, solver=lbfgs; total time=   0.1s\n",
      "[CV] END .....................C=10000000.0, solver=liblinear; total time=   0.1s\n",
      "[CV] END .....................C=10000000.0, solver=liblinear; total time=   0.1s\n",
      "[CV] END .....................C=10000000.0, solver=liblinear; total time=   0.0s\n",
      "[CV] END .....................C=10000000.0, solver=liblinear; total time=   0.0s\n",
      "[CV] END .....................C=10000000.0, solver=liblinear; total time=   0.0s\n",
      "[CV] END ........................C=100000000.0, solver=lbfgs; total time=   0.1s\n",
      "[CV] END ........................C=100000000.0, solver=lbfgs; total time=   0.1s\n",
      "[CV] END ........................C=100000000.0, solver=lbfgs; total time=   0.1s\n",
      "[CV] END ........................C=100000000.0, solver=lbfgs; total time=   0.1s\n",
      "[CV] END ........................C=100000000.0, solver=lbfgs; total time=   0.1s\n",
      "[CV] END ....................C=100000000.0, solver=liblinear; total time=   0.1s\n",
      "[CV] END ....................C=100000000.0, solver=liblinear; total time=   0.0s\n",
      "[CV] END ....................C=100000000.0, solver=liblinear; total time=   0.0s\n",
      "[CV] END ....................C=100000000.0, solver=liblinear; total time=   0.1s\n",
      "[CV] END ....................C=100000000.0, solver=liblinear; total time=   0.0s\n"
     ]
    },
    {
     "data": {
      "text/plain": [
       "GridSearchCV(cv=5, estimator=LogisticRegression(),\n",
       "             param_grid={'C': [100000.0, 1000000.0, 10000000.0, 100000000.0],\n",
       "                         'solver': ['lbfgs', 'liblinear']},\n",
       "             scoring='roc_auc', verbose=2)"
      ]
     },
     "execution_count": 41,
     "metadata": {},
     "output_type": "execute_result"
    }
   ],
   "source": [
    "log_reg2 = LogisticRegression()\n",
    "param_grid = {'C':[10e4, 10e5, 10e6, 10e7],\n",
    "               'solver':['lbfgs', 'liblinear']}\n",
    "\n",
    "log_reg_gscv2 = GridSearchCV(log_reg2, param_grid=param_grid, scoring='roc_auc', cv=5,\n",
    "                           verbose=2)\n",
    "log_reg_gscv2.fit(X, y)"
   ]
  },
  {
   "cell_type": "code",
   "execution_count": 46,
   "id": "34b42834-f003-408f-90b6-084b5a06e5b1",
   "metadata": {},
   "outputs": [
    {
     "data": {
      "text/plain": [
       "({'C': 10000000.0, 'solver': 'lbfgs'}, 0.9010711873316396)"
      ]
     },
     "execution_count": 46,
     "metadata": {},
     "output_type": "execute_result"
    }
   ],
   "source": [
    "# That was not the case.\n",
    "log_reg_gscv2.best_params_, log_reg_gscv2.best_score_"
   ]
  },
  {
   "cell_type": "markdown",
   "id": "afde6ed6-2ddc-415f-a28a-bc3035b467ce",
   "metadata": {},
   "source": [
    "<h3 style='font-size:30px;font-style:italic'> Support Vector Machines</h3>\n",
    "<div> \n",
    "    <ul style='font-size:20px'> \n",
    "        <li> \n",
    "            SVM's are designed to handle binary classification tasks. They could not be forgotten for such project. \n",
    "        </li>\n",
    "    </ul>\n",
    "</div>"
   ]
  },
  {
   "cell_type": "code",
   "execution_count": 43,
   "id": "c582179a-8fca-4182-87bf-5d805740a194",
   "metadata": {},
   "outputs": [
    {
     "name": "stdout",
     "output_type": "stream",
     "text": [
      "Fitting 5 folds for each of 16 candidates, totalling 80 fits\n",
      "[CV] END .....................C=1e-05, degree=1, kernel=poly; total time=   2.1s\n",
      "[CV] END .....................C=1e-05, degree=1, kernel=poly; total time=   1.7s\n",
      "[CV] END .....................C=1e-05, degree=1, kernel=poly; total time=   1.7s\n",
      "[CV] END .....................C=1e-05, degree=1, kernel=poly; total time=   2.0s\n",
      "[CV] END .....................C=1e-05, degree=1, kernel=poly; total time=   2.0s\n",
      "[CV] END ......................C=1e-05, degree=1, kernel=rbf; total time=   2.6s\n",
      "[CV] END ......................C=1e-05, degree=1, kernel=rbf; total time=   2.7s\n",
      "[CV] END ......................C=1e-05, degree=1, kernel=rbf; total time=   2.6s\n",
      "[CV] END ......................C=1e-05, degree=1, kernel=rbf; total time=   2.7s\n",
      "[CV] END ......................C=1e-05, degree=1, kernel=rbf; total time=   2.7s\n",
      "[CV] END .....................C=1e-05, degree=3, kernel=poly; total time=   2.0s\n",
      "[CV] END .....................C=1e-05, degree=3, kernel=poly; total time=   2.1s\n",
      "[CV] END .....................C=1e-05, degree=3, kernel=poly; total time=   2.0s\n",
      "[CV] END .....................C=1e-05, degree=3, kernel=poly; total time=   2.1s\n",
      "[CV] END .....................C=1e-05, degree=3, kernel=poly; total time=   2.1s\n",
      "[CV] END ......................C=1e-05, degree=3, kernel=rbf; total time=   2.7s\n",
      "[CV] END ......................C=1e-05, degree=3, kernel=rbf; total time=   2.7s\n",
      "[CV] END ......................C=1e-05, degree=3, kernel=rbf; total time=   2.7s\n",
      "[CV] END ......................C=1e-05, degree=3, kernel=rbf; total time=   2.6s\n",
      "[CV] END ......................C=1e-05, degree=3, kernel=rbf; total time=   2.6s\n",
      "[CV] END ......................C=0.01, degree=1, kernel=poly; total time=   3.0s\n",
      "[CV] END ......................C=0.01, degree=1, kernel=poly; total time=   2.5s\n",
      "[CV] END ......................C=0.01, degree=1, kernel=poly; total time=   2.7s\n",
      "[CV] END ......................C=0.01, degree=1, kernel=poly; total time=   2.5s\n",
      "[CV] END ......................C=0.01, degree=1, kernel=poly; total time=   2.9s\n",
      "[CV] END .......................C=0.01, degree=1, kernel=rbf; total time=   2.5s\n",
      "[CV] END .......................C=0.01, degree=1, kernel=rbf; total time=   2.6s\n",
      "[CV] END .......................C=0.01, degree=1, kernel=rbf; total time=   2.5s\n",
      "[CV] END .......................C=0.01, degree=1, kernel=rbf; total time=   2.6s\n",
      "[CV] END .......................C=0.01, degree=1, kernel=rbf; total time=   2.7s\n",
      "[CV] END ......................C=0.01, degree=3, kernel=poly; total time=   1.6s\n",
      "[CV] END ......................C=0.01, degree=3, kernel=poly; total time=   1.6s\n",
      "[CV] END ......................C=0.01, degree=3, kernel=poly; total time=   1.6s\n",
      "[CV] END ......................C=0.01, degree=3, kernel=poly; total time=   1.7s\n",
      "[CV] END ......................C=0.01, degree=3, kernel=poly; total time=   1.8s\n",
      "[CV] END .......................C=0.01, degree=3, kernel=rbf; total time=   2.5s\n",
      "[CV] END .......................C=0.01, degree=3, kernel=rbf; total time=   2.5s\n",
      "[CV] END .......................C=0.01, degree=3, kernel=rbf; total time=   2.5s\n",
      "[CV] END .......................C=0.01, degree=3, kernel=rbf; total time=   2.7s\n",
      "[CV] END .......................C=0.01, degree=3, kernel=rbf; total time=   2.6s\n",
      "[CV] END .....................C=100.0, degree=1, kernel=poly; total time=   7.8s\n",
      "[CV] END .....................C=100.0, degree=1, kernel=poly; total time=   7.6s\n",
      "[CV] END .....................C=100.0, degree=1, kernel=poly; total time=   7.6s\n",
      "[CV] END .....................C=100.0, degree=1, kernel=poly; total time=   8.0s\n",
      "[CV] END .....................C=100.0, degree=1, kernel=poly; total time=   7.7s\n",
      "[CV] END ......................C=100.0, degree=1, kernel=rbf; total time=   1.5s\n",
      "[CV] END ......................C=100.0, degree=1, kernel=rbf; total time=   1.5s\n",
      "[CV] END ......................C=100.0, degree=1, kernel=rbf; total time=   1.6s\n",
      "[CV] END ......................C=100.0, degree=1, kernel=rbf; total time=   1.5s\n",
      "[CV] END ......................C=100.0, degree=1, kernel=rbf; total time=   1.6s\n",
      "[CV] END .....................C=100.0, degree=3, kernel=poly; total time=  20.5s\n",
      "[CV] END .....................C=100.0, degree=3, kernel=poly; total time=  18.5s\n",
      "[CV] END .....................C=100.0, degree=3, kernel=poly; total time=  22.3s\n",
      "[CV] END .....................C=100.0, degree=3, kernel=poly; total time=  20.4s\n",
      "[CV] END .....................C=100.0, degree=3, kernel=poly; total time=  18.8s\n",
      "[CV] END ......................C=100.0, degree=3, kernel=rbf; total time=   1.5s\n",
      "[CV] END ......................C=100.0, degree=3, kernel=rbf; total time=   1.5s\n",
      "[CV] END ......................C=100.0, degree=3, kernel=rbf; total time=   1.6s\n",
      "[CV] END ......................C=100.0, degree=3, kernel=rbf; total time=   1.5s\n",
      "[CV] END ......................C=100.0, degree=3, kernel=rbf; total time=   1.6s\n",
      "[CV] END ....................C=1000.0, degree=1, kernel=poly; total time=  36.9s\n",
      "[CV] END ....................C=1000.0, degree=1, kernel=poly; total time=  34.2s\n",
      "[CV] END ....................C=1000.0, degree=1, kernel=poly; total time=  32.7s\n",
      "[CV] END ....................C=1000.0, degree=1, kernel=poly; total time=  35.0s\n",
      "[CV] END ....................C=1000.0, degree=1, kernel=poly; total time=  37.1s\n",
      "[CV] END .....................C=1000.0, degree=1, kernel=rbf; total time=   4.7s\n",
      "[CV] END .....................C=1000.0, degree=1, kernel=rbf; total time=   5.0s\n",
      "[CV] END .....................C=1000.0, degree=1, kernel=rbf; total time=   4.6s\n",
      "[CV] END .....................C=1000.0, degree=1, kernel=rbf; total time=   4.9s\n",
      "[CV] END .....................C=1000.0, degree=1, kernel=rbf; total time=   5.4s\n",
      "[CV] END ....................C=1000.0, degree=3, kernel=poly; total time= 2.4min\n",
      "[CV] END ....................C=1000.0, degree=3, kernel=poly; total time= 2.5min\n",
      "[CV] END ....................C=1000.0, degree=3, kernel=poly; total time= 2.9min\n",
      "[CV] END ....................C=1000.0, degree=3, kernel=poly; total time= 3.2min\n",
      "[CV] END ....................C=1000.0, degree=3, kernel=poly; total time= 2.3min\n",
      "[CV] END .....................C=1000.0, degree=3, kernel=rbf; total time=   4.7s\n",
      "[CV] END .....................C=1000.0, degree=3, kernel=rbf; total time=   5.1s\n",
      "[CV] END .....................C=1000.0, degree=3, kernel=rbf; total time=   4.7s\n",
      "[CV] END .....................C=1000.0, degree=3, kernel=rbf; total time=   5.1s\n",
      "[CV] END .....................C=1000.0, degree=3, kernel=rbf; total time=   5.4s\n"
     ]
    },
    {
     "data": {
      "text/plain": [
       "GridSearchCV(cv=5, estimator=SVC(),\n",
       "             param_grid={'C': [1e-05, 0.01, 100.0, 1000.0], 'degree': [1, 3],\n",
       "                         'kernel': ['poly', 'rbf']},\n",
       "             scoring='roc_auc', verbose=2)"
      ]
     },
     "execution_count": 43,
     "metadata": {},
     "output_type": "execute_result"
    }
   ],
   "source": [
    "from sklearn.svm import SVC\n",
    "svc = SVC()\n",
    "param_grid = {'kernel':['poly', 'rbf'],\n",
    "             'C':[1e-5, 1e-2, 1e2, 1e3],\n",
    "             'degree':[1,3]}\n",
    "svc_gscv = GridSearchCV(svc, param_grid=param_grid, scoring='roc_auc', cv=5, verbose=2)\n",
    "svc_gscv.fit(X,y)"
   ]
  },
  {
   "cell_type": "code",
   "execution_count": 45,
   "id": "98258b8d-eaf8-43f2-bd1a-b2cff350e9e6",
   "metadata": {},
   "outputs": [
    {
     "data": {
      "text/plain": [
       "({'C': 1000.0, 'degree': 1, 'kernel': 'rbf'}, 0.9744084525068066)"
      ]
     },
     "execution_count": 45,
     "metadata": {},
     "output_type": "execute_result"
    }
   ],
   "source": [
    "# Looks like we've found another contender fot being the deployement model!\n",
    "svc_gscv.best_params_, svc_gscv.best_score_"
   ]
  },
  {
   "cell_type": "markdown",
   "id": "67d59ad1-b7d7-4269-b1c5-08e49e91ba5d",
   "metadata": {},
   "source": [
    "<h3 style='font-size:30px;font-style:italic'> Neural Networks</h3>\n",
    "<div> \n",
    "    <ul style='font-size:20px'> \n",
    "        <li> \n",
    "            Neural Networks are capable of finding relationships among features that are not readily visible to humans. It is worth trying them even though they demand a high computational cost. \n",
    "        </li>\n",
    "    </ul>\n",
    "</div>"
   ]
  },
  {
   "cell_type": "code",
   "execution_count": 54,
   "id": "5c1db8c8-ade8-4590-80c6-0115a84edb82",
   "metadata": {},
   "outputs": [
    {
     "name": "stdout",
     "output_type": "stream",
     "text": [
      "Fitting 5 folds for each of 4 candidates, totalling 20 fits\n"
     ]
    },
    {
     "name": "stderr",
     "output_type": "stream",
     "text": [
      "/home/veiga/.local/lib/python3.8/site-packages/sklearn/neural_network/_multilayer_perceptron.py:549: ConvergenceWarning: lbfgs failed to converge (status=1):\n",
      "STOP: TOTAL NO. of ITERATIONS REACHED LIMIT.\n",
      "\n",
      "Increase the number of iterations (max_iter) or scale the data as shown in:\n",
      "    https://scikit-learn.org/stable/modules/preprocessing.html\n",
      "  self.n_iter_ = _check_optimize_result(\"lbfgs\", opt_res, self.max_iter)\n"
     ]
    },
    {
     "name": "stdout",
     "output_type": "stream",
     "text": [
      "[CV] END .......activation=relu, hidden_layer_sizes=[25, 50]; total time=  31.3s\n"
     ]
    },
    {
     "name": "stderr",
     "output_type": "stream",
     "text": [
      "/home/veiga/.local/lib/python3.8/site-packages/sklearn/neural_network/_multilayer_perceptron.py:549: ConvergenceWarning: lbfgs failed to converge (status=1):\n",
      "STOP: TOTAL NO. of ITERATIONS REACHED LIMIT.\n",
      "\n",
      "Increase the number of iterations (max_iter) or scale the data as shown in:\n",
      "    https://scikit-learn.org/stable/modules/preprocessing.html\n",
      "  self.n_iter_ = _check_optimize_result(\"lbfgs\", opt_res, self.max_iter)\n"
     ]
    },
    {
     "name": "stdout",
     "output_type": "stream",
     "text": [
      "[CV] END .......activation=relu, hidden_layer_sizes=[25, 50]; total time=  31.9s\n"
     ]
    },
    {
     "name": "stderr",
     "output_type": "stream",
     "text": [
      "/home/veiga/.local/lib/python3.8/site-packages/sklearn/neural_network/_multilayer_perceptron.py:549: ConvergenceWarning: lbfgs failed to converge (status=1):\n",
      "STOP: TOTAL NO. of ITERATIONS REACHED LIMIT.\n",
      "\n",
      "Increase the number of iterations (max_iter) or scale the data as shown in:\n",
      "    https://scikit-learn.org/stable/modules/preprocessing.html\n",
      "  self.n_iter_ = _check_optimize_result(\"lbfgs\", opt_res, self.max_iter)\n"
     ]
    },
    {
     "name": "stdout",
     "output_type": "stream",
     "text": [
      "[CV] END .......activation=relu, hidden_layer_sizes=[25, 50]; total time=  33.5s\n"
     ]
    },
    {
     "name": "stderr",
     "output_type": "stream",
     "text": [
      "/home/veiga/.local/lib/python3.8/site-packages/sklearn/neural_network/_multilayer_perceptron.py:549: ConvergenceWarning: lbfgs failed to converge (status=1):\n",
      "STOP: TOTAL NO. of ITERATIONS REACHED LIMIT.\n",
      "\n",
      "Increase the number of iterations (max_iter) or scale the data as shown in:\n",
      "    https://scikit-learn.org/stable/modules/preprocessing.html\n",
      "  self.n_iter_ = _check_optimize_result(\"lbfgs\", opt_res, self.max_iter)\n"
     ]
    },
    {
     "name": "stdout",
     "output_type": "stream",
     "text": [
      "[CV] END .......activation=relu, hidden_layer_sizes=[25, 50]; total time=  32.8s\n"
     ]
    },
    {
     "name": "stderr",
     "output_type": "stream",
     "text": [
      "/home/veiga/.local/lib/python3.8/site-packages/sklearn/neural_network/_multilayer_perceptron.py:549: ConvergenceWarning: lbfgs failed to converge (status=1):\n",
      "STOP: TOTAL NO. of ITERATIONS REACHED LIMIT.\n",
      "\n",
      "Increase the number of iterations (max_iter) or scale the data as shown in:\n",
      "    https://scikit-learn.org/stable/modules/preprocessing.html\n",
      "  self.n_iter_ = _check_optimize_result(\"lbfgs\", opt_res, self.max_iter)\n"
     ]
    },
    {
     "name": "stdout",
     "output_type": "stream",
     "text": [
      "[CV] END .......activation=relu, hidden_layer_sizes=[25, 50]; total time=  34.7s\n"
     ]
    },
    {
     "name": "stderr",
     "output_type": "stream",
     "text": [
      "/home/veiga/.local/lib/python3.8/site-packages/sklearn/neural_network/_multilayer_perceptron.py:549: ConvergenceWarning: lbfgs failed to converge (status=1):\n",
      "STOP: TOTAL NO. of ITERATIONS REACHED LIMIT.\n",
      "\n",
      "Increase the number of iterations (max_iter) or scale the data as shown in:\n",
      "    https://scikit-learn.org/stable/modules/preprocessing.html\n",
      "  self.n_iter_ = _check_optimize_result(\"lbfgs\", opt_res, self.max_iter)\n"
     ]
    },
    {
     "name": "stdout",
     "output_type": "stream",
     "text": [
      "[CV] END .......activation=relu, hidden_layer_sizes=[50, 50]; total time=  41.4s\n"
     ]
    },
    {
     "name": "stderr",
     "output_type": "stream",
     "text": [
      "/home/veiga/.local/lib/python3.8/site-packages/sklearn/neural_network/_multilayer_perceptron.py:549: ConvergenceWarning: lbfgs failed to converge (status=1):\n",
      "STOP: TOTAL NO. of ITERATIONS REACHED LIMIT.\n",
      "\n",
      "Increase the number of iterations (max_iter) or scale the data as shown in:\n",
      "    https://scikit-learn.org/stable/modules/preprocessing.html\n",
      "  self.n_iter_ = _check_optimize_result(\"lbfgs\", opt_res, self.max_iter)\n"
     ]
    },
    {
     "name": "stdout",
     "output_type": "stream",
     "text": [
      "[CV] END .......activation=relu, hidden_layer_sizes=[50, 50]; total time=  41.4s\n"
     ]
    },
    {
     "name": "stderr",
     "output_type": "stream",
     "text": [
      "/home/veiga/.local/lib/python3.8/site-packages/sklearn/neural_network/_multilayer_perceptron.py:549: ConvergenceWarning: lbfgs failed to converge (status=1):\n",
      "STOP: TOTAL NO. of ITERATIONS REACHED LIMIT.\n",
      "\n",
      "Increase the number of iterations (max_iter) or scale the data as shown in:\n",
      "    https://scikit-learn.org/stable/modules/preprocessing.html\n",
      "  self.n_iter_ = _check_optimize_result(\"lbfgs\", opt_res, self.max_iter)\n"
     ]
    },
    {
     "name": "stdout",
     "output_type": "stream",
     "text": [
      "[CV] END .......activation=relu, hidden_layer_sizes=[50, 50]; total time=  46.1s\n"
     ]
    },
    {
     "name": "stderr",
     "output_type": "stream",
     "text": [
      "/home/veiga/.local/lib/python3.8/site-packages/sklearn/neural_network/_multilayer_perceptron.py:549: ConvergenceWarning: lbfgs failed to converge (status=1):\n",
      "STOP: TOTAL NO. of ITERATIONS REACHED LIMIT.\n",
      "\n",
      "Increase the number of iterations (max_iter) or scale the data as shown in:\n",
      "    https://scikit-learn.org/stable/modules/preprocessing.html\n",
      "  self.n_iter_ = _check_optimize_result(\"lbfgs\", opt_res, self.max_iter)\n"
     ]
    },
    {
     "name": "stdout",
     "output_type": "stream",
     "text": [
      "[CV] END .......activation=relu, hidden_layer_sizes=[50, 50]; total time=  41.4s\n"
     ]
    },
    {
     "name": "stderr",
     "output_type": "stream",
     "text": [
      "/home/veiga/.local/lib/python3.8/site-packages/sklearn/neural_network/_multilayer_perceptron.py:549: ConvergenceWarning: lbfgs failed to converge (status=1):\n",
      "STOP: TOTAL NO. of ITERATIONS REACHED LIMIT.\n",
      "\n",
      "Increase the number of iterations (max_iter) or scale the data as shown in:\n",
      "    https://scikit-learn.org/stable/modules/preprocessing.html\n",
      "  self.n_iter_ = _check_optimize_result(\"lbfgs\", opt_res, self.max_iter)\n"
     ]
    },
    {
     "name": "stdout",
     "output_type": "stream",
     "text": [
      "[CV] END .......activation=relu, hidden_layer_sizes=[50, 50]; total time=  41.3s\n"
     ]
    },
    {
     "name": "stderr",
     "output_type": "stream",
     "text": [
      "/home/veiga/.local/lib/python3.8/site-packages/sklearn/neural_network/_multilayer_perceptron.py:549: ConvergenceWarning: lbfgs failed to converge (status=1):\n",
      "STOP: TOTAL NO. of ITERATIONS REACHED LIMIT.\n",
      "\n",
      "Increase the number of iterations (max_iter) or scale the data as shown in:\n",
      "    https://scikit-learn.org/stable/modules/preprocessing.html\n",
      "  self.n_iter_ = _check_optimize_result(\"lbfgs\", opt_res, self.max_iter)\n"
     ]
    },
    {
     "name": "stdout",
     "output_type": "stream",
     "text": [
      "[CV] END .......activation=tanh, hidden_layer_sizes=[25, 50]; total time= 1.3min\n"
     ]
    },
    {
     "name": "stderr",
     "output_type": "stream",
     "text": [
      "/home/veiga/.local/lib/python3.8/site-packages/sklearn/neural_network/_multilayer_perceptron.py:549: ConvergenceWarning: lbfgs failed to converge (status=1):\n",
      "STOP: TOTAL NO. of ITERATIONS REACHED LIMIT.\n",
      "\n",
      "Increase the number of iterations (max_iter) or scale the data as shown in:\n",
      "    https://scikit-learn.org/stable/modules/preprocessing.html\n",
      "  self.n_iter_ = _check_optimize_result(\"lbfgs\", opt_res, self.max_iter)\n"
     ]
    },
    {
     "name": "stdout",
     "output_type": "stream",
     "text": [
      "[CV] END .......activation=tanh, hidden_layer_sizes=[25, 50]; total time= 1.3min\n"
     ]
    },
    {
     "name": "stderr",
     "output_type": "stream",
     "text": [
      "/home/veiga/.local/lib/python3.8/site-packages/sklearn/neural_network/_multilayer_perceptron.py:549: ConvergenceWarning: lbfgs failed to converge (status=1):\n",
      "STOP: TOTAL NO. of ITERATIONS REACHED LIMIT.\n",
      "\n",
      "Increase the number of iterations (max_iter) or scale the data as shown in:\n",
      "    https://scikit-learn.org/stable/modules/preprocessing.html\n",
      "  self.n_iter_ = _check_optimize_result(\"lbfgs\", opt_res, self.max_iter)\n"
     ]
    },
    {
     "name": "stdout",
     "output_type": "stream",
     "text": [
      "[CV] END .......activation=tanh, hidden_layer_sizes=[25, 50]; total time= 1.2min\n"
     ]
    },
    {
     "name": "stderr",
     "output_type": "stream",
     "text": [
      "/home/veiga/.local/lib/python3.8/site-packages/sklearn/neural_network/_multilayer_perceptron.py:549: ConvergenceWarning: lbfgs failed to converge (status=1):\n",
      "STOP: TOTAL NO. of ITERATIONS REACHED LIMIT.\n",
      "\n",
      "Increase the number of iterations (max_iter) or scale the data as shown in:\n",
      "    https://scikit-learn.org/stable/modules/preprocessing.html\n",
      "  self.n_iter_ = _check_optimize_result(\"lbfgs\", opt_res, self.max_iter)\n"
     ]
    },
    {
     "name": "stdout",
     "output_type": "stream",
     "text": [
      "[CV] END .......activation=tanh, hidden_layer_sizes=[25, 50]; total time= 1.2min\n"
     ]
    },
    {
     "name": "stderr",
     "output_type": "stream",
     "text": [
      "/home/veiga/.local/lib/python3.8/site-packages/sklearn/neural_network/_multilayer_perceptron.py:549: ConvergenceWarning: lbfgs failed to converge (status=1):\n",
      "STOP: TOTAL NO. of ITERATIONS REACHED LIMIT.\n",
      "\n",
      "Increase the number of iterations (max_iter) or scale the data as shown in:\n",
      "    https://scikit-learn.org/stable/modules/preprocessing.html\n",
      "  self.n_iter_ = _check_optimize_result(\"lbfgs\", opt_res, self.max_iter)\n"
     ]
    },
    {
     "name": "stdout",
     "output_type": "stream",
     "text": [
      "[CV] END .......activation=tanh, hidden_layer_sizes=[25, 50]; total time= 1.3min\n"
     ]
    },
    {
     "name": "stderr",
     "output_type": "stream",
     "text": [
      "/home/veiga/.local/lib/python3.8/site-packages/sklearn/neural_network/_multilayer_perceptron.py:549: ConvergenceWarning: lbfgs failed to converge (status=1):\n",
      "STOP: TOTAL NO. of ITERATIONS REACHED LIMIT.\n",
      "\n",
      "Increase the number of iterations (max_iter) or scale the data as shown in:\n",
      "    https://scikit-learn.org/stable/modules/preprocessing.html\n",
      "  self.n_iter_ = _check_optimize_result(\"lbfgs\", opt_res, self.max_iter)\n"
     ]
    },
    {
     "name": "stdout",
     "output_type": "stream",
     "text": [
      "[CV] END .......activation=tanh, hidden_layer_sizes=[50, 50]; total time= 1.7min\n"
     ]
    },
    {
     "name": "stderr",
     "output_type": "stream",
     "text": [
      "/home/veiga/.local/lib/python3.8/site-packages/sklearn/neural_network/_multilayer_perceptron.py:549: ConvergenceWarning: lbfgs failed to converge (status=1):\n",
      "STOP: TOTAL NO. of ITERATIONS REACHED LIMIT.\n",
      "\n",
      "Increase the number of iterations (max_iter) or scale the data as shown in:\n",
      "    https://scikit-learn.org/stable/modules/preprocessing.html\n",
      "  self.n_iter_ = _check_optimize_result(\"lbfgs\", opt_res, self.max_iter)\n"
     ]
    },
    {
     "name": "stdout",
     "output_type": "stream",
     "text": [
      "[CV] END .......activation=tanh, hidden_layer_sizes=[50, 50]; total time= 1.7min\n"
     ]
    },
    {
     "name": "stderr",
     "output_type": "stream",
     "text": [
      "/home/veiga/.local/lib/python3.8/site-packages/sklearn/neural_network/_multilayer_perceptron.py:549: ConvergenceWarning: lbfgs failed to converge (status=1):\n",
      "STOP: TOTAL NO. of ITERATIONS REACHED LIMIT.\n",
      "\n",
      "Increase the number of iterations (max_iter) or scale the data as shown in:\n",
      "    https://scikit-learn.org/stable/modules/preprocessing.html\n",
      "  self.n_iter_ = _check_optimize_result(\"lbfgs\", opt_res, self.max_iter)\n"
     ]
    },
    {
     "name": "stdout",
     "output_type": "stream",
     "text": [
      "[CV] END .......activation=tanh, hidden_layer_sizes=[50, 50]; total time= 1.7min\n"
     ]
    },
    {
     "name": "stderr",
     "output_type": "stream",
     "text": [
      "/home/veiga/.local/lib/python3.8/site-packages/sklearn/neural_network/_multilayer_perceptron.py:549: ConvergenceWarning: lbfgs failed to converge (status=1):\n",
      "STOP: TOTAL NO. of ITERATIONS REACHED LIMIT.\n",
      "\n",
      "Increase the number of iterations (max_iter) or scale the data as shown in:\n",
      "    https://scikit-learn.org/stable/modules/preprocessing.html\n",
      "  self.n_iter_ = _check_optimize_result(\"lbfgs\", opt_res, self.max_iter)\n"
     ]
    },
    {
     "name": "stdout",
     "output_type": "stream",
     "text": [
      "[CV] END .......activation=tanh, hidden_layer_sizes=[50, 50]; total time= 1.6min\n"
     ]
    },
    {
     "name": "stderr",
     "output_type": "stream",
     "text": [
      "/home/veiga/.local/lib/python3.8/site-packages/sklearn/neural_network/_multilayer_perceptron.py:549: ConvergenceWarning: lbfgs failed to converge (status=1):\n",
      "STOP: TOTAL NO. of ITERATIONS REACHED LIMIT.\n",
      "\n",
      "Increase the number of iterations (max_iter) or scale the data as shown in:\n",
      "    https://scikit-learn.org/stable/modules/preprocessing.html\n",
      "  self.n_iter_ = _check_optimize_result(\"lbfgs\", opt_res, self.max_iter)\n"
     ]
    },
    {
     "name": "stdout",
     "output_type": "stream",
     "text": [
      "[CV] END .......activation=tanh, hidden_layer_sizes=[50, 50]; total time= 1.7min\n"
     ]
    },
    {
     "name": "stderr",
     "output_type": "stream",
     "text": [
      "/home/veiga/.local/lib/python3.8/site-packages/sklearn/neural_network/_multilayer_perceptron.py:549: ConvergenceWarning: lbfgs failed to converge (status=1):\n",
      "STOP: TOTAL NO. of ITERATIONS REACHED LIMIT.\n",
      "\n",
      "Increase the number of iterations (max_iter) or scale the data as shown in:\n",
      "    https://scikit-learn.org/stable/modules/preprocessing.html\n",
      "  self.n_iter_ = _check_optimize_result(\"lbfgs\", opt_res, self.max_iter)\n"
     ]
    },
    {
     "data": {
      "text/plain": [
       "GridSearchCV(cv=5, estimator=MLPClassifier(max_iter=1000, solver='lbfgs'),\n",
       "             param_grid={'activation': ['relu', 'tanh'],\n",
       "                         'hidden_layer_sizes': [[25, 50], [50, 50]]},\n",
       "             scoring='roc_auc', verbose=2)"
      ]
     },
     "execution_count": 54,
     "metadata": {},
     "output_type": "execute_result"
    }
   ],
   "source": [
    "from sklearn.neural_network import MLPClassifier\n",
    "neural = MLPClassifier(solver='lbfgs', max_iter=1000)\n",
    "param_grid = {'hidden_layer_sizes':[[25,50],[50,50]],\n",
    "             'activation':['relu', 'tanh']}\n",
    "neural_gscv = GridSearchCV(neural, param_grid=param_grid, scoring='roc_auc', cv=5, verbose=2)\n",
    "neural_gscv.fit(X,y)"
   ]
  },
  {
   "cell_type": "code",
   "execution_count": 101,
   "id": "190e44ce-374e-4cb3-91c8-bf1cdd5d3be5",
   "metadata": {},
   "outputs": [
    {
     "data": {
      "text/plain": [
       "({'activation': 'tanh', 'hidden_layer_sizes': [50, 50]}, 0.984455562453657)"
      ]
     },
     "execution_count": 101,
     "metadata": {},
     "output_type": "execute_result"
    }
   ],
   "source": [
    "# We now have 3 highly promissing models to make the final evaluation.\n",
    "neural_gscv.best_params_, neural_gscv.best_score_"
   ]
  },
  {
   "cell_type": "markdown",
   "id": "2a23d46c-251b-4d31-a64f-4a7bb4c2db5e",
   "metadata": {},
   "source": [
    "<h2 style='font-size:30px'> Choosing the Deployment Model</h2>\n",
    "<div> \n",
    "    <ul style='font-size:20px'> \n",
    "        <li> \n",
    "            It is time to evaluate the performance of the algorithms against the test set. By first, it is necessary to apply the transformations required.\n",
    "        </li>\n",
    "    </ul>\n",
    "</div>"
   ]
  },
  {
   "cell_type": "code",
   "execution_count": 97,
   "id": "a71692bb-81a4-4ff9-b324-8d3c7425b90d",
   "metadata": {},
   "outputs": [
    {
     "name": "stderr",
     "output_type": "stream",
     "text": [
      "/tmp/ipykernel_141558/1796859430.py:14: FutureWarning: Using the level keyword in DataFrame and Series aggregations is deprecated and will be removed in a future version. Use groupby instead. df.sum(level=1) should use df.groupby(level=1).sum().\n",
      "  employees_per_category = quitting_and_staying.sum(level=1)\n",
      "/tmp/ipykernel_141558/1796859430.py:21: FutureWarning: Using the level keyword in DataFrame and Series aggregations is deprecated and will be removed in a future version. Use groupby instead. df.sum(level=1) should use df.groupby(level=1).sum().\n",
      "  employees_per_category = quitting_and_staying.sum(level=1)\n"
     ]
    }
   ],
   "source": [
    "X_test = test[[column for column in test.columns if column !='quit']]\n",
    "y_test = test['quit']\n",
    "X_test = full_pipeline_imprt_ftr.transform(X_test)"
   ]
  },
  {
   "cell_type": "markdown",
   "id": "ac0d5f4d-edd0-4602-bdd0-edec0623da04",
   "metadata": {},
   "source": [
    "<h3 style='font-size:30px;font-style:italic'> Random Forests</h3>"
   ]
  },
  {
   "cell_type": "code",
   "execution_count": 79,
   "id": "c83ad51d-2137-486e-a022-3e91898bfa0f",
   "metadata": {},
   "outputs": [
    {
     "data": {
      "text/plain": [
       "0.9533226604855819"
      ]
     },
     "execution_count": 79,
     "metadata": {},
     "output_type": "execute_result"
    }
   ],
   "source": [
    "from sklearn.metrics import roc_auc_score\n",
    "random_for_pred = random_for_gscv2.best_estimator_.predict(X_test)\n",
    "roc_auc_score(y_test, random_for_pred)"
   ]
  },
  {
   "cell_type": "markdown",
   "id": "eacf887b-382f-4d56-bc62-37c8d3e372b6",
   "metadata": {},
   "source": [
    "<h3 style='font-size:30px;font-style:italic'> Support Vector Machines</h3>"
   ]
  },
  {
   "cell_type": "code",
   "execution_count": 80,
   "id": "83b9c4e0-fbd2-4e27-b0b4-a3653a2142dd",
   "metadata": {},
   "outputs": [
    {
     "data": {
      "text/plain": [
       "0.9531974345878842"
      ]
     },
     "execution_count": 80,
     "metadata": {},
     "output_type": "execute_result"
    }
   ],
   "source": [
    "svc_pred = svc_gscv.best_estimator_.predict(X_test)\n",
    "roc_auc_score(y_test, svc_pred)"
   ]
  },
  {
   "cell_type": "markdown",
   "id": "393238ba-b4fe-4933-bedf-4dfedf51daa0",
   "metadata": {},
   "source": [
    "<h3 style='font-size:30px;font-style:italic'> Neural Networks</h3>"
   ]
  },
  {
   "cell_type": "code",
   "execution_count": 98,
   "id": "acb2aef4-33e5-47eb-985d-3eec403fe72b",
   "metadata": {},
   "outputs": [
    {
     "data": {
      "text/plain": [
       "0.9623266480710301"
      ]
     },
     "execution_count": 98,
     "metadata": {},
     "output_type": "execute_result"
    }
   ],
   "source": [
    "neural_pred = neural_gscv.best_estimator_.predict(X_test)\n",
    "roc_auc_score(y_test, neural_pred)"
   ]
  },
  {
   "cell_type": "markdown",
   "id": "df69a671-40af-4243-94d0-9c0864fd1e3e",
   "metadata": {},
   "source": [
    "<h2 style='font-size:30px'> Final Judgement</h2>\n",
    "<div> \n",
    "    <ul style='font-size:20px'> \n",
    "        <li> \n",
    "            Though all three algorithms achieved an excellent ROC AUC score, the neural network was approximately 1% better than the Support Vector Machine and Random Forest and therefore it will be the deployment model.\n",
    "        </li>\n",
    "    </ul>\n",
    "</div>"
   ]
  },
  {
   "cell_type": "code",
   "execution_count": 107,
   "id": "4799c03a-d3b9-4546-b9c6-8e4fe6f60c78",
   "metadata": {},
   "outputs": [],
   "source": [
    "# Leaving the Neural Network ready for use.\n",
    "deployment_model = Pipeline([\n",
    "            ('data_preparation', full_pipeline_imprt_ftr),\n",
    "            ('neural_network', neural_gscv.best_estimator_)])"
   ]
  }
 ],
 "metadata": {
  "kernelspec": {
   "display_name": "Python 3 (ipykernel)",
   "language": "python",
   "name": "python3"
  },
  "language_info": {
   "codemirror_mode": {
    "name": "ipython",
    "version": 3
   },
   "file_extension": ".py",
   "mimetype": "text/x-python",
   "name": "python",
   "nbconvert_exporter": "python",
   "pygments_lexer": "ipython3",
   "version": "3.8.10"
  }
 },
 "nbformat": 4,
 "nbformat_minor": 5
}
