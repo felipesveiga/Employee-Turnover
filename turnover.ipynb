{
 "cells": [
  {
   "cell_type": "code",
   "execution_count": 334,
   "id": "2a8fa6ee-6443-4525-b8d9-7c9427fe5ffe",
   "metadata": {},
   "outputs": [],
   "source": [
    "# Testar os resultados do ColumnTransformer\n",
    "# Ter sempre o repositório sobre o Seaborn em mãos."
   ]
  },
  {
   "cell_type": "markdown",
   "id": "d7780b10-263b-4314-a285-edad9d33948b",
   "metadata": {},
   "source": [
    "<h1 style='font-size:40px'> Employee Turnover Predicting Model</h1>\n",
    "<div> \n",
    "    <ul style='font-size:20px'> \n",
    "        <li> \n",
    "            This project aims to build a binary classifier that correctly predicts if a given employee is going to stay or quit the company.\n",
    "        </li>\n",
    "        <li> \n",
    "            The dataset used was encountered in a <a href='https://www.coursera.org/projects/employee-turnover-scikit-learn'>Coursera Guided Project</a>. Nonetheless, I've decided to produce my own solution to the case, which is different from the platform instructor's.\n",
    "        </li>\n",
    "    </ul>\n",
    "</div>"
   ]
  },
  {
   "cell_type": "markdown",
   "id": "f2df81f6-cc7c-4f5d-b091-d38719ef21f7",
   "metadata": {},
   "source": [
    "<h2 style='font-size:30px'> Loading the Data</h2>"
   ]
  },
  {
   "cell_type": "code",
   "execution_count": 56,
   "id": "915996e6-a37d-43a1-b66a-4aa3d34031fb",
   "metadata": {},
   "outputs": [
    {
     "data": {
      "text/html": [
       "<div>\n",
       "<style scoped>\n",
       "    .dataframe tbody tr th:only-of-type {\n",
       "        vertical-align: middle;\n",
       "    }\n",
       "\n",
       "    .dataframe tbody tr th {\n",
       "        vertical-align: top;\n",
       "    }\n",
       "\n",
       "    .dataframe thead th {\n",
       "        text-align: right;\n",
       "    }\n",
       "</style>\n",
       "<table border=\"1\" class=\"dataframe\">\n",
       "  <thead>\n",
       "    <tr style=\"text-align: right;\">\n",
       "      <th></th>\n",
       "      <th>satisfaction_level</th>\n",
       "      <th>last_evaluation</th>\n",
       "      <th>number_project</th>\n",
       "      <th>average_montly_hours</th>\n",
       "      <th>time_spend_company</th>\n",
       "      <th>Work_accident</th>\n",
       "      <th>quit</th>\n",
       "      <th>promotion_last_5years</th>\n",
       "      <th>department</th>\n",
       "      <th>salary</th>\n",
       "    </tr>\n",
       "  </thead>\n",
       "  <tbody>\n",
       "    <tr>\n",
       "      <th>0</th>\n",
       "      <td>0.38</td>\n",
       "      <td>0.53</td>\n",
       "      <td>2</td>\n",
       "      <td>157</td>\n",
       "      <td>3</td>\n",
       "      <td>0</td>\n",
       "      <td>1</td>\n",
       "      <td>0</td>\n",
       "      <td>sales</td>\n",
       "      <td>low</td>\n",
       "    </tr>\n",
       "    <tr>\n",
       "      <th>1</th>\n",
       "      <td>0.80</td>\n",
       "      <td>0.86</td>\n",
       "      <td>5</td>\n",
       "      <td>262</td>\n",
       "      <td>6</td>\n",
       "      <td>0</td>\n",
       "      <td>1</td>\n",
       "      <td>0</td>\n",
       "      <td>sales</td>\n",
       "      <td>medium</td>\n",
       "    </tr>\n",
       "    <tr>\n",
       "      <th>2</th>\n",
       "      <td>0.11</td>\n",
       "      <td>0.88</td>\n",
       "      <td>7</td>\n",
       "      <td>272</td>\n",
       "      <td>4</td>\n",
       "      <td>0</td>\n",
       "      <td>1</td>\n",
       "      <td>0</td>\n",
       "      <td>sales</td>\n",
       "      <td>medium</td>\n",
       "    </tr>\n",
       "    <tr>\n",
       "      <th>3</th>\n",
       "      <td>0.72</td>\n",
       "      <td>0.87</td>\n",
       "      <td>5</td>\n",
       "      <td>223</td>\n",
       "      <td>5</td>\n",
       "      <td>0</td>\n",
       "      <td>1</td>\n",
       "      <td>0</td>\n",
       "      <td>sales</td>\n",
       "      <td>low</td>\n",
       "    </tr>\n",
       "    <tr>\n",
       "      <th>4</th>\n",
       "      <td>0.37</td>\n",
       "      <td>0.52</td>\n",
       "      <td>2</td>\n",
       "      <td>159</td>\n",
       "      <td>3</td>\n",
       "      <td>0</td>\n",
       "      <td>1</td>\n",
       "      <td>0</td>\n",
       "      <td>sales</td>\n",
       "      <td>low</td>\n",
       "    </tr>\n",
       "  </tbody>\n",
       "</table>\n",
       "</div>"
      ],
      "text/plain": [
       "   satisfaction_level  last_evaluation  number_project  average_montly_hours  \\\n",
       "0                0.38             0.53               2                   157   \n",
       "1                0.80             0.86               5                   262   \n",
       "2                0.11             0.88               7                   272   \n",
       "3                0.72             0.87               5                   223   \n",
       "4                0.37             0.52               2                   159   \n",
       "\n",
       "   time_spend_company  Work_accident  quit  promotion_last_5years department  \\\n",
       "0                   3              0     1                      0      sales   \n",
       "1                   6              0     1                      0      sales   \n",
       "2                   4              0     1                      0      sales   \n",
       "3                   5              0     1                      0      sales   \n",
       "4                   3              0     1                      0      sales   \n",
       "\n",
       "   salary  \n",
       "0     low  \n",
       "1  medium  \n",
       "2  medium  \n",
       "3     low  \n",
       "4     low  "
      ]
     },
     "execution_count": 56,
     "metadata": {},
     "output_type": "execute_result"
    }
   ],
   "source": [
    "import pandas as pd\n",
    "import numpy as np\n",
    "\n",
    "# Since I am looking to create more columns to the DF, I'll modify the maximum number of columns that can be displayed.\n",
    "pd.set_option('max_columns', None)\n",
    "\n",
    "# Importing the employee data.\n",
    "employee_data = pd.read_csv('employee_data.csv')\n",
    "employee_data.head()"
   ]
  },
  {
   "cell_type": "code",
   "execution_count": 57,
   "id": "ec78508b-3925-4b7e-b26f-94909c899ac6",
   "metadata": {},
   "outputs": [
    {
     "name": "stdout",
     "output_type": "stream",
     "text": [
      "<class 'pandas.core.frame.DataFrame'>\n",
      "RangeIndex: 14999 entries, 0 to 14998\n",
      "Data columns (total 10 columns):\n",
      " #   Column                 Non-Null Count  Dtype  \n",
      "---  ------                 --------------  -----  \n",
      " 0   satisfaction_level     14999 non-null  float64\n",
      " 1   last_evaluation        14999 non-null  float64\n",
      " 2   number_project         14999 non-null  int64  \n",
      " 3   average_montly_hours   14999 non-null  int64  \n",
      " 4   time_spend_company     14999 non-null  int64  \n",
      " 5   Work_accident          14999 non-null  int64  \n",
      " 6   quit                   14999 non-null  int64  \n",
      " 7   promotion_last_5years  14999 non-null  int64  \n",
      " 8   department             14999 non-null  object \n",
      " 9   salary                 14999 non-null  object \n",
      "dtypes: float64(2), int64(6), object(2)\n",
      "memory usage: 1.1+ MB\n"
     ]
    }
   ],
   "source": [
    "# Searching for anomalies in the data. All features do not present any null value and have its proper data type assigned.\n",
    "employee_data.info()"
   ]
  },
  {
   "cell_type": "code",
   "execution_count": 58,
   "id": "eb771a07-37e5-40ed-8023-25c20b92eda8",
   "metadata": {},
   "outputs": [
    {
     "data": {
      "image/png": "[encoded data removed]",
      "text/plain": [
       "<Figure size 720x360 with 9 Axes>"
      ]
     },
     "metadata": {
      "needs_background": "light"
     },
     "output_type": "display_data"
    }
   ],
   "source": [
    "# Plotting a histograms frame looking for outliers.\n",
    "import matplotlib.pyplot as plt\n",
    "employee_data.hist(bins=20, figsize=(10,5));\n",
    "plt.tight_layout()"
   ]
  },
  {
   "cell_type": "markdown",
   "id": "72d5faf1-a688-4f51-b3ec-030c28f09ff0",
   "metadata": {},
   "source": [
    "<div> \n",
    "    <ul style='font-size:20px'> \n",
    "        <strong>> Mudar isso aqui! Falar mais sobre a importância de se ter trabalhadores experientes na empresa.</strong>\n",
    "        <li> \n",
    "            The number of people who've spent more than 7 years in the enterprise looks proportionately very small. It could be a potential indicator for disconsidering them in model training. However, when we directly check the dataset, we can see that more than 350 workers are in accordance to such condition. It would be adequate to make an algorithm that neglects the reality of such number of employees? I don't think so.\n",
    "        </li>\n",
    "        <li> \n",
    "            Also, it is worth acknowledging that we are dealing with a dataset with a unbalanced quantity of target values. The great amount of 0's will likely make it easier to the models to correctly identify them. Conversely, the lower number of 1's requires a higher efficiency of the algorithms to apprehend the patterns among tha class' instances.\n",
    "        </li>\n",
    "    </ul>\n",
    "</div>"
   ]
  },
  {
   "cell_type": "code",
   "execution_count": 59,
   "id": "0694c30b-e2de-4cc4-9890-0c4fcdf80efd",
   "metadata": {},
   "outputs": [
    {
     "name": "stdout",
     "output_type": "stream",
     "text": [
      "376\n"
     ]
    }
   ],
   "source": [
    "# The well-experienced people will be kept in the dataset.\n",
    "print(len(employee_data[employee_data.time_spend_company>7]))"
   ]
  },
  {
   "cell_type": "markdown",
   "id": "127874a9-fd0e-416b-b6df-5162af708472",
   "metadata": {},
   "source": [
    "<h2 style='font-size:30px'> Training and Test Sets</h2>\n",
    "<div> \n",
    "    <ul style='font-size:20px'> \n",
    "        <li> \n",
    "            Since salary is one of the main aspects considered when someone is deciding to stay or leave their enterprise, I'll attempt to maintain the proportions of such feature. Fortunately, that is already labeled as categories so we don't need to encode any of its values.\n",
    "        </li>\n",
    "    </ul>\n",
    "</div>"
   ]
  },
  {
   "cell_type": "code",
   "execution_count": 60,
   "id": "d7fac1ab-397b-437c-9fe0-58ebc0db6066",
   "metadata": {},
   "outputs": [],
   "source": [
    "from sklearn.model_selection import StratifiedShuffleSplit\n",
    "split = StratifiedShuffleSplit(n_splits=1, test_size=0.2, random_state=42)\n",
    "for train_index, test_index in split.split(employee_data, employee_data.salary):\n",
    "    train = employee_data.loc[train_index]\n",
    "    test = employee_data.loc[test_index]"
   ]
  },
  {
   "cell_type": "markdown",
   "id": "e4c0c630-21d1-444f-b455-a3b42d1caca6",
   "metadata": {},
   "source": [
    "<h2 style='font-size:30px'> Exploratory Analysis on the Training Data</h2>"
   ]
  },
  {
   "cell_type": "markdown",
   "id": "76c44923-2ee7-4ae9-933c-cd29198c4cbd",
   "metadata": {},
   "source": [
    "<h3 style='font-size:30px;font-style:italic'> Adding new stats</h3>\n",
    "<div> \n",
    "    <ul style='font-size:20px'> \n",
    "        <li> \n",
    "            Before diving into the data examination, it is interesting to use the data we already have in order to generate new stats that might be prove useful to our models.\n",
    "        </li>\n",
    "        <li> \n",
    "            The new columns to be added are:\n",
    "            <ul style='list-style-type:lower-alpha'>\n",
    "                <li> No of projects per years of work.</li>\n",
    "                <li> Harmonic mean between the satisfaction levels and last evaluation.</li>\n",
    "            </ul>\n",
    "        </li>\n",
    "    </ul>\n",
    "</div>"
   ]
  },
  {
   "cell_type": "code",
   "execution_count": 61,
   "id": "7d731bfb-bc8f-4222-b201-b257df8a1a9f",
   "metadata": {},
   "outputs": [],
   "source": [
    "from scipy.stats import hmean\n",
    "train['number_project_per_time_spend'] = train.number_project / train.time_spend_company\n",
    "\n",
    "# Using harmonic mean can highlight possible discrepancies between the values. For instance, a given worker might be very unsatisfied (0.2)\n",
    "# with the company, whereas their boss and team exceedingly enjoy working with them (0.9).\n",
    "\n",
    "# We'll name this stat as 'reciprocity_degree'\n",
    "train['reciprocity_degree'] = hmean([train.satisfaction_level, train.last_evaluation])"
   ]
  },
  {
   "cell_type": "markdown",
   "id": "4fb8824f-6f71-4f6a-9cd4-ee85b14f4296",
   "metadata": {},
   "source": [
    "<h3 style='font-size:30px;font-style:italic'> Densities of staying or quitting occurences according to satisfaction and salary</h3>\n",
    "<div> \n",
    "    <ul style='font-size:20px'> \n",
    "        <li> \n",
    "            The violin plot below exposes, among every salary category, the densities of quitting and staying occurences for every satisfaction degree measured.\n",
    "        </li>\n",
    "        <li> \n",
    "            In all cases, employees with contentment levels lower than 50% tend to abandon the company.\n",
    "        </li>\n",
    "    </ul>\n",
    "</div>"
   ]
  },
  {
   "cell_type": "code",
   "execution_count": 62,
   "id": "de64b8d8-e0c5-4248-ad1e-10108cee67ae",
   "metadata": {},
   "outputs": [
    {
     "ename": "NameError",
     "evalue": "name 'sns' is not defined",
     "output_type": "error",
     "traceback": [
      "\u001b[0;31m---------------------------------------------------------------------------\u001b[0m",
      "\u001b[0;31mNameError\u001b[0m                                 Traceback (most recent call last)",
      "\u001b[0;32m/tmp/ipykernel_38936/3229207322.py\u001b[0m in \u001b[0;36m<module>\u001b[0;34m\u001b[0m\n\u001b[0;32m----> 1\u001b[0;31m \u001b[0msns\u001b[0m\u001b[0;34m.\u001b[0m\u001b[0mviolinplot\u001b[0m\u001b[0;34m(\u001b[0m\u001b[0mdata\u001b[0m\u001b[0;34m=\u001b[0m\u001b[0mtrain\u001b[0m\u001b[0;34m,\u001b[0m \u001b[0mx\u001b[0m\u001b[0;34m=\u001b[0m\u001b[0;34m'salary'\u001b[0m\u001b[0;34m,\u001b[0m \u001b[0my\u001b[0m\u001b[0;34m=\u001b[0m\u001b[0;34m'satisfaction_level'\u001b[0m\u001b[0;34m,\u001b[0m \u001b[0mhue\u001b[0m\u001b[0;34m=\u001b[0m\u001b[0;34m'quit'\u001b[0m\u001b[0;34m,\u001b[0m\u001b[0msplit\u001b[0m\u001b[0;34m=\u001b[0m\u001b[0;32mTrue\u001b[0m\u001b[0;34m,\u001b[0m \u001b[0morder\u001b[0m\u001b[0;34m=\u001b[0m\u001b[0;34m[\u001b[0m\u001b[0;34m'low'\u001b[0m\u001b[0;34m,\u001b[0m \u001b[0;34m'medium'\u001b[0m\u001b[0;34m,\u001b[0m \u001b[0;34m'high'\u001b[0m\u001b[0;34m]\u001b[0m\u001b[0;34m)\u001b[0m\u001b[0;34m\u001b[0m\u001b[0;34m\u001b[0m\u001b[0m\n\u001b[0m",
      "\u001b[0;31mNameError\u001b[0m: name 'sns' is not defined"
     ]
    }
   ],
   "source": [
    "sns.violinplot(data=train, x='salary', y='satisfaction_level', hue='quit',split=True, order=['low', 'medium', 'high'])"
   ]
  },
  {
   "cell_type": "markdown",
   "id": "193ca00c-fb09-43fb-8641-e7395422a32e",
   "metadata": {},
   "source": [
    "<h3 style='font-size:30px;font-style:italic'> Reciprocity scores per Department and Salary</h3>\n",
    "<div> \n",
    "    <ul style='font-size:20px'> \n",
    "        <li> \n",
    "            Now, we are zooming in the analysis about salary and satisfaction scores adding the Department feature.\n",
    "        </li>\n",
    "    </ul>\n",
    "</div>"
   ]
  },
  {
   "cell_type": "code",
   "execution_count": null,
   "id": "c930f666-004a-4b2a-b271-cc91fd318782",
   "metadata": {},
   "outputs": [],
   "source": [
    "# Segregating the employees who've quitted and still work in the company\n",
    "only_0=train[train.quit==0]\n",
    "only_1=train[train.quit==1]"
   ]
  },
  {
   "cell_type": "code",
   "execution_count": null,
   "id": "270e56be-6fd9-496a-bbaa-db84e761ec24",
   "metadata": {},
   "outputs": [],
   "source": [
    "# Sorting the pivot tables by 'hr' and 'support' so the index order could be ['low', 'medium', 'high']\n",
    "recip0 = pd.pivot_table(data = only_0, index='salary', columns='department', values='reciprocity_degree').sort_values(by='hr')\n",
    "recip1 = pd.pivot_table(data = only_1, index='salary', columns='department', values='reciprocity_degree').sort_values(by='support')"
   ]
  },
  {
   "cell_type": "code",
   "execution_count": null,
   "id": "36e44777-b43d-4352-90bf-810ef926a8c8",
   "metadata": {},
   "outputs": [],
   "source": [
    "import seaborn as sns\n",
    "plt.figure(figsize=(10,4))\n",
    "plt.figure(figsize=(20,5))\n",
    "plt.subplot(121)\n",
    "sns.heatmap(recip0, cmap='Blues', annot=True)\n",
    "plt.xlabel(None)\n",
    "plt.ylabel(None)\n",
    "plt.title('Stayed')\n",
    "plt.subplot(122)\n",
    "sns.heatmap(recip1, cmap='Blues', annot=True)\n",
    "plt.title('Quit')\n",
    "plt.xlabel(None)\n",
    "plt.ylabel(None)"
   ]
  },
  {
   "cell_type": "markdown",
   "id": "5033662e-512e-45c2-85a7-46f8c01593c5",
   "metadata": {},
   "source": [
    "<div> \n",
    "    <ul style='font-size:20px'> \n",
    "        <li> \n",
    "            Some pretty interesting insights on both heatmaps. People with high incomes from IT and Support areas who've left their jobs actually had a pretty decent reciprocity levels. They were probably glad with their roles so as their team was with their performance. So what could possibly persuade them to leave?\n",
    "        </li>\n",
    "    </ul>\n",
    "</div>"
   ]
  },
  {
   "cell_type": "markdown",
   "id": "f3adbabe-d939-430b-8378-1f12fe71c91b",
   "metadata": {},
   "source": [
    "<h4 style='font-size:30px;font-style:italic;text-decoration:underline'>Checking out the potential quitting outliers from the IT department </h4>\n",
    "<div> \n",
    "    <ul style='font-size:20px'> \n",
    "        <li> \n",
    "            Here, we can see the reason for the high reciprocity levels for the IT area. Two of its leaving workers had pretty high scores.\n",
    "        </li>\n",
    "        <li> \n",
    "            Since it is unusual for someone in that condition to decide to leave the company, it is necessary to analyze whether we can find another reason for the departure. If not, we'll consider those employees as noise in the data.\n",
    "        </li>\n",
    "    </ul>\n",
    "</div>"
   ]
  },
  {
   "cell_type": "code",
   "execution_count": null,
   "id": "83b8548e-3b40-4498-bb63-2ceadee3bc10",
   "metadata": {},
   "outputs": [],
   "source": [
    "# Checking out the potential quitting outliers from the IT department. There are two people with reciprocity levels higher than 0.8\n",
    "quit_it = only_1[(only_1['department']=='IT') & (only_1['salary']=='high')]\n",
    "quit_it"
   ]
  },
  {
   "cell_type": "code",
   "execution_count": null,
   "id": "73f4c535-601d-4c92-b33b-efdcea7bc80d",
   "metadata": {},
   "outputs": [],
   "source": [
    "quit_it[quit_it['reciprocity_degree']>0.8].mean()"
   ]
  },
  {
   "cell_type": "code",
   "execution_count": null,
   "id": "1d962c5c-a1c8-4a16-9033-9d570955c82f",
   "metadata": {},
   "outputs": [],
   "source": [
    "# Now, looking at the staying workers with similar characteristics as these two, is there any other aspect that can differentiate\n",
    "# them?\n",
    "only_0[(only_0['department']=='IT') & (only_0['salary']=='high') & (only_0['reciprocity_degree']>0.8)].mean()"
   ]
  },
  {
   "cell_type": "markdown",
   "id": "4552368c-c616-4bb9-b7df-a6fca15cbd8d",
   "metadata": {},
   "source": [
    "<div> \n",
    "    <ul style='font-size:20px'> \n",
    "        <li> \n",
    "            The answer is yes! The deserters have a lower satisfaction score and work for many more hours than their staying counterparts. Therefore, we won't consider them as noise.\n",
    "        </li>\n",
    "    </ul>\n",
    "</div>"
   ]
  },
  {
   "cell_type": "markdown",
   "id": "6bb168f9-1943-4c8a-b230-514558f8b5ed",
   "metadata": {},
   "source": [
    "<h4 style='font-size:30px;font-style:italic;text-decoration:underline'>Checking out the potential quitting outliers from the Support department </h4>\n",
    "<div> \n",
    "    <ul style='font-size:20px'> \n",
    "        <li> \n",
    "            Doing the same process now regarding the Support area. In this case, there are three employees with a reciprocity level higher than 0.8.\n",
    "        </li>\n",
    "    </ul>\n",
    "</div>"
   ]
  },
  {
   "cell_type": "code",
   "execution_count": null,
   "id": "d5a02f0e-fd5e-4a29-bb3c-d57ee37da7d1",
   "metadata": {},
   "outputs": [],
   "source": [
    "quit_support = only_1[(only_1['department']=='support') & (only_1['salary']=='high')]\n",
    "quit_support"
   ]
  },
  {
   "cell_type": "code",
   "execution_count": null,
   "id": "cf3bfc19-b05f-41a1-842a-ebe121d4fe6f",
   "metadata": {},
   "outputs": [],
   "source": [
    "# Extracting the mean of the features from the quitting workers.\n",
    "quit_support[quit_support['reciprocity_degree']>0.8].mean()"
   ]
  },
  {
   "cell_type": "code",
   "execution_count": null,
   "id": "d47981ba-423b-4607-8c7c-f9ba2010d63a",
   "metadata": {},
   "outputs": [],
   "source": [
    "# Doing the same for those who still work for the enterprise.\n",
    "only_0[(only_0['department']=='support') & (only_0['salary']=='high') & (only_0['reciprocity_degree']>0.8)].mean()"
   ]
  },
  {
   "cell_type": "markdown",
   "id": "7cb7e06b-14ba-4e48-84c4-bb79f299a676",
   "metadata": {},
   "source": [
    "<div> \n",
    "    <ul style='font-size:20px'> \n",
    "        <li> \n",
    "            Here, the satisfaction score doesn't seem to be part of the problem. However, the deserters still work for more hours than the ones who yet are employed in the company.\n",
    "        </li>\n",
    "    </ul>\n",
    "</div>"
   ]
  },
  {
   "cell_type": "code",
   "execution_count": null,
   "id": "85e50ed7-e820-4bcf-8a6a-b8ffc3815456",
   "metadata": {},
   "outputs": [],
   "source": [
    "train.head()#.groupby('quit')['satisfaction_level'].mean()"
   ]
  },
  {
   "cell_type": "markdown",
   "id": "296aeaa8-327c-4ffa-b123-7c4307086d66",
   "metadata": {},
   "source": [
    "<h3 style='font-size:30px;font-style:italic'> Workload as a factor for departure</h3>\n",
    "<div> \n",
    "    <ul style='font-size:20px'> \n",
    "        <li> \n",
    "            The quantity of tasks that are assigned to a given worker is a vital aspect regarding their satisfaction. Offering fewer projects can make them feel undervalued; at the same time, participating in a high number of activities is prone to become something stressful.\n",
    "        </li>\n",
    "    </ul>\n",
    "</div>"
   ]
  },
  {
   "cell_type": "code",
   "execution_count": null,
   "id": "66d94643-dd0b-432a-b6f4-002f61116c11",
   "metadata": {},
   "outputs": [],
   "source": [
    "# For each department, what is the average number of projects that the quitting and staying people have been assigned?\n",
    "# Let's plot another pair of heatmaps to check if there are any differences.\n",
    "projec_per_0 = pd.pivot_table(data = only_0, index='department', values='number_project_per_time_spend')\n",
    "projec_per_1 = pd.pivot_table(data = only_1, index='department', values='number_project_per_time_spend')"
   ]
  },
  {
   "cell_type": "code",
   "execution_count": null,
   "id": "5caea4f2-650c-4564-8a94-25943c6b924a",
   "metadata": {},
   "outputs": [],
   "source": [
    "plt.figure(figsize=(12,4))\n",
    "# Heatmap for those who are still employed.\n",
    "plt.subplot(121)\n",
    "sns.heatmap(projec_per_0, cmap='Blues')\n",
    "plt.xlabel(None)\n",
    "plt.ylabel(None)\n",
    "plt.title('Stayed')\n",
    "# Heatmap for those who have left their jobs.\n",
    "plt.subplot(122)\n",
    "sns.heatmap(projec_per_1, cmap='Blues')\n",
    "plt.xlabel(None)\n",
    "plt.ylabel(None)\n",
    "plt.title('Quit')\n",
    "plt.tight_layout()"
   ]
  },
  {
   "cell_type": "markdown",
   "id": "4611935b-5d7f-4fca-92cb-ceba6c908173",
   "metadata": {},
   "source": [
    "<div> \n",
    "    <ul style='font-size:20px'> \n",
    "        <li> \n",
    "            The deserters tend to have a slightly lower average amount of projects during their tenure.\n",
    "        </li>\n",
    "    </ul>\n",
    "</div>"
   ]
  },
  {
   "cell_type": "markdown",
   "id": "e407f713-6c0a-454a-9df3-ff92425ac8bc",
   "metadata": {},
   "source": [
    "<h2 style='font-size:30px'> Treating the Dataset</h2>\n",
    "<h3 style='font-size:30px;font-style:italic'> Numerical data</h3>\n",
    "<div> \n",
    "    <ul style='font-size:20px'> \n",
    "        <li> \n",
    "            Fortunately, most of the columns dealing with integers and floats are almost adequate to be applied in a model.\n",
    "        </li>\n",
    "        <li>\n",
    "            Nevertheless, they need to be normalized. Also, it would be interesting to automate the creation of the features engendered in the beginning of the script.\n",
    "        </li>\n",
    "    </ul>\n",
    "</div>"
   ]
  },
  {
   "cell_type": "code",
   "execution_count": 120,
   "id": "a8ab1705-a90f-4555-80ed-a939e638195a",
   "metadata": {},
   "outputs": [
    {
     "name": "stdout",
     "output_type": "stream",
     "text": [
      "0 --> satisfaction_level\n",
      "1 --> last_evaluation\n",
      "2 --> number_project\n",
      "3 --> average_montly_hours\n",
      "4 --> time_spend_company\n",
      "5 --> Work_accident\n",
      "6 --> quit\n",
      "7 --> promotion_last_5years\n",
      "8 --> department\n",
      "9 --> salary\n",
      "10 --> number_project_per_time_spend\n",
      "11 --> reciprocity_degree\n"
     ]
    }
   ],
   "source": [
    "i=0\n",
    "for column in train.columns:\n",
    "    print(i, '-->', column)\n",
    "    i+=1"
   ]
  },
  {
   "cell_type": "code",
   "execution_count": 321,
   "id": "7db9adb1-2e79-4e87-8844-83106e43d5dc",
   "metadata": {},
   "outputs": [],
   "source": [
    "# The class below is a transformer that creates the extra features.\n",
    "from sklearn.base import BaseEstimator, TransformerMixin\n",
    "\n",
    "class NewNumFeatures(BaseEstimator, TransformerMixin):\n",
    "    # Importing scipy.stats' hmean method.\n",
    "    from scipy.stats import hmean\n",
    "    def __init__(self, number_project_per_time_spend=True, reciprocity_degree=True):\n",
    "        \n",
    "        # This allows the user to choose whether they want to unable the generation of one of the features.\n",
    "        self.number_project_per_time_spend = number_project_per_time_spend\n",
    "        self.reciprocity_degree = reciprocity_degree\n",
    "    \n",
    "    def fit(self, X, y=None):\n",
    "        return self\n",
    "    \n",
    "    def transform(self, X):\n",
    "       # X = X.values\n",
    "        #new_columns = []\n",
    "        if self.number_project_per_time_spend:\n",
    "            X.loc[:,'number_project_per_time_spend'] = X.loc[:,'number_project'] / X.loc[:,'time_spend_company']\n",
    "            #new_columns.append(X[:, 2] / X[:, 4])\n",
    "            #number_project_per_time_spend = np.array(X[:, 2] / X[:, 4])\n",
    "            #X = np.column_stack((X, number_project_per_time_spend))\n",
    "        if self.reciprocity_degree:\n",
    "            X.loc[:,'reciprocity_degree'] = hmean([X.loc[:,'satisfaction_level'], X.loc[:,'last_evaluation']])\n",
    "            #new_columns.append(hmean([X[:,0], X[:,1]]))\n",
    "            #reciprocity_degree = np.array(hmean([X[:,0], X[:,1]]))\n",
    "            #X = np.column_stack((X, number_project_per_time_spend))\n",
    "         \n",
    "        #new_columns = np.array(new_columns)\n",
    "        #return np.c_[[X, new_columns]]\n",
    "        return X.values"
   ]
  },
  {
   "cell_type": "code",
   "execution_count": 322,
   "id": "f9c31bd6-8290-4911-add8-f6be196fa712",
   "metadata": {},
   "outputs": [
    {
     "data": {
      "text/plain": [
       "array([[1, 2, 3],\n",
       "       [4, 5, 6]])"
      ]
     },
     "execution_count": 322,
     "metadata": {},
     "output_type": "execute_result"
    }
   ],
   "source": [
    "a = np.array([[1,2,3],[4,5,6]])\n",
    "np.column_stack((a, np.array([1,2])))\n",
    "a"
   ]
  },
  {
   "cell_type": "code",
   "execution_count": 323,
   "id": "8159c944-e557-4188-bed1-7b3035ffe938",
   "metadata": {},
   "outputs": [],
   "source": [
    "#NewNumFeatures().fit_transform(test_train[num_cols])"
   ]
  },
  {
   "cell_type": "code",
   "execution_count": 324,
   "id": "cd31085f-5491-4bc7-ba21-5f1bd4b81be4",
   "metadata": {},
   "outputs": [],
   "source": [
    "# Building the transformation pipeline for the numerical values.\n",
    "from sklearn.pipeline import Pipeline\n",
    "from sklearn.impute import SimpleImputer\n",
    "from sklearn.preprocessing import MinMaxScaler\n",
    "\n",
    "num_pipeline = Pipeline([\n",
    "    ('new_features', NewNumFeatures()),\n",
    "    ('imputer', SimpleImputer(strategy='mean')),\n",
    "    ('min_max', MinMaxScaler())    \n",
    "])\n",
    "\n",
    "# Listing the numerical columns.\n",
    "num_cols = [column for column in train.columns if train[column].dtype=='int64' or train[column].dtype=='float64']"
   ]
  },
  {
   "cell_type": "markdown",
   "id": "d341e12c-237f-4bf8-a97d-d0e27cec87dc",
   "metadata": {},
   "source": [
    "<h3 style='font-size:30px;font-style:italic'> Text data</h3>\n",
    "<div> \n",
    "    <ul style='font-size:20px'> \n",
    "        <li> \n",
    "            Since most of the scikit-learn models cannot handle strings as features, the textual informations from the dataset need to be treated.\n",
    "        </li>\n",
    "        <li> \n",
    "            The mission thus is trying to find numerical data based on the string informations.\n",
    "        </li>\n",
    "    </ul>\n",
    "</div>"
   ]
  },
  {
   "cell_type": "code",
   "execution_count": 325,
   "id": "b82ec4ab-58c3-4345-aba2-172138755c00",
   "metadata": {},
   "outputs": [
    {
     "name": "stderr",
     "output_type": "stream",
     "text": [
      "/tmp/ipykernel_38936/3537221126.py:5: FutureWarning: Using the level keyword in DataFrame and Series aggregations is deprecated and will be removed in a future version. Use groupby instead. df.sum(level=1) should use df.groupby(level=1).sum().\n",
      "  employees_per_salary = gp.sum(level=1)\n"
     ]
    },
    {
     "data": {
      "text/plain": [
       "salary\n",
       "high      0.023085\n",
       "low       0.601959\n",
       "medium    0.374956\n",
       "Name: quit, dtype: float64"
      ]
     },
     "execution_count": 325,
     "metadata": {},
     "output_type": "execute_result"
    }
   ],
   "source": [
    "# One way to do such thing is attempting to discover the quitting rate for the categories from each column.\n",
    "\n",
    "# For instance, let's find out the departure rate among the income levels.\n",
    "gp = train.groupby(['salary','quit'])['quit'].size()\n",
    "employees_per_salary = gp.sum(level=1)\n",
    "\n",
    "quitting_rate_salary = (gp/employees_per_salary).xs(1, level=1)\n",
    "quitting_rate_salary"
   ]
  },
  {
   "cell_type": "code",
   "execution_count": 326,
   "id": "974b98e9-d15b-4d7d-86f4-407336c5f040",
   "metadata": {},
   "outputs": [
    {
     "data": {
      "text/plain": [
       "11263    0.374956\n",
       "1753     0.374956\n",
       "3981     0.601959\n",
       "14300    0.601959\n",
       "12943    0.023085\n",
       "           ...   \n",
       "13235    0.374956\n",
       "7785     0.601959\n",
       "7882     0.023085\n",
       "11061    0.374956\n",
       "5936     0.374956\n",
       "Name: salary, Length: 11999, dtype: float64"
      ]
     },
     "execution_count": 326,
     "metadata": {},
     "output_type": "execute_result"
    }
   ],
   "source": [
    "# The column labels could be readily changed for the quitting indices with a 'replace'. \n",
    "train.salary.replace(quitting_rate_salary.to_dict())"
   ]
  },
  {
   "cell_type": "markdown",
   "id": "473678a6-d99c-4df0-a39f-8ee5115921e3",
   "metadata": {},
   "source": [
    "<div> \n",
    "    <ul style='font-size:20px'> \n",
    "        <li>\n",
    "            The same process is possible to be carried out with the department column, so it would be a good idea to create a transformer which automatically handles this task.\n",
    "        </li>\n",
    "    </ul>\n",
    "</div>"
   ]
  },
  {
   "cell_type": "code",
   "execution_count": 327,
   "id": "101521e5-913e-46ed-9ab4-57533b068e1d",
   "metadata": {},
   "outputs": [],
   "source": [
    "class MeaningFromText(BaseEstimator, TransformerMixin):\n",
    "    # Here, the individual can cancel the transformation for one of the given columns.\n",
    "    def __init__(self, salary=True, department=True):\n",
    "        self.salary=salary\n",
    "        self.department=department\n",
    "        \n",
    "    def fit(self, X,y=None):\n",
    "        return self\n",
    "    \n",
    "    def transform(self, X):\n",
    "        global train\n",
    "        if self.salary:\n",
    "            quitting_and_staying = train.groupby(['salary','quit'])['quit'].size()\n",
    "            employees_per_category = quitting_and_staying.sum(level=1)\n",
    "            quitting_rates = (quitting_and_staying/employees_per_category).xs(1, level=1)\n",
    "            # Placing the quitting rates as a new column for the DF experiencing the transformation.\n",
    "            X.loc[:,'quitting_rates_salary'] = X.salary.replace(quitting_rates.to_dict())\n",
    "            \n",
    "        if self.department:\n",
    "            quitting_and_staying = train.groupby(['department','quit'])['quit'].size()\n",
    "            employees_per_category = quitting_and_staying.sum(level=1)\n",
    "            quitting_rates = (quitting_and_staying/employees_per_category).xs(1, level=1)\n",
    "            X.loc[:,'quitting_rates_department'] = X.department.replace(quitting_rates.to_dict())\n",
    "            \n",
    "        X.drop(['salary', 'department'], axis=1, inplace=True)\n",
    "        return X.values"
   ]
  },
  {
   "cell_type": "code",
   "execution_count": 328,
   "id": "8575004d-c874-4dfa-83e2-456f91912e49",
   "metadata": {},
   "outputs": [],
   "source": [
    "# Finally, constructing the pipeline for the text data.\n",
    "text_pipeline = Pipeline([\n",
    "            ('transformer', MeaningFromText()),\n",
    "            ('imputer', SimpleImputer(strategy='most_frequent'))])"
   ]
  },
  {
   "cell_type": "markdown",
   "id": "edce3f64-7097-49e3-bd3e-686b4742d6b4",
   "metadata": {},
   "source": [
    "<h3 style='font-size:30px;font-style:italic'> Full Transformation Pipeline</h3>\n",
    "<div> \n",
    "    <ul style='font-size:20px'> \n",
    "        <li> \n",
    "            It is time to fusion both pipelines built into a single one.\n",
    "        </li>\n",
    "    </ul>\n",
    "</div>"
   ]
  },
  {
   "cell_type": "code",
   "execution_count": 329,
   "id": "95b6023a-02a6-4c1c-bae0-ea7ff99f8501",
   "metadata": {},
   "outputs": [],
   "source": [
    "from sklearn.compose import ColumnTransformer\n",
    "# Segregating the independent from the dependent variables.\n",
    "X = train[[column for column in train.columns if column != 'quit']]\n",
    "y = train['quit']\n",
    "num_cols = [column for column in X.columns if X[column].dtype=='float64' or X[column].dtype=='int64']\n",
    "text_cols = [column for column in X.columns if X[column].dtype=='object']\n",
    "\n",
    "full_pipeline = ColumnTransformer([\n",
    "                ('num', num_pipeline, num_cols),\n",
    "                ('text', text_pipeline, text_cols)\n",
    "                ])"
   ]
  },
  {
   "cell_type": "code",
   "execution_count": 330,
   "id": "175cce9a-831b-46d9-b9f2-e1004e216efd",
   "metadata": {},
   "outputs": [
    {
     "data": {
      "text/plain": [
       "['satisfaction_level',\n",
       " 'last_evaluation',\n",
       " 'number_project',\n",
       " 'average_montly_hours',\n",
       " 'time_spend_company',\n",
       " 'Work_accident',\n",
       " 'promotion_last_5years',\n",
       " 'number_project_per_time_spend',\n",
       " 'reciprocity_degree']"
      ]
     },
     "execution_count": 330,
     "metadata": {},
     "output_type": "execute_result"
    }
   ],
   "source": [
    "num_cols"
   ]
  },
  {
   "cell_type": "code",
   "execution_count": 333,
   "id": "d45660b4-5758-4b71-bf1d-9cecd3d763ea",
   "metadata": {},
   "outputs": [
    {
     "name": "stderr",
     "output_type": "stream",
     "text": [
      "/tmp/ipykernel_38936/1796859430.py:14: FutureWarning: Using the level keyword in DataFrame and Series aggregations is deprecated and will be removed in a future version. Use groupby instead. df.sum(level=1) should use df.groupby(level=1).sum().\n",
      "  employees_per_category = quitting_and_staying.sum(level=1)\n",
      "/tmp/ipykernel_38936/1796859430.py:21: FutureWarning: Using the level keyword in DataFrame and Series aggregations is deprecated and will be removed in a future version. Use groupby instead. df.sum(level=1) should use df.groupby(level=1).sum().\n",
      "  employees_per_category = quitting_and_staying.sum(level=1)\n"
     ]
    },
    {
     "data": {
      "text/plain": [
       "array([[0.97802198, 0.96875   , 0.4       , ..., 0.97615747, 0.37495628,\n",
       "        0.07555089],\n",
       "       [0.9010989 , 1.        , 0.4       , ..., 0.9438265 , 0.37495628,\n",
       "        0.03602658],\n",
       "       [0.67032967, 0.65625   , 0.4       , ..., 0.68746956, 0.60195873,\n",
       "        0.28191675],\n",
       "       ...,\n",
       "       [0.61538462, 0.328125  , 0.2       , ..., 0.53194381, 0.02308499,\n",
       "        0.28191675],\n",
       "       [0.89010989, 0.578125  , 0.        , ..., 0.76888837, 0.37495628,\n",
       "        0.15739769],\n",
       "       [0.52747253, 0.28125   , 0.4       , ..., 0.46902045, 0.37495628,\n",
       "        0.19832109]])"
      ]
     },
     "execution_count": 333,
     "metadata": {},
     "output_type": "execute_result"
    }
   ],
   "source": [
    "X_copy = X.copy()\n",
    "test_train = train.copy()\n",
    "full_pipeline.fit_transform(test_train.iloc[:])"
   ]
  },
  {
   "cell_type": "code",
   "execution_count": 332,
   "id": "f144ceb8-7bb2-407a-a23d-2947acd9a529",
   "metadata": {},
   "outputs": [
    {
     "ename": "NameError",
     "evalue": "name 'test_' is not defined",
     "output_type": "error",
     "traceback": [
      "\u001b[0;31m---------------------------------------------------------------------------\u001b[0m",
      "\u001b[0;31mNameError\u001b[0m                                 Traceback (most recent call last)",
      "\u001b[0;32m/tmp/ipykernel_38936/4095972669.py\u001b[0m in \u001b[0;36m<module>\u001b[0;34m\u001b[0m\n\u001b[1;32m      1\u001b[0m \u001b[0mtest_train\u001b[0m \u001b[0;34m=\u001b[0m \u001b[0mtrain\u001b[0m\u001b[0;34m.\u001b[0m\u001b[0mcopy\u001b[0m\u001b[0;34m(\u001b[0m\u001b[0;34m)\u001b[0m\u001b[0;34m\u001b[0m\u001b[0;34m\u001b[0m\u001b[0m\n\u001b[0;32m----> 2\u001b[0;31m \u001b[0mtest_\u001b[0m\u001b[0;34m\u001b[0m\u001b[0;34m\u001b[0m\u001b[0m\n\u001b[0m",
      "\u001b[0;31mNameError\u001b[0m: name 'test_' is not defined"
     ]
    }
   ],
   "source": [
    "test_train = train.copy()\n",
    "test_"
   ]
  }
 ],
 "metadata": {
  "kernelspec": {
   "display_name": "Python 3 (ipykernel)",
   "language": "python",
   "name": "python3"
  },
  "language_info": {
   "codemirror_mode": {
    "name": "ipython",
    "version": 3
   },
   "file_extension": ".py",
   "mimetype": "text/x-python",
   "name": "python",
   "nbconvert_exporter": "python",
   "pygments_lexer": "ipython3",
   "version": "3.8.10"
  }
 },
 "nbformat": 4,
 "nbformat_minor": 5
}
