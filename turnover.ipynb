{
 "cells": [
  {
   "cell_type": "code",
   "execution_count": null,
   "id": "2a8fa6ee-6443-4525-b8d9-7c9427fe5ffe",
   "metadata": {},
   "outputs": [],
   "source": [
    "# Tratar os dados textuais.\n",
    "\n",
    "# Ter sempre o repositório sobre o Seaborn em mãos."
   ]
  },
  {
   "cell_type": "markdown",
   "id": "d7780b10-263b-4314-a285-edad9d33948b",
   "metadata": {},
   "source": [
    "<h1 style='font-size:40px'> Employee Turnover Predicting Model</h1>\n",
    "<div> \n",
    "    <ul style='font-size:20px'> \n",
    "        <li> \n",
    "            This project aims to build a binary classifier that correctly predicts if a given employee is going to stay or quit the company.\n",
    "        </li>\n",
    "        <li> \n",
    "            The dataset used was encountered in a <a href='https://www.coursera.org/projects/employee-turnover-scikit-learn'>Coursera Guided Project</a>. Nonetheless, I've decided to produce my own solution to the case, which is different from the platform instructor's.\n",
    "        </li>\n",
    "    </ul>\n",
    "</div>"
   ]
  },
  {
   "cell_type": "markdown",
   "id": "f2df81f6-cc7c-4f5d-b091-d38719ef21f7",
   "metadata": {},
   "source": [
    "<h2 style='font-size:30px'> Loading the Data</h2>"
   ]
  },
  {
   "cell_type": "code",
   "execution_count": 44,
   "id": "915996e6-a37d-43a1-b66a-4aa3d34031fb",
   "metadata": {},
   "outputs": [
    {
     "data": {
      "text/html": [
       "<div>\n",
       "<style scoped>\n",
       "    .dataframe tbody tr th:only-of-type {\n",
       "        vertical-align: middle;\n",
       "    }\n",
       "\n",
       "    .dataframe tbody tr th {\n",
       "        vertical-align: top;\n",
       "    }\n",
       "\n",
       "    .dataframe thead th {\n",
       "        text-align: right;\n",
       "    }\n",
       "</style>\n",
       "<table border=\"1\" class=\"dataframe\">\n",
       "  <thead>\n",
       "    <tr style=\"text-align: right;\">\n",
       "      <th></th>\n",
       "      <th>satisfaction_level</th>\n",
       "      <th>last_evaluation</th>\n",
       "      <th>number_project</th>\n",
       "      <th>average_montly_hours</th>\n",
       "      <th>time_spend_company</th>\n",
       "      <th>Work_accident</th>\n",
       "      <th>quit</th>\n",
       "      <th>promotion_last_5years</th>\n",
       "      <th>department</th>\n",
       "      <th>salary</th>\n",
       "    </tr>\n",
       "  </thead>\n",
       "  <tbody>\n",
       "    <tr>\n",
       "      <th>0</th>\n",
       "      <td>0.38</td>\n",
       "      <td>0.53</td>\n",
       "      <td>2</td>\n",
       "      <td>157</td>\n",
       "      <td>3</td>\n",
       "      <td>0</td>\n",
       "      <td>1</td>\n",
       "      <td>0</td>\n",
       "      <td>sales</td>\n",
       "      <td>low</td>\n",
       "    </tr>\n",
       "    <tr>\n",
       "      <th>1</th>\n",
       "      <td>0.80</td>\n",
       "      <td>0.86</td>\n",
       "      <td>5</td>\n",
       "      <td>262</td>\n",
       "      <td>6</td>\n",
       "      <td>0</td>\n",
       "      <td>1</td>\n",
       "      <td>0</td>\n",
       "      <td>sales</td>\n",
       "      <td>medium</td>\n",
       "    </tr>\n",
       "    <tr>\n",
       "      <th>2</th>\n",
       "      <td>0.11</td>\n",
       "      <td>0.88</td>\n",
       "      <td>7</td>\n",
       "      <td>272</td>\n",
       "      <td>4</td>\n",
       "      <td>0</td>\n",
       "      <td>1</td>\n",
       "      <td>0</td>\n",
       "      <td>sales</td>\n",
       "      <td>medium</td>\n",
       "    </tr>\n",
       "    <tr>\n",
       "      <th>3</th>\n",
       "      <td>0.72</td>\n",
       "      <td>0.87</td>\n",
       "      <td>5</td>\n",
       "      <td>223</td>\n",
       "      <td>5</td>\n",
       "      <td>0</td>\n",
       "      <td>1</td>\n",
       "      <td>0</td>\n",
       "      <td>sales</td>\n",
       "      <td>low</td>\n",
       "    </tr>\n",
       "    <tr>\n",
       "      <th>4</th>\n",
       "      <td>0.37</td>\n",
       "      <td>0.52</td>\n",
       "      <td>2</td>\n",
       "      <td>159</td>\n",
       "      <td>3</td>\n",
       "      <td>0</td>\n",
       "      <td>1</td>\n",
       "      <td>0</td>\n",
       "      <td>sales</td>\n",
       "      <td>low</td>\n",
       "    </tr>\n",
       "  </tbody>\n",
       "</table>\n",
       "</div>"
      ],
      "text/plain": [
       "   satisfaction_level  last_evaluation  number_project  average_montly_hours  \\\n",
       "0                0.38             0.53               2                   157   \n",
       "1                0.80             0.86               5                   262   \n",
       "2                0.11             0.88               7                   272   \n",
       "3                0.72             0.87               5                   223   \n",
       "4                0.37             0.52               2                   159   \n",
       "\n",
       "   time_spend_company  Work_accident  quit  promotion_last_5years department  \\\n",
       "0                   3              0     1                      0      sales   \n",
       "1                   6              0     1                      0      sales   \n",
       "2                   4              0     1                      0      sales   \n",
       "3                   5              0     1                      0      sales   \n",
       "4                   3              0     1                      0      sales   \n",
       "\n",
       "   salary  \n",
       "0     low  \n",
       "1  medium  \n",
       "2  medium  \n",
       "3     low  \n",
       "4     low  "
      ]
     },
     "execution_count": 44,
     "metadata": {},
     "output_type": "execute_result"
    }
   ],
   "source": [
    "import pandas as pd\n",
    "import numpy as np\n",
    "\n",
    "# Since I am looking to create more columns to the DF, I'll modify the maximum number of columns that can be displayed.\n",
    "pd.set_option('max_columns', None)\n",
    "\n",
    "# Importing the employee data.\n",
    "employee_data = pd.read_csv('employee_data.csv')\n",
    "employee_data.head()"
   ]
  },
  {
   "cell_type": "code",
   "execution_count": 47,
   "id": "ec78508b-3925-4b7e-b26f-94909c899ac6",
   "metadata": {},
   "outputs": [
    {
     "name": "stdout",
     "output_type": "stream",
     "text": [
      "<class 'pandas.core.frame.DataFrame'>\n",
      "RangeIndex: 14999 entries, 0 to 14998\n",
      "Data columns (total 10 columns):\n",
      " #   Column                 Non-Null Count  Dtype  \n",
      "---  ------                 --------------  -----  \n",
      " 0   satisfaction_level     14999 non-null  float64\n",
      " 1   last_evaluation        14999 non-null  float64\n",
      " 2   number_project         14999 non-null  int64  \n",
      " 3   average_montly_hours   14999 non-null  int64  \n",
      " 4   time_spend_company     14999 non-null  int64  \n",
      " 5   Work_accident          14999 non-null  int64  \n",
      " 6   quit                   14999 non-null  int64  \n",
      " 7   promotion_last_5years  14999 non-null  int64  \n",
      " 8   department             14999 non-null  object \n",
      " 9   salary                 14999 non-null  object \n",
      "dtypes: float64(2), int64(6), object(2)\n",
      "memory usage: 1.1+ MB\n"
     ]
    }
   ],
   "source": [
    "# Searching for anomalies in the data. All features do not present any null value and have its proper data type assigned.\n",
    "employee_data.info()"
   ]
  },
  {
   "cell_type": "code",
   "execution_count": 54,
   "id": "eb771a07-37e5-40ed-8023-25c20b92eda8",
   "metadata": {},
   "outputs": [
    {
     "data": {
      "image/png": "[encoded data removed]",
      "text/plain": [
       "<Figure size 720x360 with 9 Axes>"
      ]
     },
     "metadata": {
      "needs_background": "light"
     },
     "output_type": "display_data"
    }
   ],
   "source": [
    "# Plotting a histograms frame looking for outliers.\n",
    "employee_data.hist(bins=20, figsize=(10,5));\n",
    "plt.tight_layout()"
   ]
  },
  {
   "cell_type": "markdown",
   "id": "72d5faf1-a688-4f51-b3ec-030c28f09ff0",
   "metadata": {},
   "source": [
    "<div> \n",
    "    <ul style='font-size:20px'> \n",
    "        <strong>> Mudar isso aqui! Falar mais sobre a importância de se ter trabalhadores experientes na empresa.</strong>\n",
    "        <li> \n",
    "            The number of people who've spent more than 7 years in the enterprise looks proportionately very small. It could be a potential indicator for disconsidering them in model training. However, when we directly check the dataset, we can see that more than 350 workers are in accordance to such condition. It would be adequate to make an algorithm that neglects the reality of such number of employees? I don't think so.\n",
    "        </li>\n",
    "        <li> \n",
    "            Also, it is worth acknowledging that we are dealing with a dataset with a unbalanced quantity of target values. The great amount of 0's will likely make it easier to the models to correctly identify them. Conversely, the lower number of 1's requires a higher efficiency of the algorithms to apprehend the patterns among tha class' instances.\n",
    "        </li>\n",
    "    </ul>\n",
    "</div>"
   ]
  },
  {
   "cell_type": "code",
   "execution_count": 63,
   "id": "0694c30b-e2de-4cc4-9890-0c4fcdf80efd",
   "metadata": {},
   "outputs": [
    {
     "name": "stdout",
     "output_type": "stream",
     "text": [
      "376\n"
     ]
    }
   ],
   "source": [
    "# The well-experienced people will be kept in the dataset.\n",
    "print(len(employee_data[employee_data.time_spend_company>7]))"
   ]
  },
  {
   "cell_type": "markdown",
   "id": "127874a9-fd0e-416b-b6df-5162af708472",
   "metadata": {},
   "source": [
    "<h2 style='font-size:30px'> Training and Test Sets</h2>\n",
    "<div> \n",
    "    <ul style='font-size:20px'> \n",
    "        <li> \n",
    "            Since salary is one of the main aspects considered when someone is deciding to stay or leave their enterprise, I'll attempt to maintain the proportions of such feature. Fortunately, that is already labeled as categories so we don't need to encode any of its values.\n",
    "        </li>\n",
    "    </ul>\n",
    "</div>"
   ]
  },
  {
   "cell_type": "code",
   "execution_count": 225,
   "id": "d7fac1ab-397b-437c-9fe0-58ebc0db6066",
   "metadata": {},
   "outputs": [],
   "source": [
    "from sklearn.model_selection import StratifiedShuffleSplit\n",
    "split = StratifiedShuffleSplit(n_splits=1, test_size=0.2, random_state=42)\n",
    "for train_index, test_index in split.split(employee_data, employee_data.salary):\n",
    "    train = employee_data.loc[train_index]\n",
    "    test = employee_data.loc[test_index]"
   ]
  },
  {
   "cell_type": "markdown",
   "id": "e4c0c630-21d1-444f-b455-a3b42d1caca6",
   "metadata": {},
   "source": [
    "<h2 style='font-size:30px'> Exploratory Analysis on the Training Data</h2>"
   ]
  },
  {
   "cell_type": "markdown",
   "id": "76c44923-2ee7-4ae9-933c-cd29198c4cbd",
   "metadata": {},
   "source": [
    "<h3 style='font-size:30px;font-style:italic'> Adding new stats</h3>\n",
    "<div> \n",
    "    <ul style='font-size:20px'> \n",
    "        <li> \n",
    "            Before diving into the data examination, it is interesting to use the data we already have in order to generate new stats that might be prove useful to our models.\n",
    "        </li>\n",
    "        <li> \n",
    "            The new columns to be added are:\n",
    "            <ul style='list-style-type:lower-alpha'>\n",
    "                <li> No of projects per years of work.</li>\n",
    "                <li> Harmonic mean between the satisfaction levels and last evaluation.</li>\n",
    "            </ul>\n",
    "        </li>\n",
    "    </ul>\n",
    "</div>"
   ]
  },
  {
   "cell_type": "code",
   "execution_count": 230,
   "id": "7d731bfb-bc8f-4222-b201-b257df8a1a9f",
   "metadata": {},
   "outputs": [],
   "source": [
    "from scipy.stats import hmean\n",
    "train['number_project_per_time_spend'] = train.number_project / train.time_spend_company\n",
    "\n",
    "# Using harmonic mean can highlight possible discrepancies between the values. For instance, a given worker might be very unsatisfied (0.2)\n",
    "# with the company, whereas their boss and team exceedingly enjoy working with them (0.9).\n",
    "\n",
    "# We'll name this stat as 'reciprocity_degree'\n",
    "train['reciprocity_degree'] = hmean([train.satisfaction_level, train.last_evaluation])"
   ]
  },
  {
   "cell_type": "markdown",
   "id": "4fb8824f-6f71-4f6a-9cd4-ee85b14f4296",
   "metadata": {},
   "source": [
    "<h3 style='font-size:30px;font-style:italic'> Densities of staying or quitting occurences according to satisfaction and salary</h3>\n",
    "<div> \n",
    "    <ul style='font-size:20px'> \n",
    "        <li> \n",
    "            The violin plot below exposes, among every salary category, the densities of quitting and staying occurences for every satisfaction degree measured.\n",
    "        </li>\n",
    "        <li> \n",
    "            In all cases, employees with contentment levels lower than 50% tend to abandon the company.\n",
    "        </li>\n",
    "    </ul>\n",
    "</div>"
   ]
  },
  {
   "cell_type": "code",
   "execution_count": 228,
   "id": "de64b8d8-e0c5-4248-ad1e-10108cee67ae",
   "metadata": {},
   "outputs": [
    {
     "data": {
      "text/plain": [
       "<AxesSubplot:xlabel='salary', ylabel='satisfaction_level'>"
      ]
     },
     "execution_count": 228,
     "metadata": {},
     "output_type": "execute_result"
    },
    {
     "data": {
      "image/png": "[encoded data removed]",
      "text/plain": [
       "<Figure size 432x288 with 1 Axes>"
      ]
     },
     "metadata": {
      "needs_background": "light"
     },
     "output_type": "display_data"
    }
   ],
   "source": [
    "sns.violinplot(data=train, x='salary', y='satisfaction_level', hue='quit',split=True, order=['low', 'medium', 'high'])"
   ]
  },
  {
   "cell_type": "markdown",
   "id": "193ca00c-fb09-43fb-8641-e7395422a32e",
   "metadata": {},
   "source": [
    "<h3 style='font-size:30px;font-style:italic'> Reciprocity scores per Department and Salary</h3>\n",
    "<div> \n",
    "    <ul style='font-size:20px'> \n",
    "        <li> \n",
    "            Now, we are zooming in the analysis about salary and satisfaction scores adding the Department feature.\n",
    "        </li>\n",
    "    </ul>\n",
    "</div>"
   ]
  },
  {
   "cell_type": "code",
   "execution_count": 232,
   "id": "c930f666-004a-4b2a-b271-cc91fd318782",
   "metadata": {},
   "outputs": [],
   "source": [
    "# Segregating the employees who've quitted and still work in the company\n",
    "only_0=train[train.quit==0]\n",
    "only_1=train[train.quit==1]"
   ]
  },
  {
   "cell_type": "code",
   "execution_count": 235,
   "id": "270e56be-6fd9-496a-bbaa-db84e761ec24",
   "metadata": {},
   "outputs": [],
   "source": [
    "# Sorting the pivot tables by 'hr' and 'support' so the index order could be ['low', 'medium', 'high']\n",
    "recip0 = pd.pivot_table(data = only_0, index='salary', columns='department', values='reciprocity_degree').sort_values(by='hr')\n",
    "recip1 = pd.pivot_table(data = only_1, index='salary', columns='department', values='reciprocity_degree').sort_values(by='support')"
   ]
  },
  {
   "cell_type": "code",
   "execution_count": 236,
   "id": "36e44777-b43d-4352-90bf-810ef926a8c8",
   "metadata": {},
   "outputs": [
    {
     "data": {
      "text/plain": [
       "Text(767.7272727272725, 0.5, '')"
      ]
     },
     "execution_count": 236,
     "metadata": {},
     "output_type": "execute_result"
    },
    {
     "data": {
      "text/plain": [
       "<Figure size 720x288 with 0 Axes>"
      ]
     },
     "metadata": {},
     "output_type": "display_data"
    },
    {
     "data": {
      "image/png": "[encoded data removed]",
      "text/plain": [
       "<Figure size 1440x360 with 4 Axes>"
      ]
     },
     "metadata": {
      "needs_background": "light"
     },
     "output_type": "display_data"
    }
   ],
   "source": [
    "import seaborn as sns\n",
    "plt.figure(figsize=(10,4))\n",
    "plt.figure(figsize=(20,5))\n",
    "plt.subplot(121)\n",
    "sns.heatmap(recip0, cmap='Blues', annot=True)\n",
    "plt.xlabel(None)\n",
    "plt.ylabel(None)\n",
    "plt.title('Stayed')\n",
    "plt.subplot(122)\n",
    "sns.heatmap(recip1, cmap='Blues', annot=True)\n",
    "plt.title('Quit')\n",
    "plt.xlabel(None)\n",
    "plt.ylabel(None)"
   ]
  },
  {
   "cell_type": "markdown",
   "id": "5033662e-512e-45c2-85a7-46f8c01593c5",
   "metadata": {},
   "source": [
    "<div> \n",
    "    <ul style='font-size:20px'> \n",
    "        <li> \n",
    "            Some pretty interesting insights on both heatmaps. People with high incomes from IT and Support areas who've left their jobs actually had a pretty decent reciprocity levels. They were probably glad with their roles so as their team was with their performance. So what could possibly persuade them to leave?\n",
    "        </li>\n",
    "    </ul>\n",
    "</div>"
   ]
  },
  {
   "cell_type": "markdown",
   "id": "f3adbabe-d939-430b-8378-1f12fe71c91b",
   "metadata": {},
   "source": [
    "<h4 style='font-size:30px;font-style:italic;text-decoration:underline'>Checking out the potential quitting outliers from the IT department </h4>\n",
    "<div> \n",
    "    <ul style='font-size:20px'> \n",
    "        <li> \n",
    "            Here, we can see the reason for the high reciprocity levels for the IT area. Two of its leaving workers had pretty high scores.\n",
    "        </li>\n",
    "        <li> \n",
    "            Since it is unusual for someone in that condition to decide to leave the company, it is necessary to analyze whether we can find another reason for the departure. If not, we'll consider those employees as noise in the data.\n",
    "        </li>\n",
    "    </ul>\n",
    "</div>"
   ]
  },
  {
   "cell_type": "code",
   "execution_count": 268,
   "id": "83b8548e-3b40-4498-bb63-2ceadee3bc10",
   "metadata": {},
   "outputs": [
    {
     "data": {
      "text/html": [
       "<div>\n",
       "<style scoped>\n",
       "    .dataframe tbody tr th:only-of-type {\n",
       "        vertical-align: middle;\n",
       "    }\n",
       "\n",
       "    .dataframe tbody tr th {\n",
       "        vertical-align: top;\n",
       "    }\n",
       "\n",
       "    .dataframe thead th {\n",
       "        text-align: right;\n",
       "    }\n",
       "</style>\n",
       "<table border=\"1\" class=\"dataframe\">\n",
       "  <thead>\n",
       "    <tr style=\"text-align: right;\">\n",
       "      <th></th>\n",
       "      <th>satisfaction_level</th>\n",
       "      <th>last_evaluation</th>\n",
       "      <th>number_project</th>\n",
       "      <th>average_montly_hours</th>\n",
       "      <th>time_spend_company</th>\n",
       "      <th>Work_accident</th>\n",
       "      <th>quit</th>\n",
       "      <th>promotion_last_5years</th>\n",
       "      <th>department</th>\n",
       "      <th>salary</th>\n",
       "      <th>number_project_per_time_spend</th>\n",
       "      <th>reciprocity_degree</th>\n",
       "    </tr>\n",
       "  </thead>\n",
       "  <tbody>\n",
       "    <tr>\n",
       "      <th>1281</th>\n",
       "      <td>0.75</td>\n",
       "      <td>0.88</td>\n",
       "      <td>5</td>\n",
       "      <td>270</td>\n",
       "      <td>5</td>\n",
       "      <td>0</td>\n",
       "      <td>1</td>\n",
       "      <td>0</td>\n",
       "      <td>IT</td>\n",
       "      <td>high</td>\n",
       "      <td>1.000000</td>\n",
       "      <td>0.809816</td>\n",
       "    </tr>\n",
       "    <tr>\n",
       "      <th>1515</th>\n",
       "      <td>0.72</td>\n",
       "      <td>0.99</td>\n",
       "      <td>5</td>\n",
       "      <td>257</td>\n",
       "      <td>5</td>\n",
       "      <td>0</td>\n",
       "      <td>1</td>\n",
       "      <td>0</td>\n",
       "      <td>IT</td>\n",
       "      <td>high</td>\n",
       "      <td>1.000000</td>\n",
       "      <td>0.833684</td>\n",
       "    </tr>\n",
       "    <tr>\n",
       "      <th>1359</th>\n",
       "      <td>0.46</td>\n",
       "      <td>0.46</td>\n",
       "      <td>2</td>\n",
       "      <td>145</td>\n",
       "      <td>3</td>\n",
       "      <td>0</td>\n",
       "      <td>1</td>\n",
       "      <td>0</td>\n",
       "      <td>IT</td>\n",
       "      <td>high</td>\n",
       "      <td>0.666667</td>\n",
       "      <td>0.460000</td>\n",
       "    </tr>\n",
       "    <tr>\n",
       "      <th>1437</th>\n",
       "      <td>0.40</td>\n",
       "      <td>0.53</td>\n",
       "      <td>2</td>\n",
       "      <td>155</td>\n",
       "      <td>3</td>\n",
       "      <td>0</td>\n",
       "      <td>1</td>\n",
       "      <td>0</td>\n",
       "      <td>IT</td>\n",
       "      <td>high</td>\n",
       "      <td>0.666667</td>\n",
       "      <td>0.455914</td>\n",
       "    </tr>\n",
       "  </tbody>\n",
       "</table>\n",
       "</div>"
      ],
      "text/plain": [
       "      satisfaction_level  last_evaluation  number_project  \\\n",
       "1281                0.75             0.88               5   \n",
       "1515                0.72             0.99               5   \n",
       "1359                0.46             0.46               2   \n",
       "1437                0.40             0.53               2   \n",
       "\n",
       "      average_montly_hours  time_spend_company  Work_accident  quit  \\\n",
       "1281                   270                   5              0     1   \n",
       "1515                   257                   5              0     1   \n",
       "1359                   145                   3              0     1   \n",
       "1437                   155                   3              0     1   \n",
       "\n",
       "      promotion_last_5years department salary  number_project_per_time_spend  \\\n",
       "1281                      0         IT   high                       1.000000   \n",
       "1515                      0         IT   high                       1.000000   \n",
       "1359                      0         IT   high                       0.666667   \n",
       "1437                      0         IT   high                       0.666667   \n",
       "\n",
       "      reciprocity_degree  \n",
       "1281            0.809816  \n",
       "1515            0.833684  \n",
       "1359            0.460000  \n",
       "1437            0.455914  "
      ]
     },
     "execution_count": 268,
     "metadata": {},
     "output_type": "execute_result"
    }
   ],
   "source": [
    "# Checking out the potential quitting outliers from the IT department. There are two people with reciprocity levels higher than 0.8\n",
    "quit_it = only_1[(only_1['department']=='IT') & (only_1['salary']=='high')]\n",
    "quit_it"
   ]
  },
  {
   "cell_type": "code",
   "execution_count": 305,
   "id": "73f4c535-601d-4c92-b33b-efdcea7bc80d",
   "metadata": {},
   "outputs": [
    {
     "data": {
      "text/plain": [
       "satisfaction_level                 0.73500\n",
       "last_evaluation                    0.93500\n",
       "number_project                     5.00000\n",
       "average_montly_hours             263.50000\n",
       "time_spend_company                 5.00000\n",
       "Work_accident                      0.00000\n",
       "quit                               1.00000\n",
       "promotion_last_5years              0.00000\n",
       "number_project_per_time_spend      1.00000\n",
       "reciprocity_degree                 0.82175\n",
       "dtype: float64"
      ]
     },
     "execution_count": 305,
     "metadata": {},
     "output_type": "execute_result"
    }
   ],
   "source": [
    "quit_it[quit_it['reciprocity_degree']>0.8].mean()"
   ]
  },
  {
   "cell_type": "code",
   "execution_count": 255,
   "id": "1d962c5c-a1c8-4a16-9033-9d570955c82f",
   "metadata": {},
   "outputs": [
    {
     "data": {
      "text/plain": [
       "satisfaction_level                 0.925000\n",
       "last_evaluation                    0.805000\n",
       "number_project                     3.625000\n",
       "average_montly_hours             198.250000\n",
       "time_spend_company                 3.000000\n",
       "Work_accident                      0.125000\n",
       "quit                               0.000000\n",
       "promotion_last_5years              0.000000\n",
       "number_project_per_time_spend      1.291667\n",
       "reciprocity_degree                 0.857455\n",
       "dtype: float64"
      ]
     },
     "execution_count": 255,
     "metadata": {},
     "output_type": "execute_result"
    }
   ],
   "source": [
    "# Now, looking at the staying workers with similar characteristics as these two, is there any other aspect that can differentiate\n",
    "# them?\n",
    "only_0[(only_0['department']=='IT') & (only_0['salary']=='high') & (only_0['reciprocity_degree']>0.8)].mean()"
   ]
  },
  {
   "cell_type": "markdown",
   "id": "4552368c-c616-4bb9-b7df-a6fca15cbd8d",
   "metadata": {},
   "source": [
    "<div> \n",
    "    <ul style='font-size:20px'> \n",
    "        <li> \n",
    "            The answer is yes! The deserters have a lower satisfaction score and work for many more hours than their staying counterparts. Therefore, we won't consider them as noise.\n",
    "        </li>\n",
    "    </ul>\n",
    "</div>"
   ]
  },
  {
   "cell_type": "markdown",
   "id": "6bb168f9-1943-4c8a-b230-514558f8b5ed",
   "metadata": {},
   "source": [
    "<h4 style='font-size:30px;font-style:italic;text-decoration:underline'>Checking out the potential quitting outliers from the Support department </h4>\n",
    "<div> \n",
    "    <ul style='font-size:20px'> \n",
    "        <li> \n",
    "            Doing the same process now regarding the Support area. In this case, there are three employees with a reciprocity level higher than 0.8.\n",
    "        </li>\n",
    "    </ul>\n",
    "</div>"
   ]
  },
  {
   "cell_type": "code",
   "execution_count": 272,
   "id": "d5a02f0e-fd5e-4a29-bb3c-d57ee37da7d1",
   "metadata": {},
   "outputs": [
    {
     "data": {
      "text/html": [
       "<div>\n",
       "<style scoped>\n",
       "    .dataframe tbody tr th:only-of-type {\n",
       "        vertical-align: middle;\n",
       "    }\n",
       "\n",
       "    .dataframe tbody tr th {\n",
       "        vertical-align: top;\n",
       "    }\n",
       "\n",
       "    .dataframe thead th {\n",
       "        text-align: right;\n",
       "    }\n",
       "</style>\n",
       "<table border=\"1\" class=\"dataframe\">\n",
       "  <thead>\n",
       "    <tr style=\"text-align: right;\">\n",
       "      <th></th>\n",
       "      <th>satisfaction_level</th>\n",
       "      <th>last_evaluation</th>\n",
       "      <th>number_project</th>\n",
       "      <th>average_montly_hours</th>\n",
       "      <th>time_spend_company</th>\n",
       "      <th>Work_accident</th>\n",
       "      <th>quit</th>\n",
       "      <th>promotion_last_5years</th>\n",
       "      <th>department</th>\n",
       "      <th>salary</th>\n",
       "      <th>number_project_per_time_spend</th>\n",
       "      <th>reciprocity_degree</th>\n",
       "    </tr>\n",
       "  </thead>\n",
       "  <tbody>\n",
       "    <tr>\n",
       "      <th>891</th>\n",
       "      <td>0.75</td>\n",
       "      <td>0.86</td>\n",
       "      <td>5</td>\n",
       "      <td>237</td>\n",
       "      <td>5</td>\n",
       "      <td>0</td>\n",
       "      <td>1</td>\n",
       "      <td>0</td>\n",
       "      <td>support</td>\n",
       "      <td>high</td>\n",
       "      <td>1.000000</td>\n",
       "      <td>0.801242</td>\n",
       "    </tr>\n",
       "    <tr>\n",
       "      <th>735</th>\n",
       "      <td>0.83</td>\n",
       "      <td>0.99</td>\n",
       "      <td>5</td>\n",
       "      <td>258</td>\n",
       "      <td>5</td>\n",
       "      <td>0</td>\n",
       "      <td>1</td>\n",
       "      <td>0</td>\n",
       "      <td>support</td>\n",
       "      <td>high</td>\n",
       "      <td>1.000000</td>\n",
       "      <td>0.902967</td>\n",
       "    </tr>\n",
       "    <tr>\n",
       "      <th>12657</th>\n",
       "      <td>0.43</td>\n",
       "      <td>0.55</td>\n",
       "      <td>2</td>\n",
       "      <td>130</td>\n",
       "      <td>3</td>\n",
       "      <td>0</td>\n",
       "      <td>1</td>\n",
       "      <td>0</td>\n",
       "      <td>support</td>\n",
       "      <td>high</td>\n",
       "      <td>0.666667</td>\n",
       "      <td>0.482653</td>\n",
       "    </tr>\n",
       "    <tr>\n",
       "      <th>12735</th>\n",
       "      <td>0.83</td>\n",
       "      <td>0.99</td>\n",
       "      <td>5</td>\n",
       "      <td>258</td>\n",
       "      <td>5</td>\n",
       "      <td>0</td>\n",
       "      <td>1</td>\n",
       "      <td>0</td>\n",
       "      <td>support</td>\n",
       "      <td>high</td>\n",
       "      <td>1.000000</td>\n",
       "      <td>0.902967</td>\n",
       "    </tr>\n",
       "    <tr>\n",
       "      <th>813</th>\n",
       "      <td>0.15</td>\n",
       "      <td>0.55</td>\n",
       "      <td>6</td>\n",
       "      <td>139</td>\n",
       "      <td>4</td>\n",
       "      <td>0</td>\n",
       "      <td>1</td>\n",
       "      <td>0</td>\n",
       "      <td>support</td>\n",
       "      <td>high</td>\n",
       "      <td>1.500000</td>\n",
       "      <td>0.235714</td>\n",
       "    </tr>\n",
       "  </tbody>\n",
       "</table>\n",
       "</div>"
      ],
      "text/plain": [
       "       satisfaction_level  last_evaluation  number_project  \\\n",
       "891                  0.75             0.86               5   \n",
       "735                  0.83             0.99               5   \n",
       "12657                0.43             0.55               2   \n",
       "12735                0.83             0.99               5   \n",
       "813                  0.15             0.55               6   \n",
       "\n",
       "       average_montly_hours  time_spend_company  Work_accident  quit  \\\n",
       "891                     237                   5              0     1   \n",
       "735                     258                   5              0     1   \n",
       "12657                   130                   3              0     1   \n",
       "12735                   258                   5              0     1   \n",
       "813                     139                   4              0     1   \n",
       "\n",
       "       promotion_last_5years department salary  number_project_per_time_spend  \\\n",
       "891                        0    support   high                       1.000000   \n",
       "735                        0    support   high                       1.000000   \n",
       "12657                      0    support   high                       0.666667   \n",
       "12735                      0    support   high                       1.000000   \n",
       "813                        0    support   high                       1.500000   \n",
       "\n",
       "       reciprocity_degree  \n",
       "891              0.801242  \n",
       "735              0.902967  \n",
       "12657            0.482653  \n",
       "12735            0.902967  \n",
       "813              0.235714  "
      ]
     },
     "execution_count": 272,
     "metadata": {},
     "output_type": "execute_result"
    }
   ],
   "source": [
    "quit_support = only_1[(only_1['department']=='support') & (only_1['salary']=='high')]\n",
    "quit_support"
   ]
  },
  {
   "cell_type": "code",
   "execution_count": 273,
   "id": "cf3bfc19-b05f-41a1-842a-ebe121d4fe6f",
   "metadata": {},
   "outputs": [
    {
     "data": {
      "text/plain": [
       "satisfaction_level                 0.803333\n",
       "last_evaluation                    0.946667\n",
       "number_project                     5.000000\n",
       "average_montly_hours             251.000000\n",
       "time_spend_company                 5.000000\n",
       "Work_accident                      0.000000\n",
       "quit                               1.000000\n",
       "promotion_last_5years              0.000000\n",
       "number_project_per_time_spend      1.000000\n",
       "reciprocity_degree                 0.869059\n",
       "dtype: float64"
      ]
     },
     "execution_count": 273,
     "metadata": {},
     "output_type": "execute_result"
    }
   ],
   "source": [
    "# Extracting the mean of the features from the quitting workers.\n",
    "quit_support[quit_support['reciprocity_degree']>0.8].mean()"
   ]
  },
  {
   "cell_type": "code",
   "execution_count": 274,
   "id": "d47981ba-423b-4607-8c7c-f9ba2010d63a",
   "metadata": {},
   "outputs": [
    {
     "data": {
      "text/plain": [
       "satisfaction_level                 0.878800\n",
       "last_evaluation                    0.874400\n",
       "number_project                     3.720000\n",
       "average_montly_hours             200.520000\n",
       "time_spend_company                 3.000000\n",
       "Work_accident                      0.160000\n",
       "quit                               0.000000\n",
       "promotion_last_5years              0.000000\n",
       "number_project_per_time_spend      1.405333\n",
       "reciprocity_degree                 0.870608\n",
       "dtype: float64"
      ]
     },
     "execution_count": 274,
     "metadata": {},
     "output_type": "execute_result"
    }
   ],
   "source": [
    "# Doing the same for those who still work for the enterprise.\n",
    "only_0[(only_0['department']=='support') & (only_0['salary']=='high') & (only_0['reciprocity_degree']>0.8)].mean()"
   ]
  },
  {
   "cell_type": "markdown",
   "id": "7cb7e06b-14ba-4e48-84c4-bb79f299a676",
   "metadata": {},
   "source": [
    "<div> \n",
    "    <ul style='font-size:20px'> \n",
    "        <li> \n",
    "            Here, the satisfaction score doesn't seem to be part of the problem. However, the deserters still work for more hours than the ones who yet are employed in the company.\n",
    "        </li>\n",
    "    </ul>\n",
    "</div>"
   ]
  },
  {
   "cell_type": "code",
   "execution_count": 276,
   "id": "85e50ed7-e820-4bcf-8a6a-b8ffc3815456",
   "metadata": {},
   "outputs": [
    {
     "data": {
      "text/html": [
       "<div>\n",
       "<style scoped>\n",
       "    .dataframe tbody tr th:only-of-type {\n",
       "        vertical-align: middle;\n",
       "    }\n",
       "\n",
       "    .dataframe tbody tr th {\n",
       "        vertical-align: top;\n",
       "    }\n",
       "\n",
       "    .dataframe thead th {\n",
       "        text-align: right;\n",
       "    }\n",
       "</style>\n",
       "<table border=\"1\" class=\"dataframe\">\n",
       "  <thead>\n",
       "    <tr style=\"text-align: right;\">\n",
       "      <th></th>\n",
       "      <th>satisfaction_level</th>\n",
       "      <th>last_evaluation</th>\n",
       "      <th>number_project</th>\n",
       "      <th>average_montly_hours</th>\n",
       "      <th>time_spend_company</th>\n",
       "      <th>Work_accident</th>\n",
       "      <th>quit</th>\n",
       "      <th>promotion_last_5years</th>\n",
       "      <th>department</th>\n",
       "      <th>salary</th>\n",
       "      <th>number_project_per_time_spend</th>\n",
       "      <th>reciprocity_degree</th>\n",
       "    </tr>\n",
       "  </thead>\n",
       "  <tbody>\n",
       "    <tr>\n",
       "      <th>11263</th>\n",
       "      <td>0.98</td>\n",
       "      <td>0.98</td>\n",
       "      <td>4</td>\n",
       "      <td>170</td>\n",
       "      <td>10</td>\n",
       "      <td>0</td>\n",
       "      <td>0</td>\n",
       "      <td>0</td>\n",
       "      <td>IT</td>\n",
       "      <td>medium</td>\n",
       "      <td>0.400000</td>\n",
       "      <td>0.980000</td>\n",
       "    </tr>\n",
       "    <tr>\n",
       "      <th>1753</th>\n",
       "      <td>0.91</td>\n",
       "      <td>1.00</td>\n",
       "      <td>4</td>\n",
       "      <td>245</td>\n",
       "      <td>6</td>\n",
       "      <td>0</td>\n",
       "      <td>1</td>\n",
       "      <td>0</td>\n",
       "      <td>RandD</td>\n",
       "      <td>medium</td>\n",
       "      <td>0.666667</td>\n",
       "      <td>0.952880</td>\n",
       "    </tr>\n",
       "    <tr>\n",
       "      <th>3981</th>\n",
       "      <td>0.70</td>\n",
       "      <td>0.78</td>\n",
       "      <td>4</td>\n",
       "      <td>254</td>\n",
       "      <td>4</td>\n",
       "      <td>0</td>\n",
       "      <td>0</td>\n",
       "      <td>0</td>\n",
       "      <td>sales</td>\n",
       "      <td>low</td>\n",
       "      <td>1.000000</td>\n",
       "      <td>0.737838</td>\n",
       "    </tr>\n",
       "    <tr>\n",
       "      <th>14300</th>\n",
       "      <td>0.10</td>\n",
       "      <td>0.79</td>\n",
       "      <td>6</td>\n",
       "      <td>291</td>\n",
       "      <td>4</td>\n",
       "      <td>0</td>\n",
       "      <td>1</td>\n",
       "      <td>0</td>\n",
       "      <td>sales</td>\n",
       "      <td>low</td>\n",
       "      <td>1.500000</td>\n",
       "      <td>0.177528</td>\n",
       "    </tr>\n",
       "    <tr>\n",
       "      <th>12943</th>\n",
       "      <td>0.28</td>\n",
       "      <td>0.95</td>\n",
       "      <td>5</td>\n",
       "      <td>191</td>\n",
       "      <td>3</td>\n",
       "      <td>0</td>\n",
       "      <td>0</td>\n",
       "      <td>0</td>\n",
       "      <td>support</td>\n",
       "      <td>high</td>\n",
       "      <td>1.666667</td>\n",
       "      <td>0.432520</td>\n",
       "    </tr>\n",
       "  </tbody>\n",
       "</table>\n",
       "</div>"
      ],
      "text/plain": [
       "       satisfaction_level  last_evaluation  number_project  \\\n",
       "11263                0.98             0.98               4   \n",
       "1753                 0.91             1.00               4   \n",
       "3981                 0.70             0.78               4   \n",
       "14300                0.10             0.79               6   \n",
       "12943                0.28             0.95               5   \n",
       "\n",
       "       average_montly_hours  time_spend_company  Work_accident  quit  \\\n",
       "11263                   170                  10              0     0   \n",
       "1753                    245                   6              0     1   \n",
       "3981                    254                   4              0     0   \n",
       "14300                   291                   4              0     1   \n",
       "12943                   191                   3              0     0   \n",
       "\n",
       "       promotion_last_5years department  salary  \\\n",
       "11263                      0         IT  medium   \n",
       "1753                       0      RandD  medium   \n",
       "3981                       0      sales     low   \n",
       "14300                      0      sales     low   \n",
       "12943                      0    support    high   \n",
       "\n",
       "       number_project_per_time_spend  reciprocity_degree  \n",
       "11263                       0.400000            0.980000  \n",
       "1753                        0.666667            0.952880  \n",
       "3981                        1.000000            0.737838  \n",
       "14300                       1.500000            0.177528  \n",
       "12943                       1.666667            0.432520  "
      ]
     },
     "execution_count": 276,
     "metadata": {},
     "output_type": "execute_result"
    }
   ],
   "source": [
    "train.head()#.groupby('quit')['satisfaction_level'].mean()"
   ]
  },
  {
   "cell_type": "markdown",
   "id": "296aeaa8-327c-4ffa-b123-7c4307086d66",
   "metadata": {},
   "source": [
    "<h3 style='font-size:30px;font-style:italic'> Workload as a factor for departure</h3>\n",
    "<div> \n",
    "    <ul style='font-size:20px'> \n",
    "        <li> \n",
    "            The quantity of tasks that are assigned to a given worker is a vital aspect regarding their satisfaction. Offering fewer projects can make them feel undervalued; at the same time, participating in a high number of activities is prone to become something stressful.\n",
    "        </li>\n",
    "    </ul>\n",
    "</div>"
   ]
  },
  {
   "cell_type": "code",
   "execution_count": 306,
   "id": "66d94643-dd0b-432a-b6f4-002f61116c11",
   "metadata": {},
   "outputs": [],
   "source": [
    "# For each department, what is the average number of projects that the quitting and staying people have been assigned?\n",
    "# Let's plot another pair of heatmaps to check if there are any differences.\n",
    "projec_per_0 = pd.pivot_table(data = only_0, index='department', values='number_project_per_time_spend')\n",
    "projec_per_1 = pd.pivot_table(data = only_1, index='department', values='number_project_per_time_spend')"
   ]
  },
  {
   "cell_type": "code",
   "execution_count": 309,
   "id": "5caea4f2-650c-4564-8a94-25943c6b924a",
   "metadata": {},
   "outputs": [
    {
     "data": {
      "image/png": "[encoded data removed]",
      "text/plain": [
       "<Figure size 864x288 with 4 Axes>"
      ]
     },
     "metadata": {
      "needs_background": "light"
     },
     "output_type": "display_data"
    }
   ],
   "source": [
    "plt.figure(figsize=(12,4))\n",
    "# Heatmap for those who are still employed.\n",
    "plt.subplot(121)\n",
    "sns.heatmap(projec_per_0, cmap='Blues')\n",
    "plt.xlabel(None)\n",
    "plt.ylabel(None)\n",
    "plt.title('Stayed')\n",
    "# Heatmap for those who have left their jobs.\n",
    "plt.subplot(122)\n",
    "sns.heatmap(projec_per_1, cmap='Blues')\n",
    "plt.xlabel(None)\n",
    "plt.ylabel(None)\n",
    "plt.title('Quit')\n",
    "plt.tight_layout()"
   ]
  },
  {
   "cell_type": "markdown",
   "id": "4611935b-5d7f-4fca-92cb-ceba6c908173",
   "metadata": {},
   "source": [
    "<div> \n",
    "    <ul style='font-size:20px'> \n",
    "        <li> \n",
    "            The deserters tend to have a slightly lower average amount of projects during their tenure.\n",
    "        </li>\n",
    "    </ul>\n",
    "</div>"
   ]
  }
 ],
 "metadata": {
  "kernelspec": {
   "display_name": "Python 3",
   "language": "python",
   "name": "python3"
  },
  "language_info": {
   "codemirror_mode": {
    "name": "ipython",
    "version": 3
   },
   "file_extension": ".py",
   "mimetype": "text/x-python",
   "name": "python",
   "nbconvert_exporter": "python",
   "pygments_lexer": "ipython3",
   "version": "3.8.8"
  }
 },
 "nbformat": 4,
 "nbformat_minor": 5
}
